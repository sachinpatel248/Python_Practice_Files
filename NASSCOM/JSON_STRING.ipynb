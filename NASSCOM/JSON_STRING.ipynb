{
 "cells": [
  {
   "cell_type": "code",
   "execution_count": 23,
   "metadata": {},
   "outputs": [],
   "source": [
    "import json\n",
    "from json import JSONEncoder\n",
    "import csv"
   ]
  },
  {
   "cell_type": "code",
   "execution_count": 2,
   "metadata": {},
   "outputs": [],
   "source": [
    "class Disease(object):\n",
    "    priority = \"\"\n",
    "    label = \"\"\n",
    "    probablity = 0\n",
    "\n",
    "    def __init__(self, priority, label, probablity):\n",
    "        self.priority = priority\n",
    "        self.label = label\n",
    "        self.probablity = probablity\n",
    "\n",
    "def Get_Disease_Object(priority, label, probablity):\n",
    "    disease_Object = Disease(priority, label, probablity)\n",
    "    return disease_Object\n",
    "    "
   ]
  },
  {
   "cell_type": "code",
   "execution_count": 10,
   "metadata": {},
   "outputs": [],
   "source": [
    "list_Disease_List = []"
   ]
  },
  {
   "cell_type": "code",
   "execution_count": 22,
   "metadata": {},
   "outputs": [
    {
     "ename": "TypeError",
     "evalue": "__init__() missing 2 required positional arguments: 'label' and 'probablity'",
     "output_type": "error",
     "traceback": [
      "\u001b[1;31m---------------------------------------------------------------------------\u001b[0m",
      "\u001b[1;31mTypeError\u001b[0m                                 Traceback (most recent call last)",
      "\u001b[1;32m<ipython-input-22-603af54bf4f5>\u001b[0m in \u001b[0;36m<module>\u001b[1;34m()\u001b[0m\n\u001b[1;32m----> 1\u001b[1;33m \u001b[0mdisease_Object\u001b[0m \u001b[1;33m=\u001b[0m \u001b[0mDisease\u001b[0m\u001b[1;33m(\u001b[0m\u001b[0mpriority\u001b[0m\u001b[1;33m=\u001b[0m\u001b[1;36m1\u001b[0m\u001b[1;33m)\u001b[0m\u001b[1;33m\u001b[0m\u001b[0m\n\u001b[0m\u001b[0;32m      2\u001b[0m \u001b[0mlist_Disease_List\u001b[0m\u001b[1;33m.\u001b[0m\u001b[0mappend\u001b[0m\u001b[1;33m(\u001b[0m\u001b[0mdisease_Object\u001b[0m\u001b[1;33m)\u001b[0m\u001b[1;33m\u001b[0m\u001b[0m\n\u001b[0;32m      3\u001b[0m \u001b[1;33m\u001b[0m\u001b[0m\n\u001b[0;32m      4\u001b[0m \u001b[1;33m\u001b[0m\u001b[0m\n\u001b[0;32m      5\u001b[0m \u001b[0mdisease_Object\u001b[0m \u001b[1;33m=\u001b[0m \u001b[0mDisease\u001b[0m\u001b[1;33m(\u001b[0m\u001b[1;36m2\u001b[0m\u001b[1;33m,\u001b[0m \u001b[1;34m'diseased apple scab'\u001b[0m\u001b[1;33m,\u001b[0m \u001b[1;36m2.35675\u001b[0m \u001b[1;33m)\u001b[0m\u001b[1;33m\u001b[0m\u001b[0m\n",
      "\u001b[1;31mTypeError\u001b[0m: __init__() missing 2 required positional arguments: 'label' and 'probablity'"
     ]
    }
   ],
   "source": [
    "disease_Object = Disease(priority=1, 'healthy apple plant', 95.23922 )\n",
    "list_Disease_List.append(disease_Object)\n",
    "\n",
    "\n",
    "disease_Object = Disease(2, 'diseased apple scab', 2.35675 )\n",
    "list_Disease_List.append(disease_Object)\n",
    "\n",
    "disease_Object = Disease(3, 'diseased fireblight', 0.83376 )\n",
    "list_Disease_List.append(disease_Object)"
   ]
  },
  {
   "cell_type": "code",
   "execution_count": 20,
   "metadata": {},
   "outputs": [],
   "source": [
    "json_str = json.dumps(list_Disease_List, default=lambda o: o.__dict__)"
   ]
  },
  {
   "cell_type": "code",
   "execution_count": 14,
   "metadata": {},
   "outputs": [
    {
     "name": "stdout",
     "output_type": "stream",
     "text": [
      "[{\"priority\": 1, \"label\": \"healthy apple plant\", \"probablity\": 95.23922}, {\"priority\": 2, \"label\": \"diseased apple scab\", \"probablity\": 2.35675}, {\"priority\": 3, \"label\": \"diseased fireblight\", \"probablity\": 0.83376}]\n"
     ]
    }
   ],
   "source": [
    "print(json_str)"
   ]
  },
  {
   "cell_type": "code",
   "execution_count": null,
   "metadata": {},
   "outputs": [],
   "source": []
  }
 ],
 "metadata": {
  "kernelspec": {
   "display_name": "Python 3",
   "language": "python",
   "name": "python3"
  },
  "language_info": {
   "codemirror_mode": {
    "name": "ipython",
    "version": 3
   },
   "file_extension": ".py",
   "mimetype": "text/x-python",
   "name": "python",
   "nbconvert_exporter": "python",
   "pygments_lexer": "ipython3",
   "version": "3.6.4"
  }
 },
 "nbformat": 4,
 "nbformat_minor": 2
}
