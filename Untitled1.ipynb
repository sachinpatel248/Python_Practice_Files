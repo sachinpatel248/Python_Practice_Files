{
 "cells": [
  {
   "cell_type": "code",
   "execution_count": 1,
   "metadata": {},
   "outputs": [
    {
     "name": "stdout",
     "output_type": "stream",
     "text": [
      "Start\n"
     ]
    }
   ],
   "source": [
    "import numpy as np # linear algebra\n",
    "import pandas as pd # data processing, CSV file I/O (e.g. pd.read_csv)\n",
    "import matplotlib.pyplot as plt\n",
    "from sklearn.metrics import confusion_matrix, classification_report\n",
    "from sklearn.model_selection import train_test_split\n",
    "from sklearn.neural_network import MLPClassifier\n",
    "from sklearn.ensemble import RandomForestClassifier\n",
    "import pickle\n",
    "\n",
    "print(\"Start\")\n",
    "\n",
    "csv_File_Path = r'C:\\Users\\sachin13390\\Desktop\\Digits_Data\\train.csv'\n",
    "\n",
    "model_File_Path = r'C:\\Users\\sachin13390\\Desktop\\RF_Model.pkl'"
   ]
  },
  {
   "cell_type": "code",
   "execution_count": 2,
   "metadata": {},
   "outputs": [],
   "source": [
    "df = pd.read_csv(csv_File_Path)\n",
    "\n",
    "X = df.drop('label',axis = 1)\n",
    "y = df['label']\n",
    "\n",
    "X_train, X_test, y_train, y_test = train_test_split(X, y, test_size=0.6, random_state=42)"
   ]
  },
  {
   "cell_type": "code",
   "execution_count": 24,
   "metadata": {},
   "outputs": [],
   "source": [
    "from sklearn.neural_network import MLPClassifier"
   ]
  },
  {
   "cell_type": "code",
   "execution_count": 25,
   "metadata": {},
   "outputs": [],
   "source": [
    "nn = MLPClassifier(hidden_layer_sizes=(512,512,512), batch_size=35,alpha = 1e-3,verbose=4,random_state=42,momentum=0)"
   ]
  },
  {
   "cell_type": "code",
   "execution_count": 26,
   "metadata": {},
   "outputs": [
    {
     "name": "stdout",
     "output_type": "stream",
     "text": [
      "Iteration 1, loss = 1.32474922\n",
      "Iteration 2, loss = 0.30363304\n",
      "Iteration 3, loss = 0.21291679\n",
      "Iteration 4, loss = 0.21417939\n",
      "Iteration 5, loss = 0.16788847\n",
      "Iteration 6, loss = 0.15808634\n",
      "Iteration 7, loss = 0.14705131\n",
      "Iteration 8, loss = 0.12217337\n",
      "Iteration 9, loss = 0.13711165\n",
      "Iteration 10, loss = 0.14360292\n",
      "Iteration 11, loss = 0.11523288\n",
      "Iteration 12, loss = 0.12939667\n",
      "Iteration 13, loss = 0.15608885\n",
      "Iteration 14, loss = 0.09783803\n",
      "Iteration 15, loss = 0.11655858\n",
      "Iteration 16, loss = 0.10521262\n",
      "Iteration 17, loss = 0.09285385\n",
      "Iteration 18, loss = 0.11275750\n",
      "Iteration 19, loss = 0.11223872\n",
      "Iteration 20, loss = 0.09918589\n",
      "Training loss did not improve more than tol=0.000100 for two consecutive epochs. Stopping.\n"
     ]
    },
    {
     "data": {
      "text/plain": [
       "MLPClassifier(activation='relu', alpha=0.001, batch_size=35, beta_1=0.9,\n",
       "       beta_2=0.999, early_stopping=False, epsilon=1e-08,\n",
       "       hidden_layer_sizes=(512, 512, 512), learning_rate='constant',\n",
       "       learning_rate_init=0.001, max_iter=200, momentum=0,\n",
       "       nesterovs_momentum=True, power_t=0.5, random_state=42, shuffle=True,\n",
       "       solver='adam', tol=0.0001, validation_fraction=0.1, verbose=4,\n",
       "       warm_start=False)"
      ]
     },
     "execution_count": 26,
     "metadata": {},
     "output_type": "execute_result"
    }
   ],
   "source": [
    "nn.fit(X_train,y_train)"
   ]
  },
  {
   "cell_type": "code",
   "execution_count": 33,
   "metadata": {},
   "outputs": [],
   "source": [
    "with open(model_File_Path, 'wb') as fid:\n",
    "    pickle.dump(nn, fid)"
   ]
  },
  {
   "cell_type": "code",
   "execution_count": 34,
   "metadata": {},
   "outputs": [],
   "source": [
    "with open(model_File_Path, 'rb') as rf_model:\n",
    "    RF_Model = pickle.load(rf_model)"
   ]
  },
  {
   "cell_type": "code",
   "execution_count": 66,
   "metadata": {},
   "outputs": [
    {
     "data": {
      "text/plain": [
       "array([2], dtype=int64)"
      ]
     },
     "execution_count": 66,
     "metadata": {},
     "output_type": "execute_result"
    }
   ],
   "source": [
    "import cv2\n",
    "image = cv2.imread(r'C:\\Users\\sachin13390\\Desktop\\3.png',0)\n",
    "\n",
    "RF_Model.predict(image.reshape(1,-1))"
   ]
  },
  {
   "cell_type": "code",
   "execution_count": null,
   "metadata": {},
   "outputs": [],
   "source": []
  },
  {
   "cell_type": "code",
   "execution_count": null,
   "metadata": {},
   "outputs": [],
   "source": []
  },
  {
   "cell_type": "code",
   "execution_count": null,
   "metadata": {},
   "outputs": [],
   "source": []
  }
 ],
 "metadata": {
  "kernelspec": {
   "display_name": "Python 3",
   "language": "python",
   "name": "python3"
  },
  "language_info": {
   "codemirror_mode": {
    "name": "ipython",
    "version": 3
   },
   "file_extension": ".py",
   "mimetype": "text/x-python",
   "name": "python",
   "nbconvert_exporter": "python",
   "pygments_lexer": "ipython3",
   "version": "3.6.0"
  }
 },
 "nbformat": 4,
 "nbformat_minor": 2
}
