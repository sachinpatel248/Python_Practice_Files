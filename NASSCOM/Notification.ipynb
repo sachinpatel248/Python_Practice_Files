{
 "cells": [
  {
   "cell_type": "code",
   "execution_count": 30,
   "metadata": {},
   "outputs": [],
   "source": [
    "import json\n",
    "import csv\n",
    "import pandas\n",
    "import ast\n",
    "import datetime\n",
    "import os\n",
    "from datetime import timedelta as TimeDelta\n",
    "import pyodbc"
   ]
  },
  {
   "cell_type": "code",
   "execution_count": 95,
   "metadata": {},
   "outputs": [],
   "source": [
    "class Notification(object):\n",
    "    ID = 0   \n",
    "    FarmerID = 0   \n",
    "    Farmer_Mobile_Number = 0\n",
    "    \n",
    "    Resource_Type = 0\n",
    "    Sub_Resource_Type = ''\n",
    "    Job_Type = ''\n",
    "    No_Of_Resources = 0\n",
    "    \n",
    "    Latitude = 0\n",
    "    Longitude = 0\n",
    "    \n",
    "    Start_Date = 0\n",
    "    End_Date = 0\n",
    "    \n",
    "    Published_Date = 0\n",
    "    \n",
    "    def __init__(self, ID, farmerID ,farmer_Mobile_Number, resource_Type, sub_resource_Type, job_Type, no_Of_Resources, latitude, longitude ,start_Date, end_Date, published_Date):\n",
    "        self.ID = ID\n",
    "        \n",
    "        self.FarmerID = farmerID\n",
    "        self.Farmer_Mobile_Number = farmer_Mobile_Number\n",
    "        \n",
    "        self.Resource_Type = resource_Type \n",
    "        self.No_Of_Resources = no_Of_Resources\n",
    "        self.Sub_Resource_Type = sub_resource_Type\n",
    "        self.Job_Type = job_Type\n",
    "        \n",
    "        self.Latitude = latitude\n",
    "        self.Longitude = longitude\n",
    "        \n",
    "        self.Start_Date = start_Date\n",
    "        self.End_Date = end_Date\n",
    "        \n",
    "        self.Published_Date = published_Date\n",
    "    \n",
    "    def __str__(self):\n",
    "        return (str(self.__dict__))"
   ]
  },
  {
   "cell_type": "code",
   "execution_count": 129,
   "metadata": {},
   "outputs": [],
   "source": [
    "def Create_Notification_Object(list_Notification_Object):\n",
    "    ID  = list_Notification_Object[0]\n",
    "    farmerID = list_Notification_Object[1]\n",
    "    farmer_Mobile_Number = list_Notification_Object[2]\n",
    "    resource_Type = list_Notification_Object[3]\n",
    "    sub_resource_Type = list_Notification_Object[4]\n",
    "    job_Type = list_Notification_Object[5]\n",
    "    no_Of_Resources = list_Notification_Object[6]\n",
    "    latitude = float(list_Notification_Object[7])\n",
    "    longitude = float(list_Notification_Object[8])\n",
    "    \n",
    "    start_Date = str(list_Notification_Object[9])\n",
    "    end_Date = str(list_Notification_Object[10])\n",
    "    published_Date = str(list_Notification_Object[11])\n",
    "    \n",
    "    new_Notification_object = Notification(ID, farmerID ,farmer_Mobile_Number, resource_Type, sub_resource_Type, job_Type, no_Of_Resources, latitude, longitude, start_Date, end_Date, published_Date)\n",
    "    \n",
    "    return new_Notification_object"
   ]
  },
  {
   "cell_type": "code",
   "execution_count": 130,
   "metadata": {},
   "outputs": [],
   "source": [
    "list_Notification_Object = []"
   ]
  },
  {
   "cell_type": "code",
   "execution_count": 100,
   "metadata": {},
   "outputs": [
    {
     "name": "stdout",
     "output_type": "stream",
     "text": [
      "{'ID': 0, 'FarmerID': 1, 'Farmer_Mobile_Number': '7703165238', 'Resource_Type': 'Labour', 'No_Of_Resources': 10, 'Sub_Resource_Type': 'Male', 'Job_Type': 'Harvesting', 'Latitude': 72, 'Longitude': 19.52, 'Start_Date': '2018-04-07 15:07:51.170194', 'End_Date': '2018-06-06 15:07:51.170194', 'Published_Date': '2018-04-07 15:07:51.170194'}\n"
     ]
    }
   ],
   "source": [
    "notification_Object = Notification(0,1,'7703165238','Labour', 'Male', 'Harvesting',10, 72,19.52,str(datetime.datetime.now()+ TimeDelta(days=0)), str(datetime.datetime.now() + TimeDelta(days=60)),str(datetime.datetime.now()))\n",
    "print (str(notification_Object))\n",
    "list_Notification_Object.append(notification_Object)\n"
   ]
  },
  {
   "cell_type": "code",
   "execution_count": 101,
   "metadata": {},
   "outputs": [
    {
     "name": "stdout",
     "output_type": "stream",
     "text": [
      "[{\"ID\": 0, \"FarmerID\": 1, \"Farmer_Mobile_Number\": \"7703165238\", \"Resource_Type\": \"Labour\", \"No_Of_Resources\": 10, \"Sub_Resource_Type\": \"Male\", \"Job_Type\": \"Harvesting\", \"Latitude\": 72, \"Longitude\": 19.52, \"Start_Date\": \"2018-04-07 15:07:51.170194\", \"End_Date\": \"2018-06-06 15:07:51.170194\", \"Published_Date\": \"2018-04-07 15:07:51.170194\"}]\n"
     ]
    }
   ],
   "source": [
    "print (json.dumps(list_Notification_Object, default=lambda o: o.__dict__))"
   ]
  },
  {
   "cell_type": "code",
   "execution_count": 152,
   "metadata": {},
   "outputs": [],
   "source": [
    "def Set_Connection():\n",
    "    global connection\n",
    "    global cursor\n",
    "    connection = pyodbc.connect(\"Driver={SQL Server Native Client 11.0};\"\n",
    "                      \"Server=SACHIN;\"\n",
    "                      \"Database=FarmerDB;\"\n",
    "                      \"Trusted_Connection=yes;\")\n",
    "    cursor = connection.cursor()"
   ]
  },
  {
   "cell_type": "code",
   "execution_count": 153,
   "metadata": {},
   "outputs": [],
   "source": [
    "def Run_Insert_Query(sql_Query):\n",
    "    global cursor\n",
    "    global connection\n",
    "    \n",
    "    Set_Connection();\n",
    "    cursor.execute(sql_Query);\n",
    "    connection.commit()\n",
    "    cursor.close();\n",
    "    connection.close();"
   ]
  },
  {
   "cell_type": "code",
   "execution_count": 154,
   "metadata": {},
   "outputs": [],
   "source": [
    "def RUN_Select_Query(sql_Query):\n",
    "    global cursor\n",
    "    global connection\n",
    "    \n",
    "    Set_Connection();\n",
    "    cursor.execute(sql_Query);\n",
    "    rowData = cursor.fetchall()\n",
    "    #print (rowData)\n",
    "    connection.commit()\n",
    "    cursor.close();\n",
    "    connection.close();\n",
    "    return (rowData)"
   ]
  },
  {
   "cell_type": "code",
   "execution_count": 131,
   "metadata": {},
   "outputs": [],
   "source": [
    "def AddNotification(json_String):\n",
    "    \n",
    "    json_Object = json.loads(json_String)\n",
    "    \n",
    "    ID = (json_Object[\"ID\"]);\n",
    "    \n",
    "    farmerID = (json_Object[\"FarmerID\"]);\n",
    "    \n",
    "    if ( (\"Farmer_Mobile_Number\" not in json_String) or (str(json_Object[\"Farmer_Mobile_Number\"]) == '')):\n",
    "        farmer_Mobile_Number = 'NULL';\n",
    "    else:\n",
    "        farmer_Mobile_Number = \"'\"+str(json_Object[\"Farmer_Mobile_Number\"]) + \"'\";\n",
    "        \n",
    "   \n",
    "    resource_Type = \"'\"+(json_Object[\"Resource_Type\"])+\"'\";\n",
    "    \n",
    "    if ( (\"Sub_Resource_Type\" not in json_String) or (str(json_Object[\"Sub_Resource_Type\"]) == '')):\n",
    "        sub_Resource_Type = 'NULL';\n",
    "    else:\n",
    "        sub_Resource_Type = \"'\"+(json_Object[\"Sub_Resource_Type\"])+\"'\";\n",
    "\n",
    "    if ( (\"Job_Type\" not in json_String) or (str(json_Object[\"Job_Type\"]) == '')):\n",
    "        job_Type = 'NULL';\n",
    "    else:\n",
    "        job_Type = \"'\"+(json_Object[\"Job_Type\"])+\"'\";\n",
    "    \n",
    "\n",
    "    \n",
    "    if ( (\"No_Of_Resources\" not in json_String) or (str(json_Object[\"No_Of_Resources\"]) == '')):\n",
    "        no_Of_Resources = 'NULL';\n",
    "    else:\n",
    "        no_Of_Resources = (json_Object[\"No_Of_Resources\"]);\n",
    "        \n",
    "        \n",
    "        \n",
    "    if ( (\"Latitude\" not in json_String) or (str(json_Object[\"Latitude\"]) == '')):\n",
    "        latitude = 'NULL';\n",
    "    else:\n",
    "        latitude = float(json_Object[\"Latitude\"]);\n",
    "        \n",
    "    if ( (\"Longitude\" not in json_String) or (str(json_Object[\"Longitude\"]) == '')):\n",
    "        longitude = 'NULL';\n",
    "    else:\n",
    "        longitude = float(json_Object[\"Longitude\"]);\n",
    "    \n",
    "#     print(type(json_Object[\"Start_Date\"]))\n",
    "    \n",
    "    if ( (\"Start_Date\" not in json_String) or (str(json_Object[\"Start_Date\"]) == '')):\n",
    "        start_Date = 'NULL';\n",
    "    else:\n",
    "        start_Date = \"CAST('\"+str(json_Object[\"Start_Date\"]) + \"' AS DATETIME)\" ;\n",
    "                       \n",
    "    if (str(json_Object[\"End_Date\"]) == ''):\n",
    "        end_Date = 'NULL';\n",
    "    else:\n",
    "        end_Date = \"CAST('\"+str(json_Object[\"End_Date\"]) + \"' AS DATETIME)\" ;\n",
    "\n",
    "    if (str(json_Object[\"Published_Date\"]) == ''):\n",
    "        published_Date = 'NULL';\n",
    "    else:\n",
    "        published_Date = \"CAST('\"+str(json_Object[\"Published_Date\"]) + \"' AS DATETIME)\" ;\n",
    "    \n",
    "#     print ((farmerID ,farmer_Mobile_Number, resource_Type, no_Of_Resources, latitude, longitude, start_Date, end_Date, published_Date))\n",
    "    \n",
    "    sql_Query = \"insert into Notification (farmerID ,farmer_Mobile_Number, resource_Type, sub_Resource_Type, job_Type, no_Of_Resources, latitude, longitude, start_Date, end_Date, published_Date) values (%d,%s,%s,%s,%s,%d,%d,%d,%s,%s,%s);\" %  (farmerID ,farmer_Mobile_Number, resource_Type, sub_Resource_Type, job_Type, no_Of_Resources, latitude, longitude, start_Date, end_Date, published_Date);\n",
    "    \n",
    "#     print (sql_Query)\n",
    "    Run_Insert_Query(sql_Query);"
   ]
  },
  {
   "cell_type": "code",
   "execution_count": 132,
   "metadata": {},
   "outputs": [],
   "source": [
    "s='''{\"ID\": 0, \"FarmerID\": 1, \"Farmer_Mobile_Number\": \"7703165238\", \"Resource_Type\": \"Labour\", \"No_Of_Resources\": 10, \"Sub_Resource_Type\": \"Male\", \"Job_Type\": \"Harvesting\", \"Latitude\": 72, \"Longitude\": 19.52, \"Start_Date\": \"2018-04-07 15:07:51\", \"End_Date\": \"2018-06-06 15:07:51\", \"Published_Date\": \"2018-04-07 15:07:51\"}'''"
   ]
  },
  {
   "cell_type": "code",
   "execution_count": 133,
   "metadata": {},
   "outputs": [],
   "source": [
    "AddNotification(s)"
   ]
  },
  {
   "cell_type": "code",
   "execution_count": null,
   "metadata": {},
   "outputs": [],
   "source": []
  },
  {
   "cell_type": "code",
   "execution_count": 141,
   "metadata": {},
   "outputs": [],
   "source": [
    "def GetNotificationData(FarmerID):\n",
    "    sql_Query = 'select * from Notification where FarmerID != '+ str(FarmerID) +' ;';\n",
    "#     print (sql_Query)\n",
    "    notification_Row_data = (RUN_Select_Query(sql_Query));\n",
    "    \n",
    "    list_Notification_Data = []\n",
    "    \n",
    "    Create_Notification_Object\n",
    "    \n",
    "    for row in notification_Row_data:\n",
    "#         print (row)\n",
    "        list_Notification_Data.append(Create_Notification_Object(row));\n",
    "    \n",
    "#     print (json.dumps(list_Notification_Data, default=lambda o: o.__dict__))\n",
    "    \n",
    "    return (json.dumps(list_Notification_Data, default=lambda o: o.__dict__))"
   ]
  },
  {
   "cell_type": "code",
   "execution_count": 143,
   "metadata": {},
   "outputs": [
    {
     "name": "stdout",
     "output_type": "stream",
     "text": [
      "(1, 1, '7703165238', 'Labour', 'Male', 'Harvesting', 10, Decimal('72'), Decimal('19'), None, datetime.datetime(2018, 4, 7, 15, 7, 51), datetime.datetime(2018, 6, 6, 15, 7, 51), datetime.datetime(2018, 4, 7, 15, 7, 51))\n",
      "(2, 1, '7703165238', 'Labour', 'Male', 'Harvesting', 10, Decimal('72'), Decimal('19'), None, datetime.datetime(2018, 4, 7, 15, 7, 51), datetime.datetime(2018, 6, 6, 15, 7, 51), datetime.datetime(2018, 4, 7, 15, 7, 51))\n",
      "(3, 1, '7703165238', 'Labour', 'Male', 'Harvesting', 10, Decimal('72'), Decimal('19'), None, datetime.datetime(2018, 4, 7, 15, 7, 51), datetime.datetime(2018, 6, 6, 15, 7, 51), datetime.datetime(2018, 4, 7, 15, 7, 51))\n",
      "(4, 1, '7703165238', 'Labour', 'Male', 'Harvesting', 10, Decimal('72'), Decimal('19'), None, datetime.datetime(2018, 4, 7, 15, 7, 51), datetime.datetime(2018, 6, 6, 15, 7, 51), datetime.datetime(2018, 4, 7, 15, 7, 51))\n"
     ]
    },
    {
     "data": {
      "text/plain": [
       "'[{\"ID\": 1, \"FarmerID\": 1, \"Farmer_Mobile_Number\": \"7703165238\", \"Resource_Type\": \"Labour\", \"No_Of_Resources\": 10, \"Sub_Resource_Type\": \"Male\", \"Job_Type\": \"Harvesting\", \"Latitude\": 72.0, \"Longitude\": 19.0, \"Start_Date\": \"None\", \"End_Date\": \"2018-04-07 15:07:51\", \"Published_Date\": \"2018-06-06 15:07:51\"}, {\"ID\": 2, \"FarmerID\": 1, \"Farmer_Mobile_Number\": \"7703165238\", \"Resource_Type\": \"Labour\", \"No_Of_Resources\": 10, \"Sub_Resource_Type\": \"Male\", \"Job_Type\": \"Harvesting\", \"Latitude\": 72.0, \"Longitude\": 19.0, \"Start_Date\": \"None\", \"End_Date\": \"2018-04-07 15:07:51\", \"Published_Date\": \"2018-06-06 15:07:51\"}, {\"ID\": 3, \"FarmerID\": 1, \"Farmer_Mobile_Number\": \"7703165238\", \"Resource_Type\": \"Labour\", \"No_Of_Resources\": 10, \"Sub_Resource_Type\": \"Male\", \"Job_Type\": \"Harvesting\", \"Latitude\": 72.0, \"Longitude\": 19.0, \"Start_Date\": \"None\", \"End_Date\": \"2018-04-07 15:07:51\", \"Published_Date\": \"2018-06-06 15:07:51\"}, {\"ID\": 4, \"FarmerID\": 1, \"Farmer_Mobile_Number\": \"7703165238\", \"Resource_Type\": \"Labour\", \"No_Of_Resources\": 10, \"Sub_Resource_Type\": \"Male\", \"Job_Type\": \"Harvesting\", \"Latitude\": 72.0, \"Longitude\": 19.0, \"Start_Date\": \"None\", \"End_Date\": \"2018-04-07 15:07:51\", \"Published_Date\": \"2018-06-06 15:07:51\"}]'"
      ]
     },
     "execution_count": 143,
     "metadata": {},
     "output_type": "execute_result"
    }
   ],
   "source": [
    "GetNotificationData(2)"
   ]
  },
  {
   "cell_type": "code",
   "execution_count": 175,
   "metadata": {},
   "outputs": [],
   "source": [
    "class Insights(object):\n",
    "    Farmer_Labour_Average = 0   \n",
    "    Farmer_Material_Average = 0   \n",
    "    Farmer_Utilities_Average = 0\n",
    "    \n",
    "    Labour_Average = 0\n",
    "    Material_Average = 0\n",
    "    Utilities_Average = 0\n",
    "\n",
    "    \n",
    "    def __init__(self, Farmer_Labour_Average,  Farmer_Material_Average,  Farmer_Utilities_Average, Labour_Average, Material_Average, Utilities_Average):\n",
    "        \n",
    "        self.Farmer_Labour_Average = Farmer_Labour_Average\n",
    "        self.Farmer_Material_Average = Farmer_Material_Average\n",
    "        self.Farmer_Utilities_Average = Farmer_Utilities_Average\n",
    "        \n",
    "        self.Labour_Average = Labour_Average \n",
    "        self.Material_Average = Material_Average\n",
    "        self.Utilities_Average = Utilities_Average\n",
    "    \n",
    "    def __str__(self):\n",
    "        return (str(self.__dict__))"
   ]
  },
  {
   "cell_type": "code",
   "execution_count": 176,
   "metadata": {},
   "outputs": [],
   "source": [
    "def CraeteInsightsObject(Notification_Object):\n",
    "    if (Notification_Object[0] is None):\n",
    "        Farmer_Labour_Average = 0\n",
    "    else:\n",
    "        Farmer_Labour_Average =  float(Notification_Object[0])\n",
    "        \n",
    "    print (Notification_Object[1])\n",
    "    if (Notification_Object[1] is None):\n",
    "        Farmer_Material_Average = 0\n",
    "    else:\n",
    "        Farmer_Material_Average =  float(Notification_Object[1] )\n",
    "        \n",
    "    if (Notification_Object[2] is None):\n",
    "        Farmer_Utilities_Average = 0\n",
    "    else:\n",
    "        Farmer_Utilities_Average =  float(Notification_Object[2])\n",
    "        \n",
    "    if (Notification_Object[3] is None):\n",
    "        Labour_Average = 0\n",
    "    else:\n",
    "        Labour_Average =  float(Notification_Object[3] )\n",
    "    \n",
    "    if (Notification_Object[4] is None):\n",
    "        Material_Average = 0\n",
    "    else:\n",
    "        Material_Average =  float(Notification_Object[4])\n",
    "        \n",
    "    if (Notification_Object[5] is None):\n",
    "        Utilities_Average = 0\n",
    "    else:\n",
    "        Utilities_Average =  float(Notification_Object[5])\n",
    "    \n",
    "        \n",
    "    new_Insights_Object = Insights(Farmer_Labour_Average,  Farmer_Material_Average,  Farmer_Utilities_Average, Labour_Average, Material_Average, Utilities_Average)\n",
    "    \n",
    "    return new_Insights_Object"
   ]
  },
  {
   "cell_type": "code",
   "execution_count": 183,
   "metadata": {},
   "outputs": [],
   "source": [
    "def GetFarmerInsights(FarmerID):\n",
    "    \n",
    "    sql_Query='''\n",
    "    select \n",
    "            (select AVG(Amount) from Finance where FarmerID = '''+ str(FarmerID) +''' and Type = 'Labour' and IsExpense = 1 ) as 'Farmer_Labour_Average', \n",
    "            (select AVG(Amount) from Finance where FarmerID = '''+ str(FarmerID) +''' and Type = 'Material' and IsExpense = 1 ) as 'Farmer_Material_Average',\n",
    "            (select AVG(Amount) from Finance where FarmerID = '''+ str(FarmerID) +''' and Type = 'Utilities' and IsExpense = 1 ) as 'Farmer_Utilities_Average',\n",
    "            (select AVG(Amount) from Finance where Type = 'Labour' and IsExpense = 1 ) as 'Labour_Average',\n",
    "            (select AVG(Amount) from Finance where Type = 'Material' and IsExpense = 1 ) as 'Material_Average',\n",
    "            (select AVG(Amount) from Finance where Type = 'Utilities' and IsExpense = 1 ) as 'Utilities_Average';\n",
    "          '''\n",
    "    print (sql_Query)\n",
    "    \n",
    "    insights_Row_data = (RUN_Select_Query(sql_Query));\n",
    "#     print (insights_Row_data)\n",
    "    list_Insights_Data = []\n",
    "    \n",
    "    for row in insights_Row_data:\n",
    "#         print (row)\n",
    "        list_Insights_Data.append(CraeteInsightsObject(row));\n",
    "    \n",
    "#     print (json.dumps(list_Notification_Data, default=lambda o: o.__dict__))\n",
    "    \n",
    "    return (json.dumps(list_Insights_Data, default=lambda o: o.__dict__))\n",
    "    "
   ]
  },
  {
   "cell_type": "code",
   "execution_count": 184,
   "metadata": {},
   "outputs": [
    {
     "name": "stdout",
     "output_type": "stream",
     "text": [
      "\n",
      "    select \n",
      "            (select AVG(Amount) from Finance where FarmerID = 1 and Type = 'Labour' and IsExpense = 1 ) as 'Farmer_Labour_Average', \n",
      "            (select AVG(Amount) from Finance where FarmerID = 1 and Type = 'Material' and IsExpense = 1 ) as 'Farmer_Material_Average',\n",
      "            (select AVG(Amount) from Finance where FarmerID = 1 and Type = 'Utilities' and IsExpense = 1 ) as 'Farmer_Utilities_Average',\n",
      "            (select AVG(Amount) from Finance where Type = 'Labour' and IsExpense = 1 ) as 'Labour_Average',\n",
      "            (select AVG(Amount) from Finance where Type = 'Material' and IsExpense = 1 ) as 'Material_Average',\n",
      "            (select AVG(Amount) from Finance where Type = 'Utilities' and IsExpense = 1 ) as 'Utilities_Average';\n",
      "          \n",
      "None\n"
     ]
    },
    {
     "data": {
      "text/plain": [
       "'[{\"Farmer_Labour_Average\": 500.0, \"Farmer_Material_Average\": 0, \"Farmer_Utilities_Average\": 0, \"Labour_Average\": 500.0, \"Material_Average\": 0, \"Utilities_Average\": 0}]'"
      ]
     },
     "execution_count": 184,
     "metadata": {},
     "output_type": "execute_result"
    }
   ],
   "source": [
    "GetFarmerInsights(1)"
   ]
  },
  {
   "cell_type": "code",
   "execution_count": null,
   "metadata": {},
   "outputs": [],
   "source": []
  },
  {
   "cell_type": "code",
   "execution_count": null,
   "metadata": {},
   "outputs": [],
   "source": []
  }
 ],
 "metadata": {
  "kernelspec": {
   "display_name": "Python 3",
   "language": "python",
   "name": "python3"
  },
  "language_info": {
   "codemirror_mode": {
    "name": "ipython",
    "version": 3
   },
   "file_extension": ".py",
   "mimetype": "text/x-python",
   "name": "python",
   "nbconvert_exporter": "python",
   "pygments_lexer": "ipython3",
   "version": "3.6.2rc2"
  }
 },
 "nbformat": 4,
 "nbformat_minor": 2
}
