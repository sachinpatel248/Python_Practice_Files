{
 "cells": [
  {
   "cell_type": "code",
   "execution_count": 1,
   "metadata": {},
   "outputs": [],
   "source": [
    "import cv2\n",
    "import os\n",
    "import numpy as np"
   ]
  },
  {
   "cell_type": "code",
   "execution_count": 4,
   "metadata": {},
   "outputs": [],
   "source": [
    "source_Image_Path = r'C:\\Users\\Sachin13390\\Desktop\\Archive'\n",
    "\n",
    "destination_Image_Path = r'C:\\Users\\Sachin13390\\Desktop\\Resized Image'"
   ]
  },
  {
   "cell_type": "code",
   "execution_count": 6,
   "metadata": {},
   "outputs": [],
   "source": [
    "def getNewResizedImage(input_Image, Image_Size):\n",
    "\n",
    "    height,width = input_Image.shape\n",
    "    #print (height, width)\n",
    "\n",
    "    if width > height:\n",
    "        aspect_Ratio = (float)(width/height)\n",
    "        width = 20\n",
    "        height = int(round(width/aspect_Ratio))\n",
    "    else:\n",
    "        aspect_Ratio = (float)(height/width)\n",
    "        height = 20\n",
    "        width = int(round(height/aspect_Ratio))\n",
    "\n",
    "    input_Image = cv2.resize(input_Image, (width,height), interpolation = cv2.INTER_AREA )\n",
    "    \n",
    "    height,width = input_Image.shape\n",
    "    \n",
    "\n",
    "    number_Of_Column_To_Add = 28-width\n",
    "    temp_Column = np.zeros( (height , int(number_Of_Column_To_Add/2)), dtype = np.uint8)\n",
    "    input_Image = np.append(temp_Column, input_Image, axis=1)\n",
    "    input_Image = np.append(input_Image, temp_Column, axis=1)\n",
    "\n",
    "    height,width = input_Image.shape\n",
    "\n",
    "\n",
    "    number_Of_Row_To_Add = 28-height\n",
    "    temp_Row= np.zeros( (int(number_Of_Row_To_Add/2) , width ), dtype = np.uint8)\n",
    "    input_Image = np.concatenate((temp_Row,input_Image))\n",
    "    input_Image = np.concatenate((input_Image,temp_Row))\n",
    "\n",
    "    return cv2.resize(input_Image, (Image_Size,Image_Size), interpolation = cv2.INTER_AREA )"
   ]
  },
  {
   "cell_type": "code",
   "execution_count": 76,
   "metadata": {},
   "outputs": [],
   "source": [
    "os.chdir(source_Image_Path)\n",
    "\n",
    "for root, dirs, files in os.walk(\".\", topdown = False):\n",
    "    if not os.path.isdir(os.path.join(destination_Image_Path,root.replace(\".\\\\\",\"\"))):\n",
    "        os.mkdir(os.path.join(destination_Image_Path,root.replace(\".\\\\\",\"\")))\n",
    "        \n",
    "    number = 1\n",
    "\n",
    "    for filename in files:\n",
    "        if filename.endswith(('.jpg')):\n",
    "            Image_File_Path  = os.path.join(source_Image_Path,root.replace(\".\\\\\",\"\"),filename)\n",
    "            #print (Image_File_Path)\n",
    "\n",
    "            image = cv2.imread(Image_File_Path,0)\n",
    "\n",
    "            im2,contours,hierarchy = cv2.findContours(image,cv2.RETR_TREE, cv2.CHAIN_APPROX_SIMPLE)\n",
    "\n",
    "            Biggest_Countour = max(contours, key = cv2.contourArea)\n",
    "            x,y,w,h = cv2.boundingRect(Biggest_Countour)\n",
    "            image = cv2.imread(Image_File_Path,0)\n",
    "\n",
    "            #image = cv2.bitwise_not(image)\n",
    "            resize_image =image[y:y+h, x:x+w]\n",
    "            resize_image = getNewResizedImage(resize_image,28)\n",
    "\n",
    "            file_Path_to_Save_resized_Image = os.path.join(destination_Image_Path,root.replace(\".\\\\\",\"\"),filename)\n",
    "            \n",
    "            #print (file_Path_to_Save_resized_Image)\n",
    "            cv2.imwrite(file_Path_to_Save_resized_Image, resize_image)\n",
    "            \n",
    "            number = number + 1          \n",
    "            if number%100==0:\n",
    "                print (\"Processing \"+str(root.replace(\".\\\\\",\"\"))+\" : \"+str(number))\n",
    "                \n",
    "                "
   ]
  },
  {
   "cell_type": "code",
   "execution_count": null,
   "metadata": {},
   "outputs": [],
   "source": []
  },
  {
   "cell_type": "code",
   "execution_count": null,
   "metadata": {},
   "outputs": [],
   "source": []
  },
  {
   "cell_type": "code",
   "execution_count": null,
   "metadata": {},
   "outputs": [],
   "source": []
  }
 ],
 "metadata": {
  "kernelspec": {
   "display_name": "Python 3",
   "language": "python",
   "name": "python3"
  },
  "language_info": {
   "codemirror_mode": {
    "name": "ipython",
    "version": 3
   },
   "file_extension": ".py",
   "mimetype": "text/x-python",
   "name": "python",
   "nbconvert_exporter": "python",
   "pygments_lexer": "ipython3",
   "version": "3.6.5"
  }
 },
 "nbformat": 4,
 "nbformat_minor": 2
}
