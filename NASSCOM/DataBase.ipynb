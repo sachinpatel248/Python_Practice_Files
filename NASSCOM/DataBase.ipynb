{
 "cells": [
  {
   "cell_type": "code",
   "execution_count": 1,
   "metadata": {},
   "outputs": [],
   "source": [
    "import pyodbc\n",
    "import pandas as pd\n",
    "import json\n",
    "import csv\n",
    "import pandas\n",
    "import ast\n",
    "import datetime\n",
    "import os"
   ]
  },
  {
   "cell_type": "code",
   "execution_count": 2,
   "metadata": {},
   "outputs": [],
   "source": [
    "connection = 0;\n",
    "cursor = 0;\n",
    "sql_Query = ''"
   ]
  },
  {
   "cell_type": "code",
   "execution_count": 32,
   "metadata": {},
   "outputs": [],
   "source": [
    "def Set_Connection():\n",
    "    global connection\n",
    "    global cursor\n",
    "    connection = pyodbc.connect(\"Driver={SQL Server Native Client 11.0};\"\n",
    "                      \"Server=IN-MH1LPW101089;\"\n",
    "                      \"Database=FarmerDB;\"\n",
    "                      \"Trusted_Connection=yes;\")\n",
    "    cursor = connection.cursor()"
   ]
  },
  {
   "cell_type": "code",
   "execution_count": 4,
   "metadata": {},
   "outputs": [],
   "source": [
    "# def Execute_Query(sql_Query):\n",
    "#     cursor.execute(sql_Query);\n",
    "    \n",
    "    "
   ]
  },
  {
   "cell_type": "code",
   "execution_count": 37,
   "metadata": {},
   "outputs": [],
   "source": [
    "Set_Connection();"
   ]
  },
  {
   "cell_type": "code",
   "execution_count": 6,
   "metadata": {},
   "outputs": [],
   "source": [
    "sql_Query = \"select * from Farmer;\""
   ]
  },
  {
   "cell_type": "code",
   "execution_count": 7,
   "metadata": {},
   "outputs": [],
   "source": [
    "sql_Query = \"select * from Farmer;\";\n",
    "\n",
    "#cursor.execute(sql_Query)\n",
    "#results = cursor.fetchall()\n",
    "\n"
   ]
  },
  {
   "cell_type": "code",
   "execution_count": 8,
   "metadata": {},
   "outputs": [
    {
     "ename": "NameError",
     "evalue": "name 'results' is not defined",
     "output_type": "error",
     "traceback": [
      "\u001b[1;31m---------------------------------------------------------------------------\u001b[0m",
      "\u001b[1;31mNameError\u001b[0m                                 Traceback (most recent call last)",
      "\u001b[1;32m<ipython-input-8-e0d5d4ffbce6>\u001b[0m in \u001b[0;36m<module>\u001b[1;34m()\u001b[0m\n\u001b[1;32m----> 1\u001b[1;33m \u001b[1;32mfor\u001b[0m \u001b[0mrow\u001b[0m \u001b[1;32min\u001b[0m \u001b[0mresults\u001b[0m\u001b[1;33m:\u001b[0m\u001b[1;33m\u001b[0m\u001b[0m\n\u001b[0m\u001b[0;32m      2\u001b[0m     \u001b[0mprint\u001b[0m \u001b[1;33m(\u001b[0m\u001b[0mrow\u001b[0m\u001b[1;33m)\u001b[0m\u001b[1;33m\u001b[0m\u001b[0m\n",
      "\u001b[1;31mNameError\u001b[0m: name 'results' is not defined"
     ]
    }
   ],
   "source": [
    "for row in results:\n",
    "    print (row)"
   ]
  },
  {
   "cell_type": "code",
   "execution_count": 9,
   "metadata": {},
   "outputs": [],
   "source": [
    "class Farmer():\n",
    "    FarmerID = 0;\n",
    "    FarmerName = 0;\n",
    "    MobileNumber = ''\n",
    "    \n",
    "    def __str__(self):\n",
    "        return (str(self.__dict__))"
   ]
  },
  {
   "cell_type": "code",
   "execution_count": 50,
   "metadata": {},
   "outputs": [],
   "source": [
    "class ExpenseLabour():\n",
    "    Id = 0;\n",
    "    FarmerID = 0;\n",
    "    Male = 0;\n",
    "    Female = 0;\n",
    "    Ploughing = 0;\n",
    "    Planting = 0;\n",
    "    Weeding = 0;\n",
    "    Harvesting = 0;\n",
    "    DateTime = 0 ;\n",
    "    \n",
    "    def __init__(self, ID, FarmerID ,Male, Female, Ploughing, Planting, Weeding, Harvesting, DateTime):\n",
    "        self.Id = ID;\n",
    "        self.FarmerID = FarmerID\n",
    "        self.Male = Male\n",
    "        self.Female = Female\n",
    "        self.Ploughing = Ploughing\n",
    "        self.Planting = Planting\n",
    "        self.Weeding = Weeding\n",
    "        self.Harvesting = Harvesting\n",
    "        self.DateTime = DateTime\n",
    "    \n",
    "    def __str__(self):\n",
    "        return (str(self.__dict__))"
   ]
  },
  {
   "cell_type": "code",
   "execution_count": 62,
   "metadata": {},
   "outputs": [],
   "source": [
    "class ExpenseMaterial():\n",
    "    Id = 0;\n",
    "    FarmerID = 0;\n",
    "    Fertilizers = 0;\n",
    "    Seeds = 0;\n",
    "    Saplings = 0;\n",
    "    Pesticides = 0;\n",
    "    DateTime = 0;\n",
    "    \n",
    "    def __init__(self, ID, FarmerID ,Fertilizers, Seeds, Saplings, Pesticides, DateTime):\n",
    "        self.Id = ID;\n",
    "        self.FarmerID = FarmerID\n",
    "        self.Fertilizers = Fertilizers\n",
    "        self.Seeds = Seeds \n",
    "        self.Saplings = Saplings\n",
    "        self.Pesticides = Pesticides \n",
    "        self.DateTime = DateTime\n",
    "    \n",
    "    def __str__(self):\n",
    "        return (str(self.__dict__))"
   ]
  },
  {
   "cell_type": "code",
   "execution_count": 43,
   "metadata": {},
   "outputs": [],
   "source": [
    "class ExpenseMachinery():\n",
    "    Id = 0;\n",
    "    FarmerID = '';\n",
    "    Tractor = 0;\n",
    "    Pump = 0;\n",
    "    DateTime = 0;\n",
    "    \n",
    "    def __init__(self, ID ,FarmerID, Tractor, Pump, DateTime):\n",
    "        self.Id = ID;\n",
    "        self.FarmerID = FarmerID\n",
    "        self.Tractor = Tractor\n",
    "        self.Pump = Pump\n",
    "        self.DateTime = DateTime\n",
    "    \n",
    "    def __str__(self):\n",
    "        return (str(self.__dict__))"
   ]
  },
  {
   "cell_type": "code",
   "execution_count": 51,
   "metadata": {},
   "outputs": [],
   "source": [
    "list_Expense = []"
   ]
  },
  {
   "cell_type": "code",
   "execution_count": 63,
   "metadata": {},
   "outputs": [
    {
     "name": "stdout",
     "output_type": "stream",
     "text": [
      "{'Id': 0, 'FarmerID': 1, 'Fertilizers': 56, 'Seeds': 76, 'Saplings': 76, 'Pesticides': 23}\n"
     ]
    }
   ],
   "source": [
    "new_Expense_Utility_Object = ExpenseMaterial(0,1,56,76,76,23);\n",
    "\n",
    "list_Expense.append(new_Expense_Utility_Object);\n",
    "\n",
    "print (new_Expense_Utility_Object)\n",
    "\n"
   ]
  },
  {
   "cell_type": "code",
   "execution_count": 64,
   "metadata": {},
   "outputs": [
    {
     "name": "stdout",
     "output_type": "stream",
     "text": [
      "{\"Id\": 0, \"FarmerID\": 1, \"Fertilizers\": 56, \"Seeds\": 76, \"Saplings\": 76, \"Pesticides\": 23}\n"
     ]
    }
   ],
   "source": [
    "print (json.dumps(new_Expense_Utility_Object, default=lambda o: o.__dict__))"
   ]
  },
  {
   "cell_type": "code",
   "execution_count": 65,
   "metadata": {},
   "outputs": [],
   "source": [
    "s = '''{\"Id\": 0, \"FarmerID\": 1, \"Fertilizers\": 56, \"Seeds\": 76, \"Saplings\": 76, \"Pesticides\": 23}'''"
   ]
  },
  {
   "cell_type": "code",
   "execution_count": 39,
   "metadata": {},
   "outputs": [],
   "source": [
    "def Run_Insert_Query(sql_Query):\n",
    "    global cursor\n",
    "    global connection\n",
    "    \n",
    "    #Set_Connection();\n",
    "    cursor.execute(sql_Query);\n",
    "    connection.commit()\n",
    "    #cursor.close();\n",
    "    #connection.close();"
   ]
  },
  {
   "cell_type": "code",
   "execution_count": 40,
   "metadata": {},
   "outputs": [],
   "source": [
    "def AddExpenseUtility(json_String):\n",
    "    \n",
    "    json_Object = json.loads(json_String)\n",
    "    \n",
    "    sql_Query = \"insert into ExpenseUtility (FarmerID, Water, Electricity)  values (%d,%d,%d); \" % (json_Object[\"FarmerID\"],json_Object[\"Water\"],json_Object[\"Electricity\"]);\n",
    "    \n",
    "    print (sql_Query)\n",
    "    Run_Insert_Query(sql_Query);\n",
    "    "
   ]
  },
  {
   "cell_type": "code",
   "execution_count": 48,
   "metadata": {},
   "outputs": [],
   "source": [
    "def AddExpenseMachinery(json_String):\n",
    "    \n",
    "    json_Object = json.loads(json_String)\n",
    "    \n",
    "    sql_Query = \"insert into ExpenseMachinery (FarmerID, Tractor, Pump)  values (%d,%d,%d); \" % (json_Object[\"FarmerID\"],json_Object[\"Tractor\"],json_Object[\"Pump\"]);\n",
    "    \n",
    "    print (sql_Query)\n",
    "    Run_Insert_Query(sql_Query);"
   ]
  },
  {
   "cell_type": "code",
   "execution_count": 49,
   "metadata": {},
   "outputs": [
    {
     "name": "stdout",
     "output_type": "stream",
     "text": [
      "insert into ExpenseMachinery (FarmerID, Tractor, Pump)  values (1,100,134); \n"
     ]
    }
   ],
   "source": [
    "AddExpenseMachinery(s)"
   ]
  },
  {
   "cell_type": "code",
   "execution_count": 60,
   "metadata": {},
   "outputs": [],
   "source": [
    "def AddExpenseLabour(json_String):\n",
    "    \n",
    "    json_Object = json.loads(json_String)\n",
    "    \n",
    "    sql_Query = \"insert into ExpenseLabour (FarmerID, Male, Female, Ploughing, Planting, Weeding, Harvesting)  values (%d,%d,%d,%d,%d,%d,%d); \" % (json_Object[\"FarmerID\"],json_Object[\"Male\"],json_Object[\"Female\"],json_Object[\"Ploughing\"],json_Object[\"Planting\"],json_Object[\"Weeding\"],json_Object[\"Harvesting\"]);\n",
    "    \n",
    "    print (sql_Query)\n",
    "    Run_Insert_Query(sql_Query);"
   ]
  },
  {
   "cell_type": "code",
   "execution_count": 61,
   "metadata": {},
   "outputs": [
    {
     "name": "stdout",
     "output_type": "stream",
     "text": [
      "insert into ExpenseLabour (FarmerID, Male, Female, Ploughing, Planting, Weeding, Harvesting)  values (1,1000,3000,344,190,150,200); \n"
     ]
    }
   ],
   "source": [
    "AddExpenseLabour(s)"
   ]
  },
  {
   "cell_type": "code",
   "execution_count": 66,
   "metadata": {},
   "outputs": [],
   "source": [
    "def AddExpenseMaterial(json_String):\n",
    "    \n",
    "    json_Object = json.loads(json_String)\n",
    "    \n",
    "    sql_Query = \"insert into ExpenseMaterial (FarmerID ,Fertilizers, Seeds, Saplings, Pesticides)  values (%d,%d,%d,%d,%d); \" % (json_Object[\"FarmerID\"],json_Object[\"Fertilizers\"],json_Object[\"Seeds\"],json_Object[\"Saplings\"],json_Object[\"Pesticides\"]);\n",
    "    \n",
    "    print (sql_Query)\n",
    "    Run_Insert_Query(sql_Query);"
   ]
  },
  {
   "cell_type": "code",
   "execution_count": 67,
   "metadata": {},
   "outputs": [
    {
     "name": "stdout",
     "output_type": "stream",
     "text": [
      "insert into ExpenseMaterial (FarmerID ,Fertilizers, Seeds, Saplings, Pesticides)  values (1,56,76,76,23); \n"
     ]
    }
   ],
   "source": [
    "AddExpenseMaterial(s)"
   ]
  },
  {
   "cell_type": "code",
   "execution_count": null,
   "metadata": {},
   "outputs": [],
   "source": []
  },
  {
   "cell_type": "code",
   "execution_count": 77,
   "metadata": {},
   "outputs": [],
   "source": [
    "class IncomeRent():\n",
    "    Id = 0;\n",
    "    FarmerID = 0;\n",
    "    Warehouse = 0;\n",
    "    Land = 0;\n",
    "    Tractor = 0;\n",
    "    Pump = 0;\n",
    "    Labour = 0;\n",
    "    DateTime = 0;\n",
    "    \n",
    "    def __init__(self, ID, FarmerID, Warehouse, Land, Tractor, Pump, Labour, DateTime):\n",
    "        self.Id = ID;\n",
    "        self.FarmerID = FarmerID\n",
    "        self.Warehouse = Warehouse\n",
    "        self.Land = Land \n",
    "        self.Tractor = Tractor\n",
    "        self.Pump = Pump\n",
    "        self.Labour = Labour\n",
    "        self.DateTime = DateTime\n",
    "    \n",
    "    def __str__(self):\n",
    "        return (str(self.__dict__))"
   ]
  },
  {
   "cell_type": "code",
   "execution_count": 78,
   "metadata": {},
   "outputs": [],
   "source": [
    "class IncomeSell:\n",
    "    Id = 0;\n",
    "    FarmerID = 0;\n",
    "    Type = 0;\n",
    "    Rate = 0;\n",
    "    Quantity = 0;\n",
    "    Amount = 0;\n",
    "    DateTime = 0;\n",
    "    \n",
    "    def __init__(self,ID, FarmerID, Type, Rate, Quantity, Amount, DateTime):\n",
    "        self.Id = ID;\n",
    "        self.FarmerID = FarmerID\n",
    "        self.Type = Type\n",
    "        self.Rate = Rate \n",
    "        self.Quantity = Quantity\n",
    "        self.Amount = Amount\n",
    "        self.DateTime = DateTime\n",
    "    \n",
    "    def __str__(self):\n",
    "        return (str(self.__dict__))\n",
    "    "
   ]
  },
  {
   "cell_type": "code",
   "execution_count": 79,
   "metadata": {},
   "outputs": [],
   "source": [
    "list_Income = []"
   ]
  },
  {
   "cell_type": "code",
   "execution_count": 95,
   "metadata": {},
   "outputs": [
    {
     "name": "stdout",
     "output_type": "stream",
     "text": [
      "{'Id': 0, 'FarmerID': 1, 'Type': 'Cotton', 'Rate': 23, 'Quantity': 67, 'Amount': 3453}\n"
     ]
    }
   ],
   "source": [
    "new_Expense_Utility_Object = IncomeSell(0,1,'Cotton',23,67,3453);\n",
    "\n",
    "list_Expense.append(new_Expense_Utility_Object);\n",
    "\n",
    "print (new_Expense_Utility_Object)"
   ]
  },
  {
   "cell_type": "code",
   "execution_count": 96,
   "metadata": {},
   "outputs": [
    {
     "name": "stdout",
     "output_type": "stream",
     "text": [
      "{\"Id\": 0, \"FarmerID\": 1, \"Type\": \"Cotton\", \"Rate\": 23, \"Quantity\": 67, \"Amount\": 3453}\n"
     ]
    }
   ],
   "source": [
    "print (json.dumps(new_Expense_Utility_Object, default=lambda o: o.__dict__))"
   ]
  },
  {
   "cell_type": "code",
   "execution_count": 97,
   "metadata": {},
   "outputs": [],
   "source": [
    "def AddIncomeRent(json_String):\n",
    "    \n",
    "    json_Object = json.loads(json_String)\n",
    "    \n",
    "    sql_Query = \"insert into IncomeRent (FarmerID, Warehouse, Land, Tractor, Pump, Labour)  values (%d,%d,%d,%d,%d,%d); \" % (json_Object[\"FarmerID\"],json_Object[\"Warehouse\"],json_Object[\"Land\"],json_Object[\"Tractor\"],json_Object[\"Pump\"],json_Object[\"Labour\"]);\n",
    "    \n",
    "    print (sql_Query)\n",
    "    Run_Insert_Query(sql_Query);"
   ]
  },
  {
   "cell_type": "code",
   "execution_count": 98,
   "metadata": {},
   "outputs": [],
   "source": [
    "s = '''{\"Id\": 0, \"FarmerID\": 1, \"Type\": \"Cotton\", \"Rate\": 23, \"Quantity\": 67, \"Amount\": 3453}'''"
   ]
  },
  {
   "cell_type": "code",
   "execution_count": 92,
   "metadata": {},
   "outputs": [
    {
     "name": "stdout",
     "output_type": "stream",
     "text": [
      "insert into IncomeRent (FarmerID, Warehouse, Land, Tractor, Pump, Labour)  values (1,56,76,76,23,78); \n"
     ]
    }
   ],
   "source": [
    "AddIncomeRent(s)"
   ]
  },
  {
   "cell_type": "code",
   "execution_count": null,
   "metadata": {},
   "outputs": [],
   "source": []
  },
  {
   "cell_type": "code",
   "execution_count": 107,
   "metadata": {},
   "outputs": [],
   "source": [
    "def AddIncomeSell(json_String):\n",
    "    \n",
    "    json_Object = json.loads(json_String)\n",
    "    \n",
    "    sql_Query = \"insert into IncomeSell (FarmerID, Type, Rate, Quantity, Amount)  values (%d,%s,%d,%d,%d); \" % (json_Object[\"FarmerID\"], str(\"'\" + json_Object[\"Type\"] + \"'\") ,json_Object[\"Rate\"],json_Object[\"Quantity\"],json_Object[\"Amount\"]);\n",
    "    \n",
    "    print (sql_Query)\n",
    "    Run_Insert_Query(sql_Query);"
   ]
  },
  {
   "cell_type": "code",
   "execution_count": 108,
   "metadata": {},
   "outputs": [],
   "source": [
    "s = '''{\"Id\": 0, \"FarmerID\": 1, \"Type\": \"Cotton\", \"Rate\": 23, \"Quantity\": 67, \"Amount\": 3453}'''"
   ]
  },
  {
   "cell_type": "code",
   "execution_count": 110,
   "metadata": {},
   "outputs": [
    {
     "name": "stdout",
     "output_type": "stream",
     "text": [
      "insert into IncomeSell (FarmerID, Type, Rate, Quantity, Amount)  values (1,'Cotton',23,67,3453); \n"
     ]
    }
   ],
   "source": [
    "AddIncomeSell(s)"
   ]
  },
  {
   "cell_type": "code",
   "execution_count": null,
   "metadata": {},
   "outputs": [],
   "source": [
    "str(datetime.datetime.now())"
   ]
  }
 ],
 "metadata": {
  "kernelspec": {
   "display_name": "Python 3",
   "language": "python",
   "name": "python3"
  },
  "language_info": {
   "codemirror_mode": {
    "name": "ipython",
    "version": 3
   },
   "file_extension": ".py",
   "mimetype": "text/x-python",
   "name": "python",
   "nbconvert_exporter": "python",
   "pygments_lexer": "ipython3",
   "version": "3.6.2rc2"
  }
 },
 "nbformat": 4,
 "nbformat_minor": 2
}
