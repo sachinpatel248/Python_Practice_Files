{
 "cells": [
  {
   "cell_type": "code",
   "execution_count": 45,
   "metadata": {},
   "outputs": [],
   "source": [
    "import json\n",
    "import csv\n",
    "import pandas\n",
    "import ast\n",
    "import datetime\n",
    "import os\n",
    "from datetime import timedelta as TimeDelta\n",
    "import pyodbc\n",
    "from dateutil import parser"
   ]
  },
  {
   "cell_type": "code",
   "execution_count": 9,
   "metadata": {},
   "outputs": [],
   "source": [
    "def Set_Connection():\n",
    "    global connection\n",
    "    global cursor\n",
    "    connection = pyodbc.connect(\"Driver={SQL Server Native Client 11.0};\"\n",
    "                      \"Server=SACHIN;\"\n",
    "                      \"Database=FarmerDB;\"\n",
    "                      \"Trusted_Connection=yes;\")\n",
    "    cursor = connection.cursor()"
   ]
  },
  {
   "cell_type": "code",
   "execution_count": null,
   "metadata": {},
   "outputs": [],
   "source": []
  },
  {
   "cell_type": "code",
   "execution_count": 10,
   "metadata": {},
   "outputs": [],
   "source": [
    "def Run_Insert_Query(sql_Query):\n",
    "    global cursor\n",
    "    global connection\n",
    "    \n",
    "    Set_Connection();\n",
    "    cursor.execute(sql_Query);\n",
    "    connection.commit()\n",
    "    cursor.close();\n",
    "    connection.close();"
   ]
  },
  {
   "cell_type": "code",
   "execution_count": 34,
   "metadata": {},
   "outputs": [],
   "source": [
    "def RUN_Select_Query(sql_Query):\n",
    "    global cursor\n",
    "    global connection\n",
    "    \n",
    "    Set_Connection();\n",
    "    cursor.execute(sql_Query);\n",
    "    rowData = cursor.fetchall()\n",
    "    #print (rowData)\n",
    "    connection.commit()\n",
    "    cursor.close();\n",
    "    connection.close();\n",
    "    return (rowData)\n",
    "    \n",
    "    \n",
    "    "
   ]
  },
  {
   "cell_type": "code",
   "execution_count": 59,
   "metadata": {},
   "outputs": [],
   "source": [
    "class Finance(object):\n",
    "    Id = 0;\n",
    "    FarmerID = 0;\n",
    "    IsExpense = 0;\n",
    "    Type = '';\n",
    "    SubType = '';\n",
    "    JobType = '';\n",
    "    Amount = 0.0;\n",
    "    Comment = '';\n",
    "    CurrentDate = '';\n",
    "    \n",
    "    \n",
    "    def __init__(self, Id, FarmerID, IsExpense, Type, SubType, JobType, Amount, Comment, CurrentDate):\n",
    "        \n",
    "        self.Id = Id;\n",
    "        self.FarmerID = FarmerID;\n",
    "        self.IsExpense = IsExpense;\n",
    "        self.Type = Type;\n",
    "        self.SubType = SubType;\n",
    "        self.JobType = JobType;\n",
    "        self.Amount = Amount;\n",
    "        self.Comment = Comment;\n",
    "        self.CurrentDate = CurrentDate;\n",
    "        \n",
    "    def __str__(self):\n",
    "        return (str(self.__dict__))"
   ]
  },
  {
   "cell_type": "code",
   "execution_count": 66,
   "metadata": {},
   "outputs": [],
   "source": [
    "list_Finance = []"
   ]
  },
  {
   "cell_type": "code",
   "execution_count": 69,
   "metadata": {
    "scrolled": true
   },
   "outputs": [
    {
     "name": "stdout",
     "output_type": "stream",
     "text": [
      "{'Id': 0, 'FarmerID': 1, 'IsExpense': 1, 'Type': 'Labour', 'SubType': 'Job', 'JobType': 'Harvesting', 'Amount': 500, 'Comment': 'For Farm Labour', 'CurrentDate': '2018-04-07 12:01:49.866623'}\n"
     ]
    }
   ],
   "source": [
    "new_Expense_Utility_Object = Finance(0,1,1,'Labour','Job', 'Harvesting', 500, 'For Farm Labour' ,str(datetime.datetime.now()));\n",
    "\n",
    "list_Finance.append(new_Expense_Utility_Object);\n",
    "\n",
    "print (new_Expense_Utility_Object)"
   ]
  },
  {
   "cell_type": "code",
   "execution_count": 70,
   "metadata": {},
   "outputs": [
    {
     "name": "stdout",
     "output_type": "stream",
     "text": [
      "[{\"Id\": 0, \"FarmerID\": 1, \"IsExpense\": 1, \"Type\": \"Labour\", \"SubType\": \"Job\", \"JobType\": \"Harvesting\", \"Amount\": 500, \"Comment\": \"For Farm Labour\", \"CurrentDate\": \"2018-04-07 12:01:32.685340\"}, {\"Id\": 0, \"FarmerID\": 1, \"IsExpense\": 1, \"Type\": \"Labour\", \"SubType\": \"Job\", \"JobType\": \"Harvesting\", \"Amount\": 500, \"Comment\": \"For Farm Labour\", \"CurrentDate\": \"2018-04-07 12:01:49.866623\"}]\n"
     ]
    }
   ],
   "source": [
    "print (json.dumps(list_Finance, default=lambda o: o.__dict__))"
   ]
  },
  {
   "cell_type": "code",
   "execution_count": null,
   "metadata": {},
   "outputs": [],
   "source": []
  },
  {
   "cell_type": "code",
   "execution_count": 31,
   "metadata": {},
   "outputs": [],
   "source": [
    "def AddFinance(json_String):\n",
    "    \n",
    "    json_Object = json.loads(json_String)\n",
    "    \n",
    "    Date = \"CAST('\"+str(json_Object[\"CurrentDate\"]) + \"' AS DATETIME)\" ;\n",
    "                       \n",
    "    print (Date)\n",
    "    \n",
    "    sql_Query = \"insert into Finance (FarmerID, IsExpense, Type, SubType, JobType, Amount, Comment, CurrentDate)  values (%d,%d,%s,%s,%s,%d,%s,%s); \" % (json_Object[\"FarmerID\"],json_Object[\"IsExpense\"],\"'\"+json_Object[\"Type\"]+\"'\",\"'\"+json_Object[\"SubType\"]+\"'\",\"'\"+json_Object[\"JobType\"]+\"'\",json_Object[\"Amount\"],\"'\"+json_Object[\"Comment\"]+\"'\",Date);\n",
    "    \n",
    "    print (sql_Query)\n",
    "    Run_Insert_Query(sql_Query);"
   ]
  },
  {
   "cell_type": "code",
   "execution_count": 37,
   "metadata": {},
   "outputs": [],
   "source": [
    "s='''{\"Id\": 0, \"FarmerID\": 1, \"IsExpense\": 1, \"Type\": \"Labour\", \"SubType\": \"Job\", \"JobType\": \"Harvesting\", \"Amount\": 500, \"Comment\": \"For Farm Labour\", \"CurrentDate\": \"2018-04-05 23:00:16\"}'''"
   ]
  },
  {
   "cell_type": "code",
   "execution_count": 38,
   "metadata": {},
   "outputs": [
    {
     "name": "stdout",
     "output_type": "stream",
     "text": [
      "CAST('2018-04-05 23:00:16' AS DATETIME)\n",
      "insert into Finance (FarmerID, IsExpense, Type, SubType, JobType, Amount, Comment, CurrentDate)  values (1,1,'Labour','Job','Harvesting',500,'For Farm Labour',CAST('2018-04-05 23:00:16' AS DATETIME)); \n"
     ]
    }
   ],
   "source": [
    "AddFinance(s)"
   ]
  },
  {
   "cell_type": "code",
   "execution_count": 36,
   "metadata": {},
   "outputs": [
    {
     "data": {
      "text/plain": [
       "datetime.datetime(2018, 4, 5, 23, 3, 42, 714519)"
      ]
     },
     "execution_count": 36,
     "metadata": {},
     "output_type": "execute_result"
    }
   ],
   "source": [
    "datetime.datetime.now()"
   ]
  },
  {
   "cell_type": "code",
   "execution_count": null,
   "metadata": {},
   "outputs": [],
   "source": []
  },
  {
   "cell_type": "code",
   "execution_count": 75,
   "metadata": {},
   "outputs": [],
   "source": [
    "def GetFinanceData(FarmerID):\n",
    "    sql_Query = 'select * from Finance where FarmerID = '+ str(FarmerID) +' ;';\n",
    "#     print (sql_Query)\n",
    "    finace_Row_data = (RUN_Select_Query(sql_Query));\n",
    "    \n",
    "    list_Finance_Data = []\n",
    "\n",
    "    for row in finace_Row_data:\n",
    "        Id = row[0]\n",
    "        FarmerID = row[1] \n",
    "        IsExpense = row[2] \n",
    "        Type = row[3] \n",
    "        SubType = row[4] \n",
    "        JobType = row[5] \n",
    "        Amount = float(row[6])\n",
    "        Comment = row[7] \n",
    "    #     print (type(row[8]))\n",
    "        CurrentDate = (row[8])\n",
    "    #     CurrentDate = row[8]\n",
    "    #     print (CurrentDate)\n",
    "\n",
    "        finance_Object = Finance(Id, FarmerID, IsExpense, Type, SubType, JobType, Amount, Comment, CurrentDate);\n",
    "    #     print (finance_Object )\n",
    "\n",
    "        list_Finance_Data.append(finance_Object)\n",
    "    \n",
    "    print (json.dumps(list_Finance_Data, default=lambda o: o.__dict__))\n",
    "    \n",
    "    return (json.dumps(list_Finance_Data, default=lambda o: o.__dict__))\n",
    "    \n",
    "    \n",
    "        \n",
    "        "
   ]
  },
  {
   "cell_type": "code",
   "execution_count": 74,
   "metadata": {},
   "outputs": [
    {
     "name": "stdout",
     "output_type": "stream",
     "text": [
      "[{\"Id\": 1, \"FarmerID\": 1, \"IsExpense\": 1, \"Type\": \"Labour\", \"SubType\": \"Job\", \"JobType\": \"Harvesting\", \"Amount\": 500.0, \"Comment\": \"For Farm Labour\", \"CurrentDate\": \"2018-04-05 23:00:03\"}, {\"Id\": 2, \"FarmerID\": 1, \"IsExpense\": 1, \"Type\": \"Labour\", \"SubType\": \"Job\", \"JobType\": \"Harvesting\", \"Amount\": 500.0, \"Comment\": \"For Farm Labour\", \"CurrentDate\": \"2018-04-05 23:00:03\"}, {\"Id\": 3, \"FarmerID\": 1, \"IsExpense\": 1, \"Type\": \"Labour\", \"SubType\": \"Job\", \"JobType\": \"Harvesting\", \"Amount\": 500.0, \"Comment\": \"For Farm Labour\", \"CurrentDate\": \"2018-04-05 23:00:03\"}, {\"Id\": 5, \"FarmerID\": 1, \"IsExpense\": 1, \"Type\": \"Labour\", \"SubType\": \"Job\", \"JobType\": \"Harvesting\", \"Amount\": 500.0, \"Comment\": \"For Farm Labour\", \"CurrentDate\": \"2018-04-05 23:00:16\"}]\n"
     ]
    },
    {
     "data": {
      "text/plain": [
       "'[{\"Id\": 1, \"FarmerID\": 1, \"IsExpense\": 1, \"Type\": \"Labour\", \"SubType\": \"Job\", \"JobType\": \"Harvesting\", \"Amount\": 500.0, \"Comment\": \"For Farm Labour\", \"CurrentDate\": \"2018-04-05 23:00:03\"}, {\"Id\": 2, \"FarmerID\": 1, \"IsExpense\": 1, \"Type\": \"Labour\", \"SubType\": \"Job\", \"JobType\": \"Harvesting\", \"Amount\": 500.0, \"Comment\": \"For Farm Labour\", \"CurrentDate\": \"2018-04-05 23:00:03\"}, {\"Id\": 3, \"FarmerID\": 1, \"IsExpense\": 1, \"Type\": \"Labour\", \"SubType\": \"Job\", \"JobType\": \"Harvesting\", \"Amount\": 500.0, \"Comment\": \"For Farm Labour\", \"CurrentDate\": \"2018-04-05 23:00:03\"}, {\"Id\": 5, \"FarmerID\": 1, \"IsExpense\": 1, \"Type\": \"Labour\", \"SubType\": \"Job\", \"JobType\": \"Harvesting\", \"Amount\": 500.0, \"Comment\": \"For Farm Labour\", \"CurrentDate\": \"2018-04-05 23:00:16\"}]'"
      ]
     },
     "execution_count": 74,
     "metadata": {},
     "output_type": "execute_result"
    }
   ],
   "source": [
    "GetFinanceData(1)"
   ]
  },
  {
   "cell_type": "code",
   "execution_count": 63,
   "metadata": {},
   "outputs": [
    {
     "name": "stdout",
     "output_type": "stream",
     "text": [
      "select * from Finance where FarmerID = 1 ;\n",
      "[(1, 1, 1, 'Labour', 'Job', 'Harvesting', Decimal('500'), 'For Farm Labour', datetime.datetime(2018, 4, 5, 23, 0, 3)), (2, 1, 1, 'Labour', 'Job', 'Harvesting', Decimal('500'), 'For Farm Labour', datetime.datetime(2018, 4, 5, 23, 0, 3)), (3, 1, 1, 'Labour', 'Job', 'Harvesting', Decimal('500'), 'For Farm Labour', datetime.datetime(2018, 4, 5, 23, 0, 3)), (5, 1, 1, 'Labour', 'Job', 'Harvesting', Decimal('500'), 'For Farm Labour', datetime.datetime(2018, 4, 5, 23, 0, 16))]\n",
      "500.0\n",
      "<class 'datetime.datetime'>\n",
      "2018-04-05 23:00:03\n",
      "(1, 1, 1, 'Labour', 'Job', 'Harvesting', 500.0, 'For Farm Labour', '2018-04-05 23:00:03')\n",
      "500.0\n",
      "<class 'datetime.datetime'>\n",
      "2018-04-05 23:00:03\n",
      "(2, 1, 1, 'Labour', 'Job', 'Harvesting', 500.0, 'For Farm Labour', '2018-04-05 23:00:03')\n",
      "500.0\n",
      "<class 'datetime.datetime'>\n",
      "2018-04-05 23:00:03\n",
      "(3, 1, 1, 'Labour', 'Job', 'Harvesting', 500.0, 'For Farm Labour', '2018-04-05 23:00:03')\n",
      "500.0\n",
      "<class 'datetime.datetime'>\n",
      "2018-04-05 23:00:16\n",
      "(5, 1, 1, 'Labour', 'Job', 'Harvesting', 500.0, 'For Farm Labour', '2018-04-05 23:00:16')\n",
      "[[1, 1, 1, \"Labour\", \"Job\", \"Harvesting\", 500.0, \"For Farm Labour\", \"2018-04-05 23:00:03\"], [2, 1, 1, \"Labour\", \"Job\", \"Harvesting\", 500.0, \"For Farm Labour\", \"2018-04-05 23:00:03\"], [3, 1, 1, \"Labour\", \"Job\", \"Harvesting\", 500.0, \"For Farm Labour\", \"2018-04-05 23:00:03\"], [5, 1, 1, \"Labour\", \"Job\", \"Harvesting\", 500.0, \"For Farm Labour\", \"2018-04-05 23:00:16\"]]\n"
     ]
    }
   ],
   "source": [
    "finace_Row_data = GetFinanceData(1);\n",
    "\n",
    "print (finace_Row_data)\n",
    "\n",
    "list_Finance_Data = []\n",
    "\n",
    "for row in finace_Row_data:\n",
    "    Id = row[0]\n",
    "    FarmerID = row[1] \n",
    "    IsExpense = row[2] \n",
    "    Type = row[3] \n",
    "    SubType = row[4] \n",
    "    JobType = row[5] \n",
    "    Amount = float(row[6])\n",
    "    Comment = row[7] \n",
    "#     print (type(row[8]))\n",
    "    CurrentDate = str(row[8])\n",
    "#     CurrentDate = row[8]\n",
    "#     print (CurrentDate)\n",
    "    \n",
    "    finance_Object = (Id, FarmerID, IsExpense, Type, SubType, JobType, Amount, Comment, CurrentDate);\n",
    "#     print (finance_Object )\n",
    "    \n",
    "    list_Finance_Data.append(finance_Object)\n",
    "    \n",
    "    \n",
    "print (json.dumps(list_Finance_Data, default=lambda o: o.__dict__))\n",
    "    \n"
   ]
  },
  {
   "cell_type": "code",
   "execution_count": null,
   "metadata": {},
   "outputs": [],
   "source": []
  },
  {
   "cell_type": "code",
   "execution_count": null,
   "metadata": {},
   "outputs": [],
   "source": []
  },
  {
   "cell_type": "code",
   "execution_count": null,
   "metadata": {},
   "outputs": [],
   "source": []
  },
  {
   "cell_type": "code",
   "execution_count": null,
   "metadata": {},
   "outputs": [],
   "source": []
  },
  {
   "cell_type": "code",
   "execution_count": null,
   "metadata": {},
   "outputs": [],
   "source": []
  }
 ],
 "metadata": {
  "kernelspec": {
   "display_name": "Python 3",
   "language": "python",
   "name": "python3"
  },
  "language_info": {
   "codemirror_mode": {
    "name": "ipython",
    "version": 3
   },
   "file_extension": ".py",
   "mimetype": "text/x-python",
   "name": "python",
   "nbconvert_exporter": "python",
   "pygments_lexer": "ipython3",
   "version": "3.6.2rc2"
  }
 },
 "nbformat": 4,
 "nbformat_minor": 2
}
