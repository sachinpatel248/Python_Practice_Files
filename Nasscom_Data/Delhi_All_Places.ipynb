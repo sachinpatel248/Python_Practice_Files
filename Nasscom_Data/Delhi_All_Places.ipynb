{
 "cells": [
  {
   "cell_type": "code",
   "execution_count": 1,
   "metadata": {},
   "outputs": [],
   "source": [
    "from googleplaces import GooglePlaces, types, lang\n",
    "from googlemaps import Client as GoogleMaps\n",
    "import pickle\n",
    "import time\n",
    "\n",
    "# pip install python-google-places, pickle"
   ]
  },
  {
   "cell_type": "code",
   "execution_count": 2,
   "metadata": {},
   "outputs": [],
   "source": [
    "def Read_API_KEY_From_File(file_Path):\n",
    "    list_Key = []\n",
    "    with open(file_Path) as file_text:\n",
    "        for key in file_text:\n",
    "            list_Key.append(key.strip())\n",
    "    return list_Key"
   ]
  },
  {
   "cell_type": "code",
   "execution_count": 3,
   "metadata": {},
   "outputs": [],
   "source": [
    "api_key_File_Path = r'D:\\Product\\API_KEY\\API_KEY.txt'\n",
    "\n",
    "list_Key = Read_API_KEY_From_File(api_key_File_Path)\n",
    "\n",
    "PLACE_API_KEY = list_Key[0]\n",
    "ROADS_API_KEY = list_Key[1]\n",
    "\n",
    "file_Path_To_Store_Data = 'Delhi_Proper_Places.pkl'"
   ]
  },
  {
   "cell_type": "code",
   "execution_count": 4,
   "metadata": {},
   "outputs": [],
   "source": [
    "google_places = GooglePlaces(PLACE_API_KEY)"
   ]
  },
  {
   "cell_type": "code",
   "execution_count": null,
   "metadata": {},
   "outputs": [],
   "source": [
    "latitude = 28.520516\n",
    "longitude = 77.145236\n",
    "\n",
    "location_To_Search = {'lat' : latitude, 'lng' : longitude}\n",
    "\n",
    "time_To_Sleep = 10 # in secs\n",
    "number_Of_Request_Required_For_Time_Sleep = 10"
   ]
  },
  {
   "cell_type": "code",
   "execution_count": null,
   "metadata": {},
   "outputs": [],
   "source": [
    "# Below is boumdary range of Delhi state in box pattern\n",
    "lat_Lower_Range = 28.404374\n",
    "lat_Upper_Range = 28.88346\n",
    "long_Lower_Range = 76.239726\n",
    "long_Upper_Range = 77.343423\n",
    "\n",
    "# $$dE0765017$$eE0772054$$fN0285252$$gN0282445\n",
    "\n",
    "# Max Radius to search\n",
    "max_Radius_Of_Search = 50000\n",
    "\n",
    "# Searched places in Delhi\n",
    "list_Places_Query_Result = []\n",
    "list_Place_Id_In_Query_Result = []\n",
    "\n",
    "# All types of places\n",
    "\n",
    "all_Types_To_Search = [types.TYPE_TRAIN_STATION, types.TYPE_TAXI_STAND, types.TYPE_TRANSIT_STATION, \n",
    "                   types.TYPE_AIRPORT, types.TYPE_SHOPPING_MALL, types.TYPE_AMUSEMENT_PARK, types.TYPE_AQUARIUM, \n",
    "                   types.TYPE_BEAUTY_SALON, types.TYPE_CAFE, types.TYPE_BOWLING_ALLEY,  types.TYPE_GAS_STATION,  \n",
    "                   types.TYPE_GROCERY_OR_SUPERMARKET, types.TYPE_GYM, types.TYPE_LIBRARY,  types.TYPE_HOSPITAL,  \n",
    "                   types.TYPE_MOVIE_THEATER, types.TYPE_MUSEUM, types.TYPE_NIGHT_CLUB, types.TYPE_PARK, types.TYPE_PARKING, \n",
    "                   types.TYPE_RESTAURANT, types.TYPE_SPA, types.TYPE_ZOO, types.TYPE_BAR]\n",
    "\n",
    "types_To_Search =  [ types.TYPE_HOSPITAL]\n",
    "\n",
    "\n",
    "file_Path_To_Store_Data = 'Places.pkl'"
   ]
  },
  {
   "cell_type": "code",
   "execution_count": null,
   "metadata": {},
   "outputs": [],
   "source": [
    "def Create_Location_Dictionary(latitude, longitude):\n",
    "    return {'lat' : latitude, 'lng' : longitude}    "
   ]
  },
  {
   "cell_type": "code",
   "execution_count": null,
   "metadata": {},
   "outputs": [],
   "source": [
    "def Get_Query_Result(location_To_Search, max_Radius, types_To_Search):\n",
    "    \n",
    "    return google_places.nearby_search(lat_lng=location_To_Search, radius=max_Radius, types = types_To_Search)"
   ]
  },
  {
   "cell_type": "code",
   "execution_count": null,
   "metadata": {},
   "outputs": [],
   "source": [
    "def Is_Latitude_Longitude_In_Range(location):\n",
    "    \n",
    "    if  lat_Lower_Range <= location['lat'] and location['lat'] <= lat_Upper_Range:\n",
    "        if long_Lower_Range <= location['lng'] and location['lng'] <= long_Upper_Range:\n",
    "            return True\n",
    "        else:\n",
    "            return False\n",
    "    else:\n",
    "        return False"
   ]
  },
  {
   "cell_type": "code",
   "execution_count": null,
   "metadata": {},
   "outputs": [],
   "source": [
    "\n",
    "def Find_All_Places(location):\n",
    "    global list_Places_Query_Result\n",
    "    global list_Place_Id_In_Query_Result\n",
    "    global total_calls\n",
    "    global types_To_Search\n",
    "    global max_Radius_Of_Search\n",
    "    \n",
    "    query_Result = Get_Query_Result(location, max_Radius_Of_Search, types_To_Search)\n",
    "    \n",
    "    total_calls = total_calls + 1\n",
    "    \n",
    "    if (total_calls > 0 and total_calls % 10 == 0 ):\n",
    "        print(\"Total Calls \" + str(total_calls))\n",
    "    \n",
    "    if (total_calls > 0 and total_calls % number_Of_Request_Required_For_Time_Sleep == 0 ):\n",
    "        time.sleep(time_To_Sleep)\n",
    "    \n",
    "    if(len(list_Places_Query_Result) > 0 and len(list_Places_Query_Result) % 100 == 0):\n",
    "        print(\" ##########################################   Total places found: \" + str(len(list_Places_Query_Result)) )\n",
    "        time.sleep(30)\n",
    "\n",
    "    \n",
    "    for place in query_Result.places:\n",
    "        if Is_Latitude_Longitude_In_Range(place.geo_location):\n",
    "            if place.place_id not in list_Place_Id_In_Query_Result:\n",
    "                list_Places_Query_Result.append(place)\n",
    "                list_Place_Id_In_Query_Result.append(place.place_id)\n",
    "                Find_All_Places(place.geo_location)\n",
    "        "
   ]
  },
  {
   "cell_type": "code",
   "execution_count": null,
   "metadata": {},
   "outputs": [],
   "source": [
    "# Searched places in Delhi\n",
    "# list_Places_Query_Result = []\n",
    "# list_Place_Id_In_Query_Result = []\n",
    "\n",
    "value_To_Increment = 0.2\n",
    "count = 0\n",
    "\n",
    "\n",
    "for type_Value in all_Types_To_Search:\n",
    "    temp_lat = lat_Lower_Range\n",
    "    temp_lng = long_Lower_Range\n",
    "\n",
    "    count = count + 1\n",
    "    types_To_Search = [type_Value]\n",
    "    print (\" @@@@@@@@@@@@@@@@@@@@@@@@@@@@@@@@@@@@@@@@@@@@@  Type \" + type_Value + \"  \" + str(count) + '/' + str(len(all_Types_To_Search)))\n",
    "    \n",
    "    if (count > 0):\n",
    "        while temp_lat <= lat_Upper_Range:\n",
    "            while temp_lng <=long_Upper_Range:\n",
    "                location_To_Search = {'lat' : temp_lat, 'lng' : temp_lng}        \n",
    "                Find_All_Places(location_To_Search)\n",
    "\n",
    "                temp_lng = temp_lng + value_To_Increment\n",
    "\n",
    "            temp_lat = temp_lat + value_To_Increment\n",
    "\n",
    "        time.sleep(30)"
   ]
  },
  {
   "cell_type": "code",
   "execution_count": null,
   "metadata": {},
   "outputs": [],
   "source": [
    "with open(file_Path_To_Store_Data, 'wb') as f:\n",
    "    pickle.dump(list_Places_Query_Result, f)"
   ]
  },
  {
   "cell_type": "code",
   "execution_count": 17,
   "metadata": {
    "scrolled": true
   },
   "outputs": [
    {
     "data": {
      "text/plain": [
       "550"
      ]
     },
     "execution_count": 17,
     "metadata": {},
     "output_type": "execute_result"
    }
   ],
   "source": [
    "import pickle\n",
    "\n",
    "list_Places_Delhi = []\n",
    "file_Path_To_Store_Data = 'Delhi_Proper_Places.pkl'\n",
    "\n",
    "with open(file_Path_To_Store_Data, 'rb') as f:\n",
    "    list_Places_Delhi = pickle.load(f)\n",
    "    \n",
    "len(list_Places_Delhi)"
   ]
  },
  {
   "cell_type": "code",
   "execution_count": 31,
   "metadata": {},
   "outputs": [],
   "source": [
    "list_Place = []\n",
    "\n",
    "for index in range (0, len(list_Places_Delhi), 100):\n",
    "    list_Place = []\n",
    "    \n",
    "    for index_new in range (index, (index + 100),1 ):\n",
    "        location_To_Search = list_Places_Delhi[index].geo_location\n",
    "        list_Place.append(location_To_Search)\n",
    "        \n",
    "        result = gmaps.nearest_roads(list_Place)\n",
    "        print(result)"
   ]
  },
  {
   "cell_type": "code",
   "execution_count": null,
   "metadata": {},
   "outputs": [],
   "source": [
    "from geopy.geocoders import Nominatim\n",
    "geolocator = Nominatim(user_agent='geopy/1.16.0')"
   ]
  },
  {
   "cell_type": "code",
   "execution_count": null,
   "metadata": {},
   "outputs": [],
   "source": [
    "delhi_places_Count = 0\n",
    "count = 0\n",
    "list_Proper_Places_Of_Delhi = []\n",
    "list_Places_NOT_In_Delhi =[]\n",
    "\n",
    "for places in list_Places_Delhi:\n",
    "    list_Location = []\n",
    "    list_Location.append(places.geo_location['lat'])\n",
    "    list_Location.append(places.geo_location['lng'])\n",
    "    location = geolocator.reverse(query=list_Location, timeout=10)\n",
    "    \n",
    "    if ( ('delhi' in str(location).lower()) and \n",
    "         ('haryana' not in str(location).lower()) and\n",
    "         ('uttar pradesh' not in str(location).lower()) and \n",
    "         ('rajasthan' not in str(location).lower()) ):\n",
    "        delhi_places_Count = delhi_places_Count + 1\n",
    "        list_Proper_Places_Of_Delhi.append(places)\n",
    "    \n",
    "    else:\n",
    "        list_Places_NOT_In_Delhi.append(places)\n",
    "    \n",
    "    count = count + 1\n",
    "    \n",
    "    if count % 50 == 0:\n",
    "        print (\"Proper Places of Delhi \" + str(len(list_Proper_Places_Of_Delhi)))\n",
    "        print (\"Total places filtered \" + str(count) + \"/\" + str(len(list_Places_Delhi)))\n",
    "        time.sleep(5)"
   ]
  },
  {
   "cell_type": "code",
   "execution_count": null,
   "metadata": {},
   "outputs": [],
   "source": [
    "print(len(list_Proper_Places_Of_Delhi))"
   ]
  },
  {
   "cell_type": "code",
   "execution_count": null,
   "metadata": {},
   "outputs": [],
   "source": [
    "with open(file_Path_To_Store_Data, 'wb') as f:\n",
    "    pickle.dump(list_Proper_Places_Of_Delhi, f)"
   ]
  },
  {
   "cell_type": "code",
   "execution_count": null,
   "metadata": {},
   "outputs": [],
   "source": [
    "for places in list_Proper_Places_Of_Delhi:\n",
    "    if 'bus' in (places.types[0]):\n",
    "        print(places.types[0])"
   ]
  },
  {
   "cell_type": "code",
   "execution_count": 51,
   "metadata": {},
   "outputs": [],
   "source": [
    "latitude = 28.520516\n",
    "longitude = 77.145236\n",
    "\n",
    "location_To_Search = {'lat' : latitude, 'lng' : longitude}\n",
    "\n",
    "query_result = google_places.nearby_search(lat_lng=location_To_Search, radius=500, types = types.TYPE_ROUTE)"
   ]
  },
  {
   "cell_type": "code",
   "execution_count": 53,
   "metadata": {},
   "outputs": [],
   "source": [
    "# for place in query_result.places:\n",
    "#     print(place.get_details)"
   ]
  },
  {
   "cell_type": "code",
   "execution_count": 5,
   "metadata": {},
   "outputs": [],
   "source": [
    "\n",
    "gmaps = GoogleMaps(ROADS_API_KEY)"
   ]
  },
  {
   "cell_type": "code",
   "execution_count": 15,
   "metadata": {},
   "outputs": [
    {
     "data": {
      "text/plain": [
       "[]"
      ]
     },
     "execution_count": 15,
     "metadata": {},
     "output_type": "execute_result"
    }
   ],
   "source": [
    "location_To_Search = {'lat' : 28.612900001, 'lng' : 77.22950000001}\n",
    "\n",
    "result = gmaps.nearest_roads(location_To_Search )\n",
    "\n",
    "result"
   ]
  },
  {
   "cell_type": "code",
   "execution_count": null,
   "metadata": {},
   "outputs": [],
   "source": [
    "result = gmaps.nearest_roads(location_To_Search)"
   ]
  },
  {
   "cell_type": "code",
   "execution_count": null,
   "metadata": {},
   "outputs": [],
   "source": [
    "for place in result:\n",
    "    print(place)"
   ]
  },
  {
   "cell_type": "code",
   "execution_count": 34,
   "metadata": {},
   "outputs": [
    {
     "name": "stdout",
     "output_type": "stream",
     "text": [
      "<Place name=\"Babu Jagjivan Ram Road\", lat=28.5204357, lng=77.1443771>\n",
      "Babu Jagjivan Ram Road\n",
      "{'lat': Decimal('28.5204357'), 'lng': Decimal('77.1443771')}\n"
     ]
    }
   ],
   "source": [
    "places = []\n",
    "placeId = 'ChIJqUkIFYEeDTkRSogx7POWbZU'\n",
    "\n",
    "places.append(placeId)\n",
    "\n",
    "place_Object = google_places.get_place(placeId)\n",
    "print((place_Object))\n",
    "print(place_Object.name)\n",
    "print(place_Object.geo_location)\n"
   ]
  },
  {
   "cell_type": "code",
   "execution_count": 62,
   "metadata": {},
   "outputs": [],
   "source": []
  },
  {
   "cell_type": "code",
   "execution_count": 6,
   "metadata": {},
   "outputs": [],
   "source": [
    "#Creating famous tourist places coordinates\n",
    "\n",
    "list_Known_Places = []\n",
    "list_Known_Places.append((28.6129, 77.2295, 'Delhi Gate'))\n",
    "# list_Known_Places.append((28.6127, 77.2773, 'Akshardham'))\n",
    "list_Known_Places.append((28.6365, 77.1831, 'New Rajinder Nagar Post Office'))\n",
    "list_Known_Places.append((28.5244, 77.1855, 'Qutub Minar'))\n",
    "list_Known_Places.append((28.5681, 77.2058, 'Safdarjung Hospital'))\n",
    "list_Known_Places.append((28.5997, 77.0990, 'Indira Park')) \n",
    "list_Known_Places.append((28.6390, 77.0745, 'PVR Vikaspuri')) "
   ]
  },
  {
   "cell_type": "code",
   "execution_count": 115,
   "metadata": {},
   "outputs": [],
   "source": [
    "def Get_Nearest_Road_Details(location_To_Search):\n",
    "    result = gmaps.nearest_roads(location_To_Search)\n",
    "    \n",
    "    if (len(result) > 0):\n",
    "        placeId = str(result[0]['placeId'])\n",
    "        place_Object = google_places.get_place(placeId)\n",
    "        return (place_Object)\n",
    "    else:\n",
    "        return False"
   ]
  },
  {
   "cell_type": "code",
   "execution_count": 117,
   "metadata": {},
   "outputs": [
    {
     "name": "stdout",
     "output_type": "stream",
     "text": [
      "\n",
      "Place Searched by   - Delhi Gate\n",
      "                          Location: {'lat': 28.6129, 'lng': 77.2295}\n",
      "XXXXXXXXXXXXXXXX - No nearby places found\n",
      "\n",
      "\n",
      "Place Searched by   - New Rajinder Nagar Post Office\n",
      "                          Location: {'lat': 28.6365, 'lng': 77.1831}\n",
      "Nearest Place found - Raman Lamba Marg\n",
      "                          Location: {'lat': Decimal('28.6363491'), 'lng': Decimal('77.1831541')}\n",
      "\n",
      "\n",
      "Place Searched by   - Qutub Minar\n",
      "                          Location: {'lat': 28.5244, 'lng': 77.1855}\n",
      "XXXXXXXXXXXXXXXX - No nearby places found\n",
      "\n",
      "\n",
      "Place Searched by   - Safdarjung Hospital\n",
      "                          Location: {'lat': 28.5681, 'lng': 77.2058}\n",
      "XXXXXXXXXXXXXXXX - No nearby places found\n",
      "\n",
      "\n",
      "Place Searched by   - Indira Park\n",
      "                          Location: {'lat': 28.5997, 'lng': 77.099}\n",
      "Nearest Place found - Unnamed Road\n",
      "                          Location: {'lat': Decimal('28.5997485'), 'lng': Decimal('77.0989718')}\n",
      "\n",
      "\n",
      "Place Searched by   - PVR Vikaspuri\n",
      "                          Location: {'lat': 28.639, 'lng': 77.0745}\n",
      "Nearest Place found - Guru Virjanand Marg\n",
      "                          Location: {'lat': Decimal('28.6386423'), 'lng': Decimal('77.0745072')}\n",
      "\n"
     ]
    }
   ],
   "source": [
    "for known_place in list_Known_Places:\n",
    "    location_To_Search = {'lat' : known_place[0], 'lng' : known_place[1]}\n",
    "    place = Get_Nearest_Road_Details(location_To_Search)\n",
    "    \n",
    "    print ()\n",
    "    print ('Place Searched by   - ' + str(known_place[2]))\n",
    "    print ('                          Location: ' + str(location_To_Search))\n",
    "    \n",
    "    if place != False:\n",
    "        print ('Nearest Place found - ' + str(place.name))\n",
    "        print ('                          Location: ' + str(place.geo_location))\n",
    "    else:\n",
    "        print('XXXXXXXXXXXXXXXX - No nearby places found')\n",
    "    print ()"
   ]
  },
  {
   "cell_type": "code",
   "execution_count": null,
   "metadata": {},
   "outputs": [],
   "source": []
  },
  {
   "cell_type": "code",
   "execution_count": null,
   "metadata": {},
   "outputs": [],
   "source": []
  }
 ],
 "metadata": {
  "kernelspec": {
   "display_name": "Python 3",
   "language": "python",
   "name": "python3"
  },
  "language_info": {
   "codemirror_mode": {
    "name": "ipython",
    "version": 3
   },
   "file_extension": ".py",
   "mimetype": "text/x-python",
   "name": "python",
   "nbconvert_exporter": "python",
   "pygments_lexer": "ipython3",
   "version": "3.6.5"
  }
 },
 "nbformat": 4,
 "nbformat_minor": 2
}
