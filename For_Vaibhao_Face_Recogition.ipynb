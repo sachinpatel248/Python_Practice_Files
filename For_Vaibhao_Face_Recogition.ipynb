{
 "cells": [
  {
   "cell_type": "code",
   "execution_count": 1,
   "metadata": {},
   "outputs": [
    {
     "name": "stderr",
     "output_type": "stream",
     "text": [
      "c:\\users\\sachin\\appdata\\local\\programs\\python\\python36\\lib\\site-packages\\h5py\\__init__.py:36: FutureWarning: Conversion of the second argument of issubdtype from `float` to `np.floating` is deprecated. In future, it will be treated as `np.float64 == np.dtype(float).type`.\n",
      "  from ._conv import register_converters as _register_converters\n"
     ]
    },
    {
     "name": "stdout",
     "output_type": "stream",
     "text": [
      "WARNING:tensorflow:From C:\\Users\\Sachin\\AppData\\Local\\Programs\\Python\\Python36\\Lib\\site-packages\\facenet\\src\\align\\detect_face.py:210: calling reduce_max (from tensorflow.python.ops.math_ops) with keep_dims is deprecated and will be removed in a future version.\n",
      "Instructions for updating:\n",
      "keep_dims is deprecated, use keepdims instead\n",
      "WARNING:tensorflow:From C:\\Users\\Sachin\\AppData\\Local\\Programs\\Python\\Python36\\Lib\\site-packages\\facenet\\src\\align\\detect_face.py:212: calling reduce_sum (from tensorflow.python.ops.math_ops) with keep_dims is deprecated and will be removed in a future version.\n",
      "Instructions for updating:\n",
      "keep_dims is deprecated, use keepdims instead\n",
      "Model filename: 20170512-110547/20170512-110547.pb\n"
     ]
    }
   ],
   "source": [
    "import cv2\n",
    "import matplotlib.pyplot as plt\n",
    "import os\n",
    "import numpy as np\n",
    "import csv\n",
    "from face_embeddings import Get_Face_Embedding,getEmbedding"
   ]
  },
  {
   "cell_type": "code",
   "execution_count": 2,
   "metadata": {},
   "outputs": [],
   "source": [
    "folder_path = r'C:\\Users\\Sachin\\Desktop'\n",
    "\n",
    "if not os.path.isdir(folder_path):\n",
    "    folder_path = r'C:\\Users\\Sachin13390\\Desktop'"
   ]
  },
  {
   "cell_type": "code",
   "execution_count": 3,
   "metadata": {},
   "outputs": [],
   "source": [
    "global haar_face_cascade\n",
    "haar_face_cascade = cv2.CascadeClassifier('./haarcascade_frontalface_alt.xml')"
   ]
  },
  {
   "cell_type": "code",
   "execution_count": 4,
   "metadata": {},
   "outputs": [],
   "source": [
    "def Get_Face_Cordinates_From_Image(Grey_Image):\n",
    "    faces = haar_face_cascade.detectMultiScale(Grey_Image, scaleFactor=1.1, minNeighbors=5);\n",
    "    return faces\n",
    "    "
   ]
  },
  {
   "cell_type": "code",
   "execution_count": 8,
   "metadata": {},
   "outputs": [
    {
     "name": "stdout",
     "output_type": "stream",
     "text": [
      "C:\\Users\\Sachin\\Desktop\\Face_Data\n"
     ]
    }
   ],
   "source": [
    "Image_Dataset_Path = folder_path + '\\\\' + \"Face_Data\"\n",
    "\n",
    "print (Image_Dataset_Path)\n",
    "\n",
    "list_Image_Fetaure = []\n",
    "total_Image_Count = 0"
   ]
  },
  {
   "cell_type": "code",
   "execution_count": 9,
   "metadata": {},
   "outputs": [
    {
     "name": "stdout",
     "output_type": "stream",
     "text": [
      "13\n"
     ]
    }
   ],
   "source": [
    "for root, dirs, files in os.walk(Image_Dataset_Path, topdown=True):\n",
    "    for name in files:\n",
    "        total_Image_Count = total_Image_Count + 1\n",
    "        \n",
    "print (total_Image_Count) ## TOTAL IMAGE count in folder"
   ]
  },
  {
   "cell_type": "code",
   "execution_count": 10,
   "metadata": {},
   "outputs": [],
   "source": [
    "#For Getting Features of all images in folder & storing in list \n",
    "# If you want you can store it in a file"
   ]
  },
  {
   "cell_type": "code",
   "execution_count": 11,
   "metadata": {},
   "outputs": [
    {
     "name": "stdout",
     "output_type": "stream",
     "text": [
      "Grant_Gustin\n",
      "---------------   0 / 13\n",
      "Grant_Gustin\n",
      "Grant_Gustin\n",
      "Error Found at 3\n",
      "Grant_Gustin\n",
      "Error Found at 5\n",
      "Grant_Gustin\n",
      "Oliver_Queen\n",
      "Oliver_Queen\n",
      "Oliver_Queen\n",
      "Oliver_Queen\n",
      "Oliver_Queen\n",
      "Oliver_Queen\n",
      "Total errors 2\n"
     ]
    }
   ],
   "source": [
    "temp_Count = 0\n",
    "list_Image_Fetaure = []\n",
    "error_Count = 0\n",
    "\n",
    "for root, dirs, files in os.walk(Image_Dataset_Path, topdown=True):\n",
    "\n",
    "    for folder in dirs:\n",
    "        \n",
    "        for root_Path, folder_Path, image_Files in os.walk(os.path.join(root, folder), topdown=True):\n",
    "            \n",
    "            for image in image_Files:\n",
    "                if temp_Count < 15000:\n",
    "                    \n",
    "                    try:\n",
    "                        image_Path = os.path.join(root_Path, image)\n",
    "                        #face_Embedding = Get_Face_Embedding (new_Face_Path)\n",
    "                        image = cv2.imread(image_Path)\n",
    "                        faces = Get_Face_Cordinates_From_Image(image)\n",
    "                        \n",
    "                        for (x, y, w, h) in faces:\n",
    "                            image = image[y:y+h,x:x+w]\n",
    "                            face_Embedding = ''\n",
    "                            image = cv2.resize(image, (160,160),interpolation=cv2.INTER_CUBIC)\n",
    "                        \n",
    "                        face_Embedding = getEmbedding(image)\n",
    "                        \n",
    "                        print (folder)\n",
    "                        \n",
    "                        list_Image_Fetaure.append((folder, face_Embedding.tolist()))                      \n",
    "                        \n",
    "                    except:\n",
    "                        print (\"Error Found at \" + str(temp_Count))\n",
    "                        error_Count = error_Count + 1\n",
    "                        error_Count\n",
    "                        \n",
    "                    \n",
    "                    if temp_Count % 100 == 0:\n",
    "                        print (\"---------------   \" + str(temp_Count) + \" / \" + str(total_Image_Count))\n",
    "                        \n",
    "                    temp_Count = temp_Count + 1\n",
    "                        #print (temp_Count)\n",
    "                    \n",
    "\n",
    "print (\"Total errors \" + str(error_Count))\n",
    "    "
   ]
  },
  {
   "cell_type": "code",
   "execution_count": null,
   "metadata": {},
   "outputs": [],
   "source": []
  },
  {
   "cell_type": "code",
   "execution_count": null,
   "metadata": {},
   "outputs": [],
   "source": [
    "## For testing a image, It will return a person name i.e which you used as folder name"
   ]
  },
  {
   "cell_type": "code",
   "execution_count": 12,
   "metadata": {},
   "outputs": [
    {
     "name": "stdout",
     "output_type": "stream",
     "text": [
      "C:\\Users\\Sachin\\Desktop\\abhi3.jpg\n"
     ]
    },
    {
     "ename": "AttributeError",
     "evalue": "'NoneType' object has no attribute 'reshape'",
     "output_type": "error",
     "traceback": [
      "\u001b[1;31m---------------------------------------------------------------------------\u001b[0m",
      "\u001b[1;31mAttributeError\u001b[0m                            Traceback (most recent call last)",
      "\u001b[1;32m<ipython-input-12-f9e2dba41129>\u001b[0m in \u001b[0;36m<module>\u001b[1;34m()\u001b[0m\n\u001b[0;32m     13\u001b[0m     \u001b[0mimage\u001b[0m \u001b[1;33m=\u001b[0m \u001b[0mcv2\u001b[0m\u001b[1;33m.\u001b[0m\u001b[0mresize\u001b[0m\u001b[1;33m(\u001b[0m\u001b[0mimage\u001b[0m\u001b[1;33m,\u001b[0m \u001b[1;33m(\u001b[0m\u001b[1;36m160\u001b[0m\u001b[1;33m,\u001b[0m\u001b[1;36m160\u001b[0m\u001b[1;33m)\u001b[0m\u001b[1;33m,\u001b[0m\u001b[0minterpolation\u001b[0m\u001b[1;33m=\u001b[0m\u001b[0mcv2\u001b[0m\u001b[1;33m.\u001b[0m\u001b[0mINTER_CUBIC\u001b[0m\u001b[1;33m)\u001b[0m\u001b[1;33m\u001b[0m\u001b[0m\n\u001b[0;32m     14\u001b[0m \u001b[1;33m\u001b[0m\u001b[0m\n\u001b[1;32m---> 15\u001b[1;33m \u001b[0mface_Embedding\u001b[0m \u001b[1;33m=\u001b[0m \u001b[0mgetEmbedding\u001b[0m\u001b[1;33m(\u001b[0m\u001b[0mimage\u001b[0m\u001b[1;33m)\u001b[0m\u001b[1;33m\u001b[0m\u001b[0m\n\u001b[0m\u001b[0;32m     16\u001b[0m \u001b[1;33m\u001b[0m\u001b[0m\n\u001b[0;32m     17\u001b[0m \u001b[1;31m#print(face_Embedding)\u001b[0m\u001b[1;33m\u001b[0m\u001b[1;33m\u001b[0m\u001b[0m\n",
      "\u001b[1;32m~\\Desktop\\Python_Practice_Files\\face_embeddings.py\u001b[0m in \u001b[0;36mgetEmbedding\u001b[1;34m(resized)\u001b[0m\n\u001b[0;32m     51\u001b[0m \u001b[1;33m\u001b[0m\u001b[0m\n\u001b[0;32m     52\u001b[0m \u001b[1;32mdef\u001b[0m \u001b[0mgetEmbedding\u001b[0m\u001b[1;33m(\u001b[0m\u001b[0mresized\u001b[0m\u001b[1;33m)\u001b[0m\u001b[1;33m:\u001b[0m\u001b[1;33m\u001b[0m\u001b[0m\n\u001b[1;32m---> 53\u001b[1;33m     \u001b[0mreshaped\u001b[0m \u001b[1;33m=\u001b[0m \u001b[0mresized\u001b[0m\u001b[1;33m.\u001b[0m\u001b[0mreshape\u001b[0m\u001b[1;33m(\u001b[0m\u001b[1;33m-\u001b[0m\u001b[1;36m1\u001b[0m\u001b[1;33m,\u001b[0m\u001b[0minput_image_size\u001b[0m\u001b[1;33m,\u001b[0m\u001b[0minput_image_size\u001b[0m\u001b[1;33m,\u001b[0m\u001b[1;36m3\u001b[0m\u001b[1;33m)\u001b[0m\u001b[1;33m\u001b[0m\u001b[0m\n\u001b[0m\u001b[0;32m     54\u001b[0m     \u001b[0mfeed_dict\u001b[0m \u001b[1;33m=\u001b[0m \u001b[1;33m{\u001b[0m\u001b[0mimages_placeholder\u001b[0m\u001b[1;33m:\u001b[0m \u001b[0mreshaped\u001b[0m\u001b[1;33m,\u001b[0m \u001b[0mphase_train_placeholder\u001b[0m\u001b[1;33m:\u001b[0m \u001b[1;32mFalse\u001b[0m\u001b[1;33m}\u001b[0m\u001b[1;33m\u001b[0m\u001b[0m\n\u001b[0;32m     55\u001b[0m     \u001b[1;31m# print(feed_dict)\u001b[0m\u001b[1;33m\u001b[0m\u001b[1;33m\u001b[0m\u001b[0m\n",
      "\u001b[1;31mAttributeError\u001b[0m: 'NoneType' object has no attribute 'reshape'"
     ]
    }
   ],
   "source": [
    "# sample image to test\n",
    "\n",
    "\n",
    "image_Path = folder_path + \"\\\\abhi3.jpg\"\n",
    "print(image_Path)\n",
    "image = cv2.imread(image_Path)\n",
    "\n",
    "faces = Get_Face_Cordinates_From_Image(image)\n",
    "                        \n",
    "for (x, y, w, h) in faces:\n",
    "    face_Embedding = ''\n",
    "    image = image[y:y+h,x:x+w]\n",
    "    image = cv2.resize(image, (160,160),interpolation=cv2.INTER_CUBIC)\n",
    "\n",
    "face_Embedding = getEmbedding(image)\n",
    "\n",
    "#print(face_Embedding)\n",
    "\n",
    "threshold = 0.5\n",
    "for face_encoding in list_Image_Fetaure:\n",
    "    #print (face_encoding)\n",
    "    s=1\n",
    "    distance = np.linalg.norm(face_encoding[1] - face_Embedding, axis=1)\n",
    "    if distance < threshold:\n",
    "        y=0\n",
    "        print (\"Person can be   \" +  str(face_encoding[0]) + \"  \" + str(distance[0]))"
   ]
  },
  {
   "cell_type": "code",
   "execution_count": null,
   "metadata": {},
   "outputs": [],
   "source": []
  },
  {
   "cell_type": "code",
   "execution_count": null,
   "metadata": {},
   "outputs": [],
   "source": []
  }
 ],
 "metadata": {
  "kernelspec": {
   "display_name": "Python 3",
   "language": "python",
   "name": "python3"
  },
  "language_info": {
   "codemirror_mode": {
    "name": "ipython",
    "version": 3
   },
   "file_extension": ".py",
   "mimetype": "text/x-python",
   "name": "python",
   "nbconvert_exporter": "python",
   "pygments_lexer": "ipython3",
   "version": "3.6.2rc2"
  }
 },
 "nbformat": 4,
 "nbformat_minor": 2
}
