{
 "cells": [
  {
   "cell_type": "code",
   "execution_count": 142,
   "metadata": {},
   "outputs": [],
   "source": [
    "from __future__ import print_function\n",
    "\n",
    "from keras.preprocessing import sequence\n",
    "from keras.models import Sequential\n",
    "from keras.layers import Dense, Embedding\n",
    "from keras.layers import LSTM\n",
    "from keras.datasets import imdb\n",
    "from keras.models import load_model\n",
    "from keras.preprocessing.sequence import pad_sequences\n",
    "\n",
    "import pandas as pd\n",
    "import numpy as np\n",
    "\n",
    "import re\n",
    "import nltk\n",
    "from nltk.corpus import stopwords\n",
    "\n",
    "from nltk.stem.porter import PorterStemmer\n",
    "\n",
    "import tensorflow as tf"
   ]
  },
  {
   "cell_type": "code",
   "execution_count": 143,
   "metadata": {},
   "outputs": [
    {
     "name": "stdout",
     "output_type": "stream",
     "text": [
      "Loading data...\n",
      "25000 train sequences\n",
      "25000 test sequences\n"
     ]
    }
   ],
   "source": [
    "model_name = 'Sentiment_Model.pb'\n",
    "\n",
    "max_features = 88584\n",
    "maxlen = 100  # cut texts after this number of words (among top max_features most common words)\n",
    "batch_size = 32\n",
    "\n",
    "print('Loading data...')\n",
    "(x_train, y_train), (x_test, y_test) = imdb.load_data(num_words=max_features)\n",
    "print(len(x_train), 'train sequences')\n",
    "print(len(x_test), 'test sequences')"
   ]
  },
  {
   "cell_type": "code",
   "execution_count": 144,
   "metadata": {},
   "outputs": [
    {
     "name": "stdout",
     "output_type": "stream",
     "text": [
      "x_train shape: (25000, 100)\n",
      "x_test shape: (25000, 100)\n"
     ]
    }
   ],
   "source": [
    "x_train = sequence.pad_sequences(x_train, maxlen=maxlen)\n",
    "x_test = sequence.pad_sequences(x_test, maxlen=maxlen)\n",
    "print('x_train shape:', x_train.shape)\n",
    "print('x_test shape:', x_test.shape)"
   ]
  },
  {
   "cell_type": "code",
   "execution_count": 145,
   "metadata": {},
   "outputs": [
    {
     "name": "stdout",
     "output_type": "stream",
     "text": [
      "Build model...\n"
     ]
    }
   ],
   "source": [
    "print('Build model...')\n",
    "model = Sequential()\n",
    "model.add(Embedding(max_features, 128))\n",
    "model.add(LSTM(128, dropout=0.2, recurrent_dropout=0.2))\n",
    "model.add(Dense(1, activation='sigmoid'))"
   ]
  },
  {
   "cell_type": "code",
   "execution_count": 146,
   "metadata": {},
   "outputs": [
    {
     "name": "stdout",
     "output_type": "stream",
     "text": [
      "Train...\n",
      "Train on 25000 samples, validate on 25000 samples\n",
      "Epoch 1/10\n",
      "25000/25000 [==============================] - 85s 3ms/step - loss: 0.5642 - acc: 0.7137 - val_loss: 0.3810 - val_acc: 0.8310\n",
      "Epoch 2/10\n",
      "25000/25000 [==============================] - 90s 4ms/step - loss: 0.3141 - acc: 0.8756 - val_loss: 0.3595 - val_acc: 0.8422\n",
      "Epoch 3/10\n",
      "25000/25000 [==============================] - 93s 4ms/step - loss: 0.1982 - acc: 0.9287 - val_loss: 0.3996 - val_acc: 0.8426\n",
      "Epoch 4/10\n",
      "25000/25000 [==============================] - 93s 4ms/step - loss: 0.1485 - acc: 0.9484 - val_loss: 0.4187 - val_acc: 0.8350\n",
      "Epoch 5/10\n",
      "25000/25000 [==============================] - 101s 4ms/step - loss: 0.1011 - acc: 0.9663 - val_loss: 0.4683 - val_acc: 0.8224\n",
      "Epoch 6/10\n",
      "25000/25000 [==============================] - 89s 4ms/step - loss: 0.0871 - acc: 0.9718 - val_loss: 0.5509 - val_acc: 0.8194\n",
      "Epoch 7/10\n",
      "25000/25000 [==============================] - 94s 4ms/step - loss: 0.0581 - acc: 0.9821 - val_loss: 0.6405 - val_acc: 0.8179\n",
      "Epoch 8/10\n",
      "25000/25000 [==============================] - 87s 3ms/step - loss: 0.0483 - acc: 0.9844 - val_loss: 0.6258 - val_acc: 0.8175\n",
      "Epoch 9/10\n",
      "25000/25000 [==============================] - 110s 4ms/step - loss: 0.0514 - acc: 0.9834 - val_loss: 0.6739 - val_acc: 0.8104\n",
      "Epoch 10/10\n",
      "25000/25000 [==============================] - 142s 6ms/step - loss: 0.0493 - acc: 0.9832 - val_loss: 0.7864 - val_acc: 0.8152\n"
     ]
    }
   ],
   "source": [
    "# try using different optimizers and different optimizer configs\n",
    "model.compile(loss='binary_crossentropy',\n",
    "              optimizer='adam',\n",
    "              metrics=['accuracy'])\n",
    "\n",
    "print('Train...')\n",
    "model.fit(x_train, y_train,\n",
    "          batch_size=512,\n",
    "          epochs=10,\n",
    "          validation_data=(x_test, y_test))\n",
    "\n",
    "model.save(model_name)"
   ]
  },
  {
   "cell_type": "code",
   "execution_count": 147,
   "metadata": {},
   "outputs": [
    {
     "name": "stdout",
     "output_type": "stream",
     "text": [
      "25000/25000 [==============================] - 35s 1ms/step\n",
      "Test score: 0.7863949043965339\n",
      "Test accuracy: 0.81524\n"
     ]
    }
   ],
   "source": [
    "score, acc = model.evaluate(x_test, y_test,\n",
    "                            batch_size=batch_size)\n",
    "print('Test score:', score)\n",
    "print('Test accuracy:', acc)"
   ]
  },
  {
   "cell_type": "code",
   "execution_count": 161,
   "metadata": {},
   "outputs": [],
   "source": [
    "csv_File_Path = r'C:\\Users\\Sachin13390\\Desktop\\userfeedback.csv'"
   ]
  },
  {
   "cell_type": "code",
   "execution_count": 162,
   "metadata": {},
   "outputs": [],
   "source": [
    "dataset = pd.read_csv(csv_File_Path)"
   ]
  },
  {
   "cell_type": "code",
   "execution_count": 165,
   "metadata": {},
   "outputs": [],
   "source": [
    "space_Char = ' '\n",
    "string_Char_Not_To_Remove = '[^A-Za-z]'\n",
    "review_Column_Name = 'Review'\n",
    "sentiment_Column_Name = 'Sentiment'\n",
    "\n",
    "ps = PorterStemmer()\n",
    "\n",
    "corpus = []"
   ]
  },
  {
   "cell_type": "code",
   "execution_count": 168,
   "metadata": {},
   "outputs": [
    {
     "name": "stdout",
     "output_type": "stream",
     "text": [
      "lte network does not work only edge network on att cellphone is sending black pages for a long period of time when i use apps cellphone screen is not working properly i cannot even write or dial reset times and the problem remains the cellp\n"
     ]
    }
   ],
   "source": [
    "for i in range(0, 1):\n",
    "    review = re.sub(string_Char_Not_To_Remove, space_Char, dataset[review_Column_Name][i])\n",
    "    print (review)\n",
    "    review = review.lower().split()\n",
    "#     review = [ps.stem(word) for word in review if not word in set(stopwords.words('english'))]\n",
    "#     review = ' '.join(review)\n",
    "#     print (review)\n",
    "    \n",
    "    dataset[review_Column_Name][i] = review\n",
    "    \n",
    "    \n",
    "    \n",
    "    if dataset[sentiment_Column_Name][i] == 'Negative':\n",
    "        dataset[sentiment_Column_Name][i] = 0\n",
    "    else:\n",
    "        dataset[sentiment_Column_Name][i] = 1  "
   ]
  },
  {
   "cell_type": "code",
   "execution_count": 152,
   "metadata": {},
   "outputs": [],
   "source": [
    "X_test = dataset.iloc[:, 0:1]\n",
    "y_test = dataset.iloc[:, 1:2]"
   ]
  },
  {
   "cell_type": "code",
   "execution_count": null,
   "metadata": {},
   "outputs": [],
   "source": []
  },
  {
   "cell_type": "code",
   "execution_count": 153,
   "metadata": {},
   "outputs": [],
   "source": [
    "imdb_Dataset_File_Name = r'C:\\Users\\Sachin13390\\Desktop\\imdb_full.pkl'"
   ]
  },
  {
   "cell_type": "code",
   "execution_count": 154,
   "metadata": {},
   "outputs": [
    {
     "data": {
      "text/plain": [
       "88584"
      ]
     },
     "execution_count": 154,
     "metadata": {},
     "output_type": "execute_result"
    }
   ],
   "source": [
    "word_index = tf.keras.datasets.imdb.get_word_index()\n",
    "\n",
    "list_words = []\n",
    "for word in word_index:\n",
    "    list_words.append(word)\n",
    "\n",
    "len(list_words)"
   ]
  },
  {
   "cell_type": "code",
   "execution_count": 155,
   "metadata": {},
   "outputs": [],
   "source": [
    "a = []\n",
    "for word in X_test['Review'][0].split(' '):\n",
    "    if word in list_words :\n",
    "        a.append(list_words.index(word))\n",
    "#         print(list_words.index(word))\n",
    "    else:\n",
    "        a.append(0)\n",
    "    \n",
    "#     print (word)"
   ]
  },
  {
   "cell_type": "code",
   "execution_count": 156,
   "metadata": {},
   "outputs": [],
   "source": [
    "model = load_model(model_name)"
   ]
  },
  {
   "cell_type": "code",
   "execution_count": 157,
   "metadata": {},
   "outputs": [
    {
     "data": {
      "text/plain": [
       "0"
      ]
     },
     "execution_count": 157,
     "metadata": {},
     "output_type": "execute_result"
    }
   ],
   "source": [
    "sentences = X_test['Review'][11]\n",
    "\n",
    "word_index = imdb.get_word_index()\n",
    "\n",
    "x_test = [[word_index[w] for w in sentences if w in word_index]]\n",
    "\n",
    "x_test = pad_sequences(x_test, maxlen=maxlen) # Should be same which you used for training data\n",
    "\n",
    "vector = np.array([x_test.flatten()])\n",
    "\n",
    "model.predict_classes(vector)[0][0]"
   ]
  },
  {
   "cell_type": "code",
   "execution_count": 158,
   "metadata": {},
   "outputs": [
    {
     "name": "stdout",
     "output_type": "stream",
     "text": [
      "0\n",
      "10000\n",
      "20000\n",
      "30000\n",
      "40000\n",
      "50000\n"
     ]
    }
   ],
   "source": [
    "word_index = imdb.get_word_index()\n",
    "correct = 0\n",
    "\n",
    "for i in range (0,len(X_test)):\n",
    "    sentences = X_test[review_Column_Name][i]\n",
    "    x_test = [[word_index[w] for w in sentences if w in word_index]]\n",
    "    x_test = pad_sequences(x_test, maxlen=maxlen) # Should be same which you used for training data\n",
    "    vector = np.array([x_test.flatten()])\n",
    "    \n",
    "    output = model.predict_classes(vector)[0][0]\n",
    "#     print(model.predict_classes(vector)[0][0])\n",
    "    \n",
    "    actual_output = y_test[sentiment_Column_Name][i]\n",
    "    \n",
    "    if (output == actual_output):\n",
    "        correct = correct + 1\n",
    "\n",
    "    if i % 10000 == 0:\n",
    "        print (i)"
   ]
  },
  {
   "cell_type": "code",
   "execution_count": 159,
   "metadata": {},
   "outputs": [
    {
     "name": "stdout",
     "output_type": "stream",
     "text": [
      "16720/52499\n"
     ]
    }
   ],
   "source": [
    "print (str(correct) + '/'+ str(len(X_test)))"
   ]
  },
  {
   "cell_type": "code",
   "execution_count": 160,
   "metadata": {},
   "outputs": [
    {
     "name": "stdout",
     "output_type": "stream",
     "text": [
      "0.3184822568048915\n"
     ]
    }
   ],
   "source": [
    "print(correct/len(X_test))"
   ]
  },
  {
   "cell_type": "code",
   "execution_count": null,
   "metadata": {},
   "outputs": [],
   "source": []
  }
 ],
 "metadata": {
  "kernelspec": {
   "display_name": "Python 3",
   "language": "python",
   "name": "python3"
  },
  "language_info": {
   "codemirror_mode": {
    "name": "ipython",
    "version": 3
   },
   "file_extension": ".py",
   "mimetype": "text/x-python",
   "name": "python",
   "nbconvert_exporter": "python",
   "pygments_lexer": "ipython3",
   "version": "3.6.5"
  }
 },
 "nbformat": 4,
 "nbformat_minor": 2
}
