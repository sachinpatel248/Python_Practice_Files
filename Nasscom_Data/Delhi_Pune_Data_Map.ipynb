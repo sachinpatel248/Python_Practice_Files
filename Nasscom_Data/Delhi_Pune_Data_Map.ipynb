{
 "cells": [
  {
   "cell_type": "code",
   "execution_count": 259,
   "metadata": {},
   "outputs": [],
   "source": [
    "from googleplaces import GooglePlaces, types, lang\n",
    "from googlemaps import Client as GoogleMaps\n",
    "from gmplot import gmplot\n",
    "import pickle\n",
    "import time\n",
    "from decimal import Decimal\n",
    "import pandas as pd\n",
    "# pip install gmplot\n",
    "import os\n",
    "\n",
    "near_By_Roads = []\n"
   ]
  },
  {
   "cell_type": "code",
   "execution_count": 154,
   "metadata": {},
   "outputs": [],
   "source": [
    "def Read_API_KEY_From_File(file_Path):\n",
    "    list_Key = []\n",
    "    with open(file_Path) as file_text:\n",
    "        for key in file_text:\n",
    "            list_Key.append(key.strip())\n",
    "    return list_Key\n",
    "\n",
    "api_key_File_Path = r'D:\\Product\\API_KEY\\API_KEY.txt'\n",
    "\n",
    "list_Key = Read_API_KEY_From_File(api_key_File_Path)\n",
    "\n",
    "PLACE_API_KEY = list_Key[0]\n",
    "ROADS_API_KEY = list_Key[1]\n",
    "\n",
    "file_Path_To_Store_Data = 'Delhi_Proper_Places.pkl'\n",
    "\n",
    "\n",
    "google_places = GooglePlaces(PLACE_API_KEY)\n",
    "gmaps = GoogleMaps(ROADS_API_KEY)"
   ]
  },
  {
   "cell_type": "code",
   "execution_count": 194,
   "metadata": {},
   "outputs": [
    {
     "data": {
      "text/plain": [
       "550"
      ]
     },
     "execution_count": 194,
     "metadata": {},
     "output_type": "execute_result"
    }
   ],
   "source": [
    "list_Places_Delhi = []\n",
    "file_Path_To_Store_Data = 'Delhi_Proper_Places.pkl'\n",
    "\n",
    "with open(file_Path_To_Store_Data, 'rb') as f:\n",
    "    list_Places_Delhi = pickle.load(f)\n",
    "    \n",
    "len(list_Places_Delhi)"
   ]
  },
  {
   "cell_type": "code",
   "execution_count": 155,
   "metadata": {},
   "outputs": [],
   "source": [
    "all_Types_To_Search = [types.TYPE_PARKING, \n",
    "                       types.TYPE_TRAIN_STATION,\n",
    "                       types.TYPE_TAXI_STAND, \n",
    "                       types.TYPE_GAS_STATION,\n",
    "                       \n",
    "                       types.TYPE_MOVIE_THEATER,\n",
    "                       types.TYPE_AIRPORT, \n",
    "                       types.TYPE_SHOPPING_MALL\n",
    "                      ]"
   ]
  },
  {
   "cell_type": "code",
   "execution_count": 235,
   "metadata": {},
   "outputs": [
    {
     "name": "stdout",
     "output_type": "stream",
     "text": [
      "Status: 0  Total fecthed : 1/100\n",
      "Status: 3  Total fecthed : 2/100\n",
      "Status: 6  Total fecthed : 3/100\n",
      "Status: 9  Total fecthed : 4/100\n",
      "Status: 12  Total fecthed : 5/100\n",
      "Status: 15  Total fecthed : 6/100\n",
      "Status: 18  Total fecthed : 7/100\n",
      "Status: 21  Total fecthed : 8/100\n",
      "Status: 24  Total fecthed : 9/100\n",
      "Status: 27  Total fecthed : 10/100\n",
      "Status: 30  Total fecthed : 11/100\n",
      "Status: 33  Total fecthed : 12/100\n",
      "Status: 36  Total fecthed : 13/100\n",
      "Status: 39  Total fecthed : 14/100\n",
      "Status: 42  Total fecthed : 15/100\n",
      "Status: 45  Total fecthed : 16/100\n",
      "Status: 48  Total fecthed : 17/100\n",
      "Status: 51  Total fecthed : 18/100\n",
      "Status: 54  Total fecthed : 19/100\n",
      "Status: 57  Total fecthed : 20/100\n",
      "Status: 60  Total fecthed : 21/100\n",
      "Status: 63  Total fecthed : 22/100\n",
      "Status: 66  Total fecthed : 23/100\n",
      "Status: 69  Total fecthed : 24/100\n",
      "Status: 72  Total fecthed : 25/100\n",
      "Status: 75  Total fecthed : 26/100\n",
      "Status: 78  Total fecthed : 27/100\n",
      "Status: 81  Total fecthed : 28/100\n",
      "Status: 84  Total fecthed : 29/100\n",
      "Status: 87  Total fecthed : 30/100\n",
      "Status: 90  Total fecthed : 31/100\n",
      "Status: 93  Total fecthed : 32/100\n",
      "Status: 96  Total fecthed : 33/100\n",
      "Status: 99  Total fecthed : 34/100\n",
      "Status: 102  Total fecthed : 35/100\n",
      "Status: 105  Total fecthed : 36/100\n",
      "Status: 108  Total fecthed : 37/100\n",
      "Status: 111  Total fecthed : 38/100\n",
      "Status: 114  Total fecthed : 39/100\n",
      "Status: 117  Total fecthed : 40/100\n",
      "Status: 120  Total fecthed : 41/100\n",
      "Status: 123  Total fecthed : 42/100\n",
      "Status: 126  Total fecthed : 43/100\n",
      "Status: 129  Total fecthed : 44/100\n",
      "Status: 132  Total fecthed : 45/100\n",
      "Status: 135  Total fecthed : 46/100\n",
      "Status: 138  Total fecthed : 47/100\n",
      "Status: 141  Total fecthed : 48/100\n",
      "Status: 144  Total fecthed : 49/100\n",
      "Status: 147  Total fecthed : 50/100\n",
      "Status: 150  Total fecthed : 51/100\n",
      "Status: 153  Total fecthed : 52/100\n",
      "Status: 156  Total fecthed : 53/100\n",
      "Status: 159  Total fecthed : 54/100\n",
      "Status: 162  Total fecthed : 55/100\n",
      "Status: 165  Total fecthed : 56/100\n",
      "Status: 168  Total fecthed : 57/100\n",
      "Status: 171  Total fecthed : 58/100\n",
      "Status: 174  Total fecthed : 59/100\n",
      "Status: 177  Total fecthed : 60/100\n",
      "Status: 180  Total fecthed : 61/100\n",
      "Status: 183  Total fecthed : 62/100\n",
      "Status: 186  Total fecthed : 63/100\n",
      "Status: 189  Total fecthed : 64/100\n",
      "Status: 192  Total fecthed : 65/100\n",
      "Status: 195  Total fecthed : 66/100\n",
      "Status: 198  Total fecthed : 67/100\n",
      "Status: 201  Total fecthed : 68/100\n",
      "Status: 204  Total fecthed : 69/100\n",
      "Status: 207  Total fecthed : 70/100\n",
      "Status: 210  Total fecthed : 71/100\n",
      "Status: 213  Total fecthed : 72/100\n",
      "Status: 216  Total fecthed : 73/100\n",
      "Status: 219  Total fecthed : 74/100\n",
      "Status: 222  Total fecthed : 75/100\n",
      "Status: 225  Total fecthed : 76/100\n",
      "Status: 228  Total fecthed : 77/100\n",
      "Status: 231  Total fecthed : 78/100\n",
      "Status: 234  Total fecthed : 79/100\n",
      "Status: 237  Total fecthed : 80/100\n",
      "Status: 240  Total fecthed : 81/100\n",
      "Status: 243  Total fecthed : 82/100\n",
      "Status: 246  Total fecthed : 83/100\n",
      "Status: 249  Total fecthed : 84/100\n",
      "Status: 252  Total fecthed : 85/100\n",
      "Status: 255  Total fecthed : 86/100\n",
      "Status: 258  Total fecthed : 87/100\n",
      "Status: 261  Total fecthed : 88/100\n",
      "Status: 264  Total fecthed : 89/100\n",
      "Status: 267  Total fecthed : 90/100\n",
      "Status: 270  Total fecthed : 91/100\n",
      "Status: 273  Total fecthed : 92/100\n",
      "Status: 276  Total fecthed : 93/100\n",
      "Status: 279  Total fecthed : 94/100\n",
      "Status: 282  Total fecthed : 95/100\n",
      "Status: 285  Total fecthed : 96/100\n",
      "Status: 288  Total fecthed : 97/100\n",
      "Status: 291  Total fecthed : 98/100\n",
      "Status: 294  Total fecthed : 99/100\n",
      "100\n"
     ]
    }
   ],
   "source": [
    "list_Known_Places = []\n",
    "list_Known_Places.append((28.578999, 77.196258, 'Swami Vivekanand Park'))\n",
    "# list_Known_Places.append((28.6127, 77.2773, 'Akshardham'))\n",
    "# list_Known_Places.append((28.6365, 77.1831, 'New Rajinder Nagar Post Office'))\n",
    "# list_Known_Places.append((28.5244, 77.1855, 'Qutub Minar'))\n",
    "list_Known_Places.append((28.5681, 77.2058, 'Safdarjung Hospital'))\n",
    "# list_Known_Places.append((28.5997, 77.0990, 'Indira Park')) \n",
    "# list_Known_Places.append((28.6390, 77.0745, 'PVR Vikaspuri')) \n",
    "\n",
    "list_Known_Places = []\n",
    "place_IDs = []\n",
    "\n",
    "max_Places_Required = 100\n",
    "\n",
    "for index in range (0, len(list_Places_Delhi), 3):\n",
    "     \n",
    "    place = list_Places_Delhi[index]\n",
    "    \n",
    "    result = google_places.nearby_search(lat_lng=place.geo_location, radius=500, type= types.TYPE_ROUTE)\n",
    "    \n",
    "    result = result.places\n",
    "    \n",
    "    if len(result) > 0:\n",
    "        place = result[0]\n",
    "        if (place.place_id not in place_IDs):\n",
    "            list_Known_Places.append(((place.geo_location['lat']), (place.geo_location['lng']), place.name))\n",
    "            place_IDs.append(place.place_id)\n",
    "        time.sleep(1)\n",
    "        \n",
    "    if len(list_Known_Places) == max_Places_Required:\n",
    "        index = len(list_Places_Delhi)\n",
    "        break;\n",
    "        \n",
    "    print ('Status: ' + str(index) + '  ' + 'Total fecthed : ' + str(len(list_Known_Places)) + '/' + str(max_Places_Required) )\n",
    "\n",
    "    \n",
    "print(len(list_Known_Places))\n",
    "    \n",
    "    \n"
   ]
  },
  {
   "cell_type": "code",
   "execution_count": 249,
   "metadata": {},
   "outputs": [
    {
     "data": {
      "text/plain": [
       "['Place_Name',\n",
       " 'Latitude',\n",
       " 'Longitude',\n",
       " 'parking',\n",
       " 'train_station',\n",
       " 'taxi_stand',\n",
       " 'gas_station',\n",
       " 'movie_theater',\n",
       " 'airport',\n",
       " 'shopping_mall']"
      ]
     },
     "execution_count": 249,
     "metadata": {},
     "output_type": "execute_result"
    }
   ],
   "source": [
    "# delhi_Data_Columns = [\n",
    "#                          'Place_Name',\n",
    "#                          'Latitude', 'Longitude',    \n",
    "#                          'No_Of_Nearest_PARKING', \n",
    "#                          'No_Of_Nearest_TRAIN_STATION', \n",
    "#                          'No_Of_Nearest_TAXI_STAND', \n",
    "#                          'No_Of_Nearest_GAS_STATION', \n",
    "#                          'No_Of_Nearest_MOVIE_THEATER', \n",
    "#                          'No_Of_Nearest_AIRPORT', \n",
    "#                          'No_Of_Nearest_SHOPPING_MALL'\n",
    "#                     ]\n",
    "\n",
    "place_Columns = [\n",
    "                         'Place_Name',\n",
    "                         'Latitude', 'Longitude']\n",
    "\n",
    "delhi_Data_Columns = place_Columns + all_Types_To_Search\n",
    "\n",
    "delhi_Data_Columns\n"
   ]
  },
  {
   "cell_type": "code",
   "execution_count": 250,
   "metadata": {},
   "outputs": [],
   "source": [
    "df = pd.DataFrame( columns = delhi_Data_Columns)"
   ]
  },
  {
   "cell_type": "code",
   "execution_count": 251,
   "metadata": {},
   "outputs": [
    {
     "data": {
      "text/html": [
       "<div>\n",
       "<style scoped>\n",
       "    .dataframe tbody tr th:only-of-type {\n",
       "        vertical-align: middle;\n",
       "    }\n",
       "\n",
       "    .dataframe tbody tr th {\n",
       "        vertical-align: top;\n",
       "    }\n",
       "\n",
       "    .dataframe thead th {\n",
       "        text-align: right;\n",
       "    }\n",
       "</style>\n",
       "<table border=\"1\" class=\"dataframe\">\n",
       "  <thead>\n",
       "    <tr style=\"text-align: right;\">\n",
       "      <th></th>\n",
       "      <th>Place_Name</th>\n",
       "      <th>Latitude</th>\n",
       "      <th>Longitude</th>\n",
       "      <th>parking</th>\n",
       "      <th>train_station</th>\n",
       "      <th>taxi_stand</th>\n",
       "      <th>gas_station</th>\n",
       "      <th>movie_theater</th>\n",
       "      <th>airport</th>\n",
       "      <th>shopping_mall</th>\n",
       "    </tr>\n",
       "  </thead>\n",
       "  <tbody>\n",
       "  </tbody>\n",
       "</table>\n",
       "</div>"
      ],
      "text/plain": [
       "Empty DataFrame\n",
       "Columns: [Place_Name, Latitude, Longitude, parking, train_station, taxi_stand, gas_station, movie_theater, airport, shopping_mall]\n",
       "Index: []"
      ]
     },
     "execution_count": 251,
     "metadata": {},
     "output_type": "execute_result"
    }
   ],
   "source": [
    "df.head(1)"
   ]
  },
  {
   "cell_type": "code",
   "execution_count": 252,
   "metadata": {},
   "outputs": [],
   "source": [
    "for noted_places in list_Known_Places:\n",
    "    new_Row = []\n",
    "    new_Row.append(noted_places[2])\n",
    "    new_Row.append(noted_places[0])\n",
    "    new_Row.append(noted_places[1])\n",
    "    \n",
    "    for index in range(3, len(df.columns)):\n",
    "        new_Row.append(0)\n",
    "        \n",
    "#     df.loc[len(df)] = new_Row"
   ]
  },
  {
   "cell_type": "code",
   "execution_count": 253,
   "metadata": {},
   "outputs": [],
   "source": [
    "def Get_Query_Result(location_To_Search, max_Radius, types_To_Search):\n",
    "    queries = []\n",
    "    \n",
    "    query_result =  google_places.nearby_search(lat_lng=location_To_Search, radius=max_Radius, type= types_To_Search)\n",
    "    queries.append(query_result)\n",
    "    \n",
    "    while query_result.has_next_page_token:\n",
    "        print('Next Tokens')\n",
    "        time.sleep(1)\n",
    "        query_result = google_places.nearby_search( pagetoken=query_result.next_page_token)  \n",
    "        queries.append(query_result)\n",
    "\n",
    "            \n",
    "    return queries"
   ]
  },
  {
   "cell_type": "code",
   "execution_count": 257,
   "metadata": {},
   "outputs": [],
   "source": [
    "def Add_Data():\n",
    "    index = 0\n",
    "    \n",
    "    max_Radius = 1000 # meteres\n",
    "    \n",
    "    for noted_places in list_Known_Places:     \n",
    "        new_Row = []\n",
    "        new_Row.append(noted_places[2])\n",
    "        new_Row.append(noted_places[0])\n",
    "        new_Row.append(noted_places[1])\n",
    "        \n",
    "        location_To_Search = {'lat' : noted_places[0], 'lng' : noted_places[1]}    \n",
    "        \n",
    "        for column_Name in df.columns:\n",
    "            if column_Name not in place_Columns:\n",
    "#                 print('---------------------------------------------', column_Name)\n",
    "                result = Get_Query_Result(location_To_Search, max_Radius, column_Name)\n",
    "                for i in range (len(result)):\n",
    "                    count = 0\n",
    "                    for place in result[i].places:\n",
    "                        count = count + 1\n",
    "                        \n",
    "                new_Row.append (count)\n",
    "        time.sleep(1)\n",
    "        \n",
    "        df.loc[len(df)] = new_Row\n",
    "        index = index + 1\n",
    "        \n",
    "        print(index)\n",
    "                   "
   ]
  },
  {
   "cell_type": "code",
   "execution_count": 272,
   "metadata": {},
   "outputs": [
    {
     "name": "stdout",
     "output_type": "stream",
     "text": [
      "100\n"
     ]
    }
   ],
   "source": [
    "# Add_Data()\n",
    "df.head(100)\n",
    "\n",
    "df.to_csv('Delhi_Scoring_Data.csv', index = False)\n",
    "\n",
    "print(len(df))\n",
    "\n",
    "df.drop_duplicates(inplace = True)\n",
    "\n",
    "df.reset_index(drop = True, inplace = True)"
   ]
  },
  {
   "cell_type": "code",
   "execution_count": 271,
   "metadata": {},
   "outputs": [],
   "source": [
    "\n",
    "location_To_Search = {'lat' : 28.590583, 'lng' : 77.231241}\n",
    "\n",
    "result = Get_Query_Result(location_To_Search, 1000, types.TYPE_ROUTE)\n",
    "\n",
    "\n"
   ]
  },
  {
   "cell_type": "code",
   "execution_count": 189,
   "metadata": {},
   "outputs": [
    {
     "name": "stdout",
     "output_type": "stream",
     "text": [
      "<Place name=\"Lodhi Road\", lat=28.5916382, lng=77.231126>\n",
      "Lodhi Road\n",
      "<bound method Place.get_details of <Place name=\"Lodhi Road\", lat=28.5916382, lng=77.231126>>\n",
      "ChIJ2_g3PeXiDDkRP7nuDB4Ei1I\n"
     ]
    }
   ],
   "source": [
    "for i in range (len(result)):\n",
    "    for place in result[i].places:\n",
    "        print (place)\n",
    "        print (place.name)\n",
    "        print (place.get_details)\n",
    "        print (place.place_id)"
   ]
  },
  {
   "cell_type": "code",
   "execution_count": 192,
   "metadata": {},
   "outputs": [
    {
     "data": {
      "text/plain": [
       "<Place name=\"Lodhi Road\", lat=28.5916382, lng=77.231126>"
      ]
     },
     "execution_count": 192,
     "metadata": {},
     "output_type": "execute_result"
    }
   ],
   "source": [
    "def Get_Nearest_Road_Details(location_To_Search):\n",
    "    result = gmaps.nearest_roads(location_To_Search)\n",
    "    \n",
    "    if (len(result) > 0):\n",
    "        placeId = str(result[0]['placeId'])\n",
    "        place_Object = google_places.get_place(placeId)\n",
    "        return (place_Object)\n",
    "    else:\n",
    "        return False\n",
    "    \n",
    "location_To_Search = {'lat' : 28.5916382, 'lng' : 77.231126}\n",
    "\n",
    "place =  Get_Nearest_Road_Details(location_To_Search)\n",
    "\n",
    "place"
   ]
  },
  {
   "cell_type": "code",
   "execution_count": 193,
   "metadata": {},
   "outputs": [
    {
     "data": {
      "text/plain": [
       "550"
      ]
     },
     "execution_count": 193,
     "metadata": {},
     "output_type": "execute_result"
    }
   ],
   "source": []
  },
  {
   "cell_type": "code",
   "execution_count": null,
   "metadata": {},
   "outputs": [],
   "source": [
    "\n",
    "    "
   ]
  },
  {
   "cell_type": "code",
   "execution_count": null,
   "metadata": {},
   "outputs": [],
   "source": []
  },
  {
   "cell_type": "code",
   "execution_count": null,
   "metadata": {},
   "outputs": [],
   "source": []
  }
 ],
 "metadata": {
  "kernelspec": {
   "display_name": "Python 3",
   "language": "python",
   "name": "python3"
  },
  "language_info": {
   "codemirror_mode": {
    "name": "ipython",
    "version": 3
   },
   "file_extension": ".py",
   "mimetype": "text/x-python",
   "name": "python",
   "nbconvert_exporter": "python",
   "pygments_lexer": "ipython3",
   "version": "3.6.5"
  }
 },
 "nbformat": 4,
 "nbformat_minor": 2
}
