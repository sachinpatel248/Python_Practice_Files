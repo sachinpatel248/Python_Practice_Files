{
 "cells": [
  {
   "cell_type": "code",
   "execution_count": 13,
   "metadata": {},
   "outputs": [],
   "source": [
    "import json\n",
    "import csv\n",
    "import pandas\n",
    "import ast\n",
    "import datetime\n",
    "import os"
   ]
  },
  {
   "cell_type": "code",
   "execution_count": 14,
   "metadata": {},
   "outputs": [],
   "source": [
    "# To be incremented or stored and retrived from file\n",
    "Unique_ID = 0\n",
    "\n",
    "Expense_File_Path = r'Farmers_Expense.csv';\n",
    "\n",
    "Income_File_Path = r'Farmers_Income.csv';\n",
    "\n",
    "Unique_ID_File_Path = r'Unique_ID.txt'\n",
    "\n",
    "\n"
   ]
  },
  {
   "cell_type": "code",
   "execution_count": 15,
   "metadata": {},
   "outputs": [],
   "source": [
    "def Write_Unique_ID(Unique_ID):\n",
    "    global Unique_ID_File_Path\n",
    "        \n",
    "    file = open(Unique_ID_File_Path, 'w')\n",
    "    file.write(str(Unique_ID))\n",
    "    file.close()"
   ]
  },
  {
   "cell_type": "code",
   "execution_count": 16,
   "metadata": {},
   "outputs": [],
   "source": [
    "def Read_Unique_ID():\n",
    "    global Unique_ID_File_Path\n",
    "    if not (os.path.exists(Unique_ID_File_Path)):\n",
    "        Unique_ID = 0\n",
    "        Write_Unique_ID(str(Unique_ID))\n",
    "        \n",
    "    file = open(Unique_ID_File_Path, 'r') \n",
    "    Unique_ID = str(file.read())\n",
    "    file.close()\n",
    "    return Unique_ID"
   ]
  },
  {
   "cell_type": "code",
   "execution_count": 17,
   "metadata": {},
   "outputs": [],
   "source": [
    "def Get_Unique_ID():\n",
    "    global Unique_ID;\n",
    "    Unique_ID = int(Read_Unique_ID());\n",
    "    Unique_ID = Unique_ID + 1;\n",
    "    Write_Unique_ID(Unique_ID);    \n",
    "    #print (Unique_ID)\n",
    "    return Unique_ID"
   ]
  },
  {
   "cell_type": "code",
   "execution_count": 35,
   "metadata": {},
   "outputs": [],
   "source": [
    "class Expense(object):\n",
    "    \n",
    "    ID = 0   \n",
    "    FarmerID = 0    \n",
    "    \n",
    "    # Labour\n",
    "    Labour = False\n",
    "    \n",
    "    Male = 0\n",
    "    Female = 0\n",
    "    \n",
    "    # Job\n",
    "    Job = False\n",
    "    Ploughing = 0\n",
    "    Planting = 0\n",
    "    Weeding = 0\n",
    "    Weeding = 0\n",
    "    \n",
    "    # Material\n",
    "    Material = False\n",
    "    \n",
    "    Fertilizers = 0\n",
    "    Seeds = 0\n",
    "    Saplings = 0\n",
    "    Pesticides = 0\n",
    "    \n",
    "    Utility = 0\n",
    "    Water = 0\n",
    "    Electricity = 0\n",
    "    \n",
    "    # Machinery\n",
    "    Machinery = False\n",
    "    \n",
    "    Tractor = 0\n",
    "    Pump = 0\n",
    "    DateTime = 0\n",
    "    \n",
    "    \n",
    "    def __init__(self, ID, farmerID ,labour, male, female, job, ploughing, planting, weeding, material, fertilizers, seeds, saplings, pesticides, utility, water, electricity, machinery, tractor, pump, datetime):\n",
    "        \n",
    "        self.ID = ID\n",
    "        \n",
    "        self.FarmerID = farmerID\n",
    "        \n",
    "        \n",
    "        self.labour = labour\n",
    "        self.male = male \n",
    "        self.female = female\n",
    "        \n",
    "        self.job = job\n",
    "        self.ploughing = ploughing\n",
    "        self.planting = planting\n",
    "        self.weeding = weeding\n",
    "        \n",
    "        self.material = material\n",
    "        \n",
    "        self.fertilizers = fertilizers\n",
    "        self.seeds = seeds\n",
    "        self.saplings = saplings\n",
    "        self.pesticides = pesticides\n",
    "        self.utility = utility\n",
    "        self.water = water\n",
    "        self.electricity = electricity\n",
    "        \n",
    "        self.machinery = machinery\n",
    "        self.tractor = tractor\n",
    "        self.pump = pump\n",
    "        self.datetime = datetime\n",
    "        \n",
    "    def __str__(self):\n",
    "        return (str(self.__dict__))"
   ]
  },
  {
   "cell_type": "code",
   "execution_count": 5,
   "metadata": {},
   "outputs": [],
   "source": [
    "class Income(object):\n",
    "    \n",
    "    ID = 0\n",
    "    Farmer_ID = 0\n",
    "    \n",
    "    # Rent\n",
    "    Rent = False\n",
    "    \n",
    "    Warehouse = 0\n",
    "    Land = 0\n",
    "    Tractor = 0\n",
    "    Pump = 0\n",
    "    Labour = 0\n",
    "    \n",
    "    # Sell\n",
    "    Sell = False\n",
    "    \n",
    "    # Cotton\n",
    "    Cotton = 0\n",
    "    \n",
    "    Rate  = 0\n",
    "    Quantity = 0\n",
    "    Amount = 0\n",
    "    \n",
    "    \n",
    "    # Cottonseed\n",
    "    Cottonseed = False\n",
    "    \n",
    "    Rate  = 0\n",
    "    Quantity = 0\n",
    "    Amount = 0\n",
    "    \n",
    "    DateTime = 0\n",
    "    \n",
    "    \n",
    "    \n",
    "    def __init__(self, ID ,farmerID, rent, warehouse, land, tractor, pump, labour, sell, cotton, cottonrate, cottonquantity, cottonamount, cottonseed, cottonseedrate, cottonseedquantity, cottonseedamount, datetime):\n",
    "        \n",
    "        self.ID = ID\n",
    "        self.farmerID = farmerID\n",
    "        \n",
    "        self.rent = rent\n",
    "        \n",
    "        self.warehouse = warehouse\n",
    "        self.land = land\n",
    "        self.tractor = tractor\n",
    "        self.pump = pump\n",
    "        self.labour = labour\n",
    "        \n",
    "        self.sell = sell\n",
    "        \n",
    "        self.cotton = cotton\n",
    "        self.cottonrate  = cottonrate\n",
    "        self.cottonquantity = cottonquantity\n",
    "        self.cottonamount = cottonamount\n",
    "        \n",
    "        self.cottonseed = cottonseed\n",
    "        \n",
    "        self.cottonseedrate  = cottonseedrate\n",
    "        self.cottonseedquantity = cottonseedquantity\n",
    "        self.cottonseedamount = cottonseedamount\n",
    "        \n",
    "        self.datetime = str(datetime)\n",
    "                \n",
    "        \n",
    "    def __str__(self):\n",
    "        return (str(self.__dict__))\n",
    "        #return  str(self.__class__) + '\\n'+ '\\n'.join(('{} = {}'.format(item, self.__dict__[item]) for item in self.__dict__))\n",
    "        "
   ]
  },
  {
   "cell_type": "code",
   "execution_count": 6,
   "metadata": {},
   "outputs": [],
   "source": [
    "def Create_Income_Object(list_Income_Object):\n",
    "    ID  = list_Income_Object[0]\n",
    "    farmerID = list_Income_Object[1]\n",
    "    rent = list_Income_Object[2]\n",
    "    warehouse = list_Income_Object[3]\n",
    "    land = list_Income_Object[4]\n",
    "    tractor = list_Income_Object[5]\n",
    "    pump = list_Income_Object[6]\n",
    "    labour = list_Income_Object[7]\n",
    "    sell = list_Income_Object[8]\n",
    "    cotton = list_Income_Object[9]\n",
    "    cottonrate = list_Income_Object[10]\n",
    "    cottonquantity = list_Income_Object[11]\n",
    "    cottonamount = list_Income_Object[12]\n",
    "    cottonseed = list_Income_Object[13]\n",
    "    cottonseedrate = list_Income_Object[14]\n",
    "    cottonseedquantity = list_Income_Object[15]\n",
    "    cottonseedamount = list_Income_Object[16]\n",
    "    datetime = str(list_Income_Object[17])\n",
    "    \n",
    "    new_Income_Object = Income(ID ,farmerID, rent, warehouse, land, tractor, pump, labour, sell, cotton, cottonrate, cottonquantity, cottonamount, cottonseed, cottonseedrate, cottonseedquantity, cottonseedamount, datetime)\n",
    "    \n",
    "    return new_Income_Object\n",
    "    "
   ]
  },
  {
   "cell_type": "code",
   "execution_count": 40,
   "metadata": {},
   "outputs": [],
   "source": [
    "def Create_Expense_Object(list_Expense_Object):\n",
    "    ID = list_Expense_Object[0]\n",
    "    farmerID  = list_Expense_Object[1]\n",
    "    labour = list_Expense_Object[2]\n",
    "    male = list_Expense_Object[3]\n",
    "    female = list_Expense_Object[4]\n",
    "    job = list_Expense_Object[5]\n",
    "    ploughing = list_Expense_Object[6]\n",
    "    planting = list_Expense_Object[7]\n",
    "    weeding = list_Expense_Object[8]\n",
    "    material = list_Expense_Object[9]\n",
    "    fertilizers = list_Expense_Object[10]\n",
    "    seeds = list_Expense_Object[11]\n",
    "    saplings = list_Expense_Object[12]\n",
    "    pesticides = list_Expense_Object[13]\n",
    "    utility = list_Expense_Object[14]\n",
    "    water = list_Expense_Object[15]\n",
    "    electricity = list_Expense_Object[16]\n",
    "    machinery = list_Expense_Object[17]\n",
    "    tractor = list_Expense_Object[18]\n",
    "    pump = list_Expense_Object[19]\n",
    "    datetime = list_Expense_Object[20]\n",
    "\n",
    "    \n",
    "    new_Expense_Object = Expense(ID, farmerID ,labour, male, female, job, ploughing, planting, weeding, material, fertilizers, seeds, saplings, pesticides, utility, water, electricity, machinery, tractor, pump, datetime)\n",
    "    return new_Expense_Object\n",
    "    "
   ]
  },
  {
   "cell_type": "code",
   "execution_count": 41,
   "metadata": {},
   "outputs": [],
   "source": [
    "list_Expense = []"
   ]
  },
  {
   "cell_type": "code",
   "execution_count": 28,
   "metadata": {},
   "outputs": [
    {
     "name": "stdout",
     "output_type": "stream",
     "text": [
      "{'ID': 5, 'FarmerID': 'XYZ', 'labour': 1, 'male': 2, 'female': 3, 'job': 4, 'ploughing': 5, 'planting': 6, 'weeding': 7, 'material': 8, 'fertilizers': 9, 'seeds': 10, 'saplings': 11, 'pesticides': 12, 'utility': 13, 'water': 14, 'electricity': 15, 'machinery': 16, 'tractor': 17, 'pump': 18, 'datetime': '2018-04-04 10:16:30.784767'}\n"
     ]
    }
   ],
   "source": [
    "expense_Object = Expense(Get_Unique_ID(), 'XYZ', 1, 2, 3, 4, 5, 6, 7, 8, 9, 10, 11, 12, 13, 14, 15, 16, 17, 18,str(datetime.datetime.now()))\n",
    "print (str(expense_Object))\n",
    "list_Expense.append(expense_Object)"
   ]
  },
  {
   "cell_type": "code",
   "execution_count": 29,
   "metadata": {},
   "outputs": [],
   "source": [
    "json_str = json.dumps(list_Expense, default=lambda o: o.__dict__)"
   ]
  },
  {
   "cell_type": "code",
   "execution_count": 30,
   "metadata": {},
   "outputs": [
    {
     "name": "stdout",
     "output_type": "stream",
     "text": [
      "[{\"ID\": 1, \"FarmerID\": \"ABC\", \"labour\": 1, \"male\": 2, \"female\": 3, \"job\": 4, \"ploughing\": 5, \"planting\": 6, \"weeding\": 7, \"material\": 8, \"fertilizers\": 9, \"seeds\": 10, \"saplings\": 11, \"pesticides\": 12, \"utility\": 13, \"water\": 14, \"electricity\": 15, \"machinery\": 16, \"tractor\": 17, \"pump\": 18, \"datetime\": \"2018-04-04 10:10:12.066717\"}, {\"ID\": 4, \"FarmerID\": \"XYZ\", \"labour\": 1, \"male\": 2, \"female\": 3, \"job\": 4, \"ploughing\": 5, \"planting\": 6, \"weeding\": 7, \"material\": 8, \"fertilizers\": 9, \"seeds\": 10, \"saplings\": 11, \"pesticides\": 12, \"utility\": 13, \"water\": 14, \"electricity\": 15, \"machinery\": 16, \"tractor\": 17, \"pump\": 18, \"datetime\": \"2018-04-04 10:13:20.238049\"}, {\"ID\": 5, \"FarmerID\": \"XYZ\", \"labour\": 1, \"male\": 2, \"female\": 3, \"job\": 4, \"ploughing\": 5, \"planting\": 6, \"weeding\": 7, \"material\": 8, \"fertilizers\": 9, \"seeds\": 10, \"saplings\": 11, \"pesticides\": 12, \"utility\": 13, \"water\": 14, \"electricity\": 15, \"machinery\": 16, \"tractor\": 17, \"pump\": 18, \"datetime\": \"2018-04-04 10:16:30.784767\"}]\n"
     ]
    }
   ],
   "source": [
    "print(json_str)"
   ]
  },
  {
   "cell_type": "code",
   "execution_count": 39,
   "metadata": {},
   "outputs": [],
   "source": [
    "list_Income = []"
   ]
  },
  {
   "cell_type": "code",
   "execution_count": 40,
   "metadata": {},
   "outputs": [],
   "source": [
    "income_Object = Income(Get_Unique_ID(),'PRR',1, 2, 3, 4, 5, 6, 7, 8, 9, 10, 11, 12, 13, 14, 15,datetime.datetime.now())\n",
    "list_Income.append(income_Object)"
   ]
  },
  {
   "cell_type": "code",
   "execution_count": 41,
   "metadata": {},
   "outputs": [],
   "source": [
    "json_str = json.dumps(list_Income, default=lambda o: o.__dict__)"
   ]
  },
  {
   "cell_type": "code",
   "execution_count": 42,
   "metadata": {},
   "outputs": [
    {
     "name": "stdout",
     "output_type": "stream",
     "text": [
      "[{\"ID\": 7, \"farmerID\": \"PRR\", \"rent\": 1, \"warehouse\": 2, \"land\": 3, \"tractor\": 4, \"pump\": 5, \"labour\": 6, \"sell\": 7, \"cotton\": 8, \"cottonrate\": 9, \"cottonquantity\": 10, \"cottonamount\": 11, \"cottonseed\": 12, \"cottonseedrate\": 13, \"cottonseedquantity\": 14, \"cottonseedamount\": 15, \"datetime\": \"2018-04-04 10:46:50.278945\"}]\n"
     ]
    }
   ],
   "source": [
    "print(json_str)"
   ]
  },
  {
   "cell_type": "code",
   "execution_count": 46,
   "metadata": {},
   "outputs": [],
   "source": [
    "def Write_List_In_File(CSV_File_Path, List_To_Write):\n",
    "\n",
    "    with open(CSV_File_Path, 'a',newline='') as myfile:\n",
    "        wr = csv.writer(myfile)\n",
    "        for list_Object in List_To_Write:\n",
    "            dict_income_Object = ast.literal_eval(str(list_Object))\n",
    "            list_Object_Value = []\n",
    "            for key in dict_income_Object:\n",
    "                list_Object_Value.append((dict_income_Object[key]))\n",
    "            wr.writerow(list_Object_Value)\n",
    "        \n"
   ]
  },
  {
   "cell_type": "code",
   "execution_count": 36,
   "metadata": {},
   "outputs": [],
   "source": [
    "Write_List_In_File(Income_File_Path, list_Income)\n"
   ]
  },
  {
   "cell_type": "code",
   "execution_count": 38,
   "metadata": {},
   "outputs": [],
   "source": [
    "Write_List_In_File(Expense_File_Path, list_Expense)"
   ]
  },
  {
   "cell_type": "code",
   "execution_count": 20,
   "metadata": {},
   "outputs": [],
   "source": [
    "with open(Income_File_Path, 'r',newline='') as csvfile:\n",
    "    readCSV = csv.reader(csvfile, delimiter=',')\n",
    "    for row in readCSV:\n",
    "        income_Object = Create_Income_Object(row)"
   ]
  },
  {
   "cell_type": "code",
   "execution_count": 21,
   "metadata": {},
   "outputs": [],
   "source": [
    "def Get_Farmers_Income(Farmer_ID):\n",
    "    list_Income_Object = []\n",
    "    with open(Income_File_Path, 'r',newline='') as csvfile:\n",
    "        readCSV = csv.reader(csvfile, delimiter=',')\n",
    "        for row in readCSV:\n",
    "            if (Farmer_ID == ''):\n",
    "                income_Object = Create_Income_Object(row)\n",
    "                list_Income_Object.append(income_Object)\n",
    "            if (row[1] == Farmer_ID):\n",
    "                income_Object = Create_Income_Object(row)\n",
    "                list_Income_Object.append(income_Object)\n",
    "                \n",
    "    json_Income_Object = json.dumps(list_Income_Object, default=lambda o: o.__dict__)\n",
    "    \n",
    "    return json_Income_Object\n",
    "    \n",
    "    "
   ]
  },
  {
   "cell_type": "code",
   "execution_count": 22,
   "metadata": {},
   "outputs": [
    {
     "data": {
      "text/plain": [
       "[]"
      ]
     },
     "execution_count": 22,
     "metadata": {},
     "output_type": "execute_result"
    }
   ],
   "source": [
    " Get_Farmers_Income('tfhf')"
   ]
  },
  {
   "cell_type": "code",
   "execution_count": 23,
   "metadata": {},
   "outputs": [
    {
     "name": "stdout",
     "output_type": "stream",
     "text": [
      "[]\n"
     ]
    }
   ],
   "source": [
    "list_Income = Get_Farmers_Income('gtr')\n",
    "print (json.dumps(list_Income, default=lambda o: o.__dict__))"
   ]
  },
  {
   "cell_type": "code",
   "execution_count": 24,
   "metadata": {},
   "outputs": [],
   "source": [
    "def Add_Income_Data(string_Json_Data):\n",
    "    global Income_File_Path\n",
    "    json_Object = json.loads(string_Json_Data)\n",
    "    list_Income_Object = []\n",
    "    \n",
    "    for key in json_Object:\n",
    "        if (key == 'ID'):\n",
    "            list_Income_Object.append( Get_Unique_ID())\n",
    "        elif (key == 'datetime'):\n",
    "            list_Income_Object.append(str(datetime.datetime.now()))\n",
    "        else:\n",
    "            list_Income_Object.append(json_Object[key])\n",
    "    \n",
    "    print (list_Income_Object)\n",
    "            \n",
    "    income_Object = Create_Income_Object(list_Income_Object)\n",
    "    \n",
    "    list_Income_Object = []\n",
    "    list_Income_Object.append(income_Object)\n",
    "    print (type(income_Object))\n",
    "    \n",
    "    Write_List_In_File(Income_File_Path , list_Income_Object)\n",
    "    "
   ]
  },
  {
   "cell_type": "code",
   "execution_count": 25,
   "metadata": {},
   "outputs": [],
   "source": [
    "s = '''{\"ID\": \"6\", \"farmerID\": \"PRR\", \"rent\": \"1\", \"warehouse\": \"2\", \"land\": \"3\", \"tractor\": \"4\", \"pump\": \"5\", \"labour\": \"6\", \"sell\": \"7\", \"cotton\": \"8\", \"cottonrate\": \"9\", \"cottonquantity\": \"10\", \"cottonamount\": \"11\", \"cottonseed\": \"12\", \"cottonseedrate\": \"13\", \"cottonseedquantity\": \"14\", \"cottonseedamount\": \"15\", \"datetime\": \"2018-04-03 17:29:40.439893\"}'''"
   ]
  },
  {
   "cell_type": "code",
   "execution_count": 26,
   "metadata": {},
   "outputs": [
    {
     "name": "stdout",
     "output_type": "stream",
     "text": [
      "[3, 'PRR', '1', '2', '3', '4', '5', '6', '7', '8', '9', '10', '11', '12', '13', '14', '15', '2018-04-04 10:11:02.610799']\n",
      "<class '__main__.Income'>\n"
     ]
    }
   ],
   "source": [
    "Add_Income_Data(s)"
   ]
  },
  {
   "cell_type": "code",
   "execution_count": null,
   "metadata": {},
   "outputs": [],
   "source": []
  },
  {
   "cell_type": "code",
   "execution_count": 48,
   "metadata": {},
   "outputs": [],
   "source": [
    "def Add_Expense_Data(string_Json_Data):\n",
    "    global Expense_File_Path\n",
    "    json_Object = json.loads(string_Json_Data)\n",
    "    list_Expense_Object = []\n",
    "    \n",
    "    for key in json_Object:\n",
    "        if (key == 'ID'):\n",
    "            list_Expense_Object.append( Get_Unique_ID())\n",
    "        elif (key == 'datetime'):\n",
    "            list_Expense_Object.append(str(datetime.datetime.now()))\n",
    "        else:\n",
    "            list_Expense_Object.append(json_Object[key])\n",
    "    \n",
    "    #print (list_Income_Object)\n",
    "            \n",
    "    expense_Object = Create_Expense_Object(list_Expense_Object)\n",
    "    \n",
    "    list_Expense_Object = []\n",
    "    list_Expense_Object.append(expense_Object)\n",
    "    #print (type(income_Object))\n",
    "    \n",
    "    Write_List_In_File(Expense_File_Path , list_Expense_Object)"
   ]
  },
  {
   "cell_type": "code",
   "execution_count": 53,
   "metadata": {},
   "outputs": [],
   "source": [
    "s = '''{\"ID\": 100, \"FarmerID\": \"dgdsfdfd\", \"labour\": 1, \"male\": 2, \"female\": 3, \"job\": 4, \"ploughing\": 5, \"planting\": 6, \"weeding\": 7, \"material\": 8, \"fertilizers\": 9, \"seeds\": 10, \"saplings\": 11, \"pesticides\": 12, \"utility\": 13, \"water\": 14, \"electricity\": 15, \"machinery\": 16, \"tractor\": 17, \"pump\": 18, \"datetime\": \"2018-04-04 10:10:12.066717\"}'''"
   ]
  },
  {
   "cell_type": "code",
   "execution_count": 54,
   "metadata": {},
   "outputs": [
    {
     "name": "stdout",
     "output_type": "stream",
     "text": [
      "{\"ID\": 100, \"FarmerID\": \"dgdsfdfd\", \"labour\": 1, \"male\": 2, \"female\": 3, \"job\": 4, \"ploughing\": 5, \"planting\": 6, \"weeding\": 7, \"material\": 8, \"fertilizers\": 9, \"seeds\": 10, \"saplings\": 11, \"pesticides\": 12, \"utility\": 13, \"water\": 14, \"electricity\": 15, \"machinery\": 16, \"tractor\": 17, \"pump\": 18, \"datetime\": \"2018-04-04 10:10:12.066717\"}\n"
     ]
    }
   ],
   "source": [
    "print (s)"
   ]
  },
  {
   "cell_type": "code",
   "execution_count": 55,
   "metadata": {},
   "outputs": [],
   "source": [
    "Add_Expense_Data(s)"
   ]
  },
  {
   "cell_type": "code",
   "execution_count": null,
   "metadata": {},
   "outputs": [],
   "source": []
  },
  {
   "cell_type": "code",
   "execution_count": 59,
   "metadata": {},
   "outputs": [],
   "source": [
    "def Get_Farmers_Expense(Farmer_ID):\n",
    "    list_Expense_Object = []\n",
    "    global Expense_File_Path\n",
    "    with open(Expense_File_Path, 'r',newline='') as csvfile:\n",
    "        readCSV = csv.reader(csvfile, delimiter=',')\n",
    "        for row in readCSV:\n",
    "            if (Farmer_ID == ''):\n",
    "                expense_Object = Create_Expense_Object(row)\n",
    "                list_Expense_Object.append(expense_Object)\n",
    "            if (row[1] == Farmer_ID):\n",
    "                expense_Object = Create_Expense_Object(row)\n",
    "                list_Expense_Object.append(expense_Object)\n",
    "                \n",
    "    json_Income_Object = json.dumps(list_Expense_Object, default=lambda o: o.__dict__)\n",
    "    \n",
    "    return json_Income_Object"
   ]
  },
  {
   "cell_type": "code",
   "execution_count": 60,
   "metadata": {},
   "outputs": [
    {
     "name": "stdout",
     "output_type": "stream",
     "text": [
      "[{\"ID\": \"1\", \"FarmerID\": \"ABC\", \"labour\": \"1\", \"male\": \"2\", \"female\": \"3\", \"job\": \"4\", \"ploughing\": \"5\", \"planting\": \"6\", \"weeding\": \"7\", \"material\": \"8\", \"fertilizers\": \"9\", \"seeds\": \"10\", \"saplings\": \"11\", \"pesticides\": \"12\", \"utility\": \"13\", \"water\": \"14\", \"electricity\": \"15\", \"machinery\": \"16\", \"tractor\": \"17\", \"pump\": \"18\", \"datetime\": \"2018-04-04 10:10:12.066717\"}, {\"ID\": \"1\", \"FarmerID\": \"ABC\", \"labour\": \"1\", \"male\": \"2\", \"female\": \"3\", \"job\": \"4\", \"ploughing\": \"5\", \"planting\": \"6\", \"weeding\": \"7\", \"material\": \"8\", \"fertilizers\": \"9\", \"seeds\": \"10\", \"saplings\": \"11\", \"pesticides\": \"12\", \"utility\": \"13\", \"water\": \"14\", \"electricity\": \"15\", \"machinery\": \"16\", \"tractor\": \"17\", \"pump\": \"18\", \"datetime\": \"2018-04-04 10:10:12.066717\"}, {\"ID\": \"4\", \"FarmerID\": \"XYZ\", \"labour\": \"1\", \"male\": \"2\", \"female\": \"3\", \"job\": \"4\", \"ploughing\": \"5\", \"planting\": \"6\", \"weeding\": \"7\", \"material\": \"8\", \"fertilizers\": \"9\", \"seeds\": \"10\", \"saplings\": \"11\", \"pesticides\": \"12\", \"utility\": \"13\", \"water\": \"14\", \"electricity\": \"15\", \"machinery\": \"16\", \"tractor\": \"17\", \"pump\": \"18\", \"datetime\": \"2018-04-04 10:13:20.238049\"}, {\"ID\": \"5\", \"FarmerID\": \"XYZ\", \"labour\": \"1\", \"male\": \"2\", \"female\": \"3\", \"job\": \"4\", \"ploughing\": \"5\", \"planting\": \"6\", \"weeding\": \"7\", \"material\": \"8\", \"fertilizers\": \"9\", \"seeds\": \"10\", \"saplings\": \"11\", \"pesticides\": \"12\", \"utility\": \"13\", \"water\": \"14\", \"electricity\": \"15\", \"machinery\": \"16\", \"tractor\": \"17\", \"pump\": \"18\", \"datetime\": \"2018-04-04 10:16:30.784767\"}, {\"ID\": \"12\", \"FarmerID\": \"ABC\", \"labour\": \"1\", \"male\": \"2\", \"female\": \"3\", \"job\": \"4\", \"ploughing\": \"5\", \"planting\": \"6\", \"weeding\": \"7\", \"material\": \"8\", \"fertilizers\": \"9\", \"seeds\": \"10\", \"saplings\": \"11\", \"pesticides\": \"12\", \"utility\": \"13\", \"water\": \"14\", \"electricity\": \"15\", \"machinery\": \"16\", \"tractor\": \"17\", \"pump\": \"18\", \"datetime\": \"2018-04-04 11:28:34.224277\"}, {\"ID\": \"14\", \"FarmerID\": \"ABC\", \"labour\": \"1\", \"male\": \"2\", \"female\": \"3\", \"job\": \"4\", \"ploughing\": \"5\", \"planting\": \"6\", \"weeding\": \"7\", \"material\": \"8\", \"fertilizers\": \"9\", \"seeds\": \"10\", \"saplings\": \"11\", \"pesticides\": \"12\", \"utility\": \"13\", \"water\": \"14\", \"electricity\": \"15\", \"machinery\": \"16\", \"tractor\": \"17\", \"pump\": \"18\", \"datetime\": \"2018-04-04 11:29:22.800595\"}, {\"ID\": \"15\", \"FarmerID\": \"dgdsfdfd\", \"labour\": \"1\", \"male\": \"2\", \"female\": \"3\", \"job\": \"4\", \"ploughing\": \"5\", \"planting\": \"6\", \"weeding\": \"7\", \"material\": \"8\", \"fertilizers\": \"9\", \"seeds\": \"10\", \"saplings\": \"11\", \"pesticides\": \"12\", \"utility\": \"13\", \"water\": \"14\", \"electricity\": \"15\", \"machinery\": \"16\", \"tractor\": \"17\", \"pump\": \"18\", \"datetime\": \"2018-04-04 11:29:42.934049\"}]\n"
     ]
    }
   ],
   "source": [
    "print (Get_Farmers_Expense(''))"
   ]
  },
  {
   "cell_type": "code",
   "execution_count": null,
   "metadata": {},
   "outputs": [],
   "source": []
  },
  {
   "cell_type": "code",
   "execution_count": null,
   "metadata": {},
   "outputs": [],
   "source": []
  }
 ],
 "metadata": {
  "kernelspec": {
   "display_name": "Python 3",
   "language": "python",
   "name": "python3"
  },
  "language_info": {
   "codemirror_mode": {
    "name": "ipython",
    "version": 3
   },
   "file_extension": ".py",
   "mimetype": "text/x-python",
   "name": "python",
   "nbconvert_exporter": "python",
   "pygments_lexer": "ipython3",
   "version": "3.6.4"
  }
 },
 "nbformat": 4,
 "nbformat_minor": 2
}
