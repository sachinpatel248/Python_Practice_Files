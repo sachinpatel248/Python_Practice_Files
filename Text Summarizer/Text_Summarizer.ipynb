{
 "cells": [
  {
   "cell_type": "code",
   "execution_count": 42,
   "metadata": {},
   "outputs": [],
   "source": [
    "import numpy as np # linear algebra\n",
    "import pandas as pd\n",
    "\n",
    "from __future__ import print_function\n",
    "\n",
    "from sklearn.model_selection import train_test_split\n",
    "from keras_text_summarization.library.utility.plot_utils import plot_and_save_history\n",
    "from keras_text_summarization.library.seq2seq import Seq2SeqGloVeSummarizer\n",
    "from keras_text_summarization.library.seq2seq import Seq2SeqGloVeSummarizerV2\n",
    "from keras_text_summarization.library.applications.fake_news_loader import fit_text\n"
   ]
  },
  {
   "cell_type": "code",
   "execution_count": 43,
   "metadata": {},
   "outputs": [
    {
     "data": {
      "text/plain": [
       "4515"
      ]
     },
     "execution_count": 43,
     "metadata": {},
     "output_type": "execute_result"
    }
   ],
   "source": [
    "csv_Input_File_Path = r'news_summary_Processed.csv'\n",
    "\n",
    "df = pd.read_csv(csv_Input_File_Path ,encoding = \"latin1\", low_memory = False )\n",
    "\n",
    "len(df)"
   ]
  },
  {
   "cell_type": "code",
   "execution_count": 44,
   "metadata": {},
   "outputs": [],
   "source": [
    "# To remove NAN rows\n",
    "\n",
    "row_index_To_Delete = []\n",
    "\n",
    "for i, article in enumerate(df['ctext']):\n",
    "    if ( (article != article) or (str(article) == 'nan') ):\n",
    "        row_index_To_Delete.append(i)\n",
    "\n",
    "df = df.drop(df.index[row_index_To_Delete])"
   ]
  },
  {
   "cell_type": "code",
   "execution_count": 45,
   "metadata": {},
   "outputs": [
    {
     "name": "stdout",
     "output_type": "stream",
     "text": [
      "3683\n"
     ]
    }
   ],
   "source": [
    "max_Len = 0\n",
    "max_Len_Index = 0\n",
    "\n",
    "for i, article in enumerate(df['ctext']):\n",
    "    if (len(article) > max_Len):\n",
    "        max_Len_Index = i\n",
    "\n",
    "print(len(df['ctext'][max_Len_Index]))"
   ]
  },
  {
   "cell_type": "code",
   "execution_count": 46,
   "metadata": {},
   "outputs": [],
   "source": [
    "model_File_Path = 'Text_Summarizer_Model.pb'"
   ]
  },
  {
   "cell_type": "code",
   "execution_count": 47,
   "metadata": {},
   "outputs": [],
   "source": [
    "X = df['ctext']\n",
    "y = df['text']"
   ]
  },
  {
   "cell_type": "markdown",
   "metadata": {},
   "source": [
    "# Training"
   ]
  },
  {
   "cell_type": "code",
   "execution_count": 48,
   "metadata": {},
   "outputs": [],
   "source": [
    "config = fit_text(X, y) #, input_seq_max_length = 500, target_seq_max_length = 60)\n",
    "\n",
    "summarizer = Seq2SeqGloVeSummarizerV2(config)\n",
    "\n",
    "# print(config)"
   ]
  },
  {
   "cell_type": "code",
   "execution_count": 49,
   "metadata": {},
   "outputs": [],
   "source": [
    "X_train, X_test, y_train, y_test = train_test_split(X, y, test_size = 0.20, random_state = 0)"
   ]
  },
  {
   "cell_type": "code",
   "execution_count": null,
   "metadata": {},
   "outputs": [
    {
     "name": "stderr",
     "output_type": "stream",
     "text": [
      "c:\\python36\\lib\\site-packages\\keras\\engine\\network.py:888: UserWarning: Layer decoder_lstm was passed non-serializable keyword arguments: {'initial_state': [<tf.Tensor 'encoder_lstm_5/while/Exit_2:0' shape=(?, 100) dtype=float32>, <tf.Tensor 'encoder_lstm_5/while/Exit_3:0' shape=(?, 100) dtype=float32>]}. They will not be included in the serialized model (and thus will be missing at deserialization time).\n",
      "  '. They will not be included '\n"
     ]
    },
    {
     "name": "stdout",
     "output_type": "stream",
     "text": [
      "(3516,)\n",
      "(880,)\n",
      "(3516, 500, 100)\n",
      "(880, 500, 100)\n",
      "Epoch 1/100\n",
      "219/219 [==============================] - 95s 434ms/step - loss: 4.3712 - acc: 0.0603 - val_loss: 4.3183 - val_acc: 0.0582\n",
      "Epoch 2/100\n",
      " 48/219 [=====>........................] - ETA: 1:09 - loss: 4.3206 - acc: 0.0606"
     ]
    }
   ],
   "source": [
    "history = summarizer.fit(X_train, y_train, X_test, y_test, epochs=100, batch_size=16)"
   ]
  },
  {
   "cell_type": "code",
   "execution_count": null,
   "metadata": {},
   "outputs": [],
   "source": [
    "model_File_Path = './models/seq2seq-glove-weights.h5'"
   ]
  },
  {
   "cell_type": "markdown",
   "metadata": {},
   "source": [
    "# Prediction"
   ]
  },
  {
   "cell_type": "code",
   "execution_count": null,
   "metadata": {},
   "outputs": [],
   "source": [
    "csv_Test_File_Path = r'news_summary_Test.csv'\n",
    "\n",
    "df_Test = pd.read_csv(csv_Test_File_Path ,encoding = \"latin1\", low_memory = False )\n",
    "\n",
    "df_Test = df_Test[['Partial_Article_Data']]"
   ]
  },
  {
   "cell_type": "code",
   "execution_count": null,
   "metadata": {},
   "outputs": [],
   "source": [
    "df_Test"
   ]
  },
  {
   "cell_type": "code",
   "execution_count": null,
   "metadata": {},
   "outputs": [],
   "source": [
    "model_dir_path = './models'\n",
    "very_large_data_dir_path = './very_large_data'"
   ]
  },
  {
   "cell_type": "code",
   "execution_count": null,
   "metadata": {},
   "outputs": [],
   "source": [
    "config = np.load(Seq2SeqGloVeSummarizerV2.get_config_file_path(model_dir_path=model_dir_path)).item()\n",
    "\n",
    "summarizer = Seq2SeqGloVeSummarizerV2(config)\n",
    "summarizer.load_glove(very_large_data_dir_path)\n",
    "summarizer.load_weights(weight_file_path=Seq2SeqGloVeSummarizerV2.get_weight_file_path(model_dir_path=model_dir_path))\n",
    "\n",
    "print(Seq2SeqGloVeSummarizerV2.get_weight_file_path(model_dir_path=model_dir_path))"
   ]
  },
  {
   "cell_type": "code",
   "execution_count": null,
   "metadata": {
    "scrolled": true
   },
   "outputs": [],
   "source": [
    "input_text = df_Test['Partial_Article_Data'][0]\n",
    "\n",
    "text = summarizer.summarize(input_text)\n",
    "\n",
    "print(text)"
   ]
  },
  {
   "cell_type": "code",
   "execution_count": null,
   "metadata": {},
   "outputs": [],
   "source": [
    "input_text\n"
   ]
  },
  {
   "cell_type": "code",
   "execution_count": null,
   "metadata": {},
   "outputs": [],
   "source": []
  }
 ],
 "metadata": {
  "kernelspec": {
   "display_name": "Python 3",
   "language": "python",
   "name": "python3"
  },
  "language_info": {
   "codemirror_mode": {
    "name": "ipython",
    "version": 3
   },
   "file_extension": ".py",
   "mimetype": "text/x-python",
   "name": "python",
   "nbconvert_exporter": "python",
   "pygments_lexer": "ipython3",
   "version": "3.6.5"
  }
 },
 "nbformat": 4,
 "nbformat_minor": 2
}
