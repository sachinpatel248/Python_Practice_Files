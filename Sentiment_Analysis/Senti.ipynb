{
 "cells": [
  {
   "cell_type": "code",
   "execution_count": 26,
   "metadata": {},
   "outputs": [],
   "source": [
    "import numpy as np # linear algebra\n",
    "import pandas as pd # data processing, CSV file I/O (e.g. pd.read_csv)\n",
    "\n",
    "from sklearn.feature_extraction.text import CountVectorizer\n",
    "from keras.preprocessing.text import Tokenizer\n",
    "from keras.preprocessing.sequence import pad_sequences\n",
    "from keras.models import Sequential\n",
    "from keras.layers import Dense, Embedding, LSTM, SpatialDropout1D\n",
    "from sklearn.model_selection import train_test_split\n",
    "from keras.utils.np_utils import to_categorical\n",
    "import re\n",
    "import urllib.request\n",
    "#!python -m textblob.download_corpora #this command is only work in jupyter notebook/Ipython\n",
    "from textblob import TextBlob\n",
    "from bs4 import BeautifulSoup"
   ]
  },
  {
   "cell_type": "code",
   "execution_count": 5,
   "metadata": {},
   "outputs": [],
   "source": [
    "data = pd.read_csv('C:\\\\Users\\\\Arpit14276\\\\Desktop\\\\Rel infra\\\\userfeedback.csv')\n",
    "# Keeping only the neccessary columns\n",
    "data = data[['Review','Sentiment']]"
   ]
  },
  {
   "cell_type": "code",
   "execution_count": 7,
   "metadata": {},
   "outputs": [
    {
     "name": "stderr",
     "output_type": "stream",
     "text": [
      "D:\\Product\\Anaconda\\lib\\site-packages\\ipykernel_launcher.py:2: SettingWithCopyWarning: \n",
      "A value is trying to be set on a copy of a slice from a DataFrame.\n",
      "Try using .loc[row_indexer,col_indexer] = value instead\n",
      "\n",
      "See the caveats in the documentation: http://pandas.pydata.org/pandas-docs/stable/indexing.html#indexing-view-versus-copy\n",
      "  \n",
      "D:\\Product\\Anaconda\\lib\\site-packages\\ipykernel_launcher.py:3: SettingWithCopyWarning: \n",
      "A value is trying to be set on a copy of a slice from a DataFrame.\n",
      "Try using .loc[row_indexer,col_indexer] = value instead\n",
      "\n",
      "See the caveats in the documentation: http://pandas.pydata.org/pandas-docs/stable/indexing.html#indexing-view-versus-copy\n",
      "  This is separate from the ipykernel package so we can avoid doing imports until\n"
     ]
    }
   ],
   "source": [
    "data = data[data.Sentiment != \"Neutral\"]\n",
    "data['Review'] = data['Review'].apply(lambda x: x.lower())\n",
    "data['Review'] = data['Review'].apply((lambda x: re.sub('[^a-zA-z0-9\\s]','',x)))"
   ]
  },
  {
   "cell_type": "code",
   "execution_count": 9,
   "metadata": {},
   "outputs": [
    {
     "name": "stdout",
     "output_type": "stream",
     "text": [
      "74470\n",
      "23266\n"
     ]
    }
   ],
   "source": [
    "print(data[ data['Sentiment'] == 'Positive'].size)\n",
    "print(data[ data['Sentiment'] == 'Negative'].size)"
   ]
  },
  {
   "cell_type": "code",
   "execution_count": 10,
   "metadata": {},
   "outputs": [],
   "source": [
    "max_fatures = 2000\n",
    "tokenizer = Tokenizer(num_words=max_fatures, split=' ')\n",
    "tokenizer.fit_on_texts(data['Review'].values)\n",
    "X = tokenizer.texts_to_sequences(data['Sentiment'].values)\n",
    "X = pad_sequences(X)"
   ]
  },
  {
   "cell_type": "code",
   "execution_count": 11,
   "metadata": {},
   "outputs": [
    {
     "name": "stdout",
     "output_type": "stream",
     "text": [
      "_________________________________________________________________\n",
      "Layer (type)                 Output Shape              Param #   \n",
      "=================================================================\n",
      "embedding_1 (Embedding)      (None, 1, 128)            256000    \n",
      "_________________________________________________________________\n",
      "spatial_dropout1d_1 (Spatial (None, 1, 128)            0         \n",
      "_________________________________________________________________\n",
      "lstm_1 (LSTM)                (None, 196)               254800    \n",
      "_________________________________________________________________\n",
      "dense_1 (Dense)              (None, 2)                 394       \n",
      "=================================================================\n",
      "Total params: 511,194\n",
      "Trainable params: 511,194\n",
      "Non-trainable params: 0\n",
      "_________________________________________________________________\n",
      "None\n"
     ]
    }
   ],
   "source": [
    "embed_dim = 128\n",
    "lstm_out = 196\n",
    "\n",
    "model = Sequential()\n",
    "model.add(Embedding(max_fatures, embed_dim,input_length = X.shape[1]))\n",
    "model.add(SpatialDropout1D(0.4))\n",
    "model.add(LSTM(lstm_out, dropout=0.2, recurrent_dropout=0.2))\n",
    "model.add(Dense(2,activation='softmax'))\n",
    "model.compile(loss = 'categorical_crossentropy', optimizer='adam',metrics = ['accuracy'])\n",
    "print(model.summary())"
   ]
  },
  {
   "cell_type": "code",
   "execution_count": 12,
   "metadata": {},
   "outputs": [
    {
     "name": "stdout",
     "output_type": "stream",
     "text": [
      "(32741, 1) (32741, 2)\n",
      "(16127, 1) (16127, 2)\n"
     ]
    }
   ],
   "source": [
    "Y = pd.get_dummies(data['Sentiment']).values\n",
    "X_train, X_test, Y_train, Y_test = train_test_split(X,Y, test_size = 0.33, random_state = 42)\n",
    "print(X_train.shape,Y_train.shape)\n",
    "print(X_test.shape,Y_test.shape)"
   ]
  },
  {
   "cell_type": "code",
   "execution_count": 13,
   "metadata": {},
   "outputs": [
    {
     "name": "stdout",
     "output_type": "stream",
     "text": [
      "Epoch 1/7\n",
      " - 10s - loss: 0.0167 - acc: 0.9968\n",
      "Epoch 2/7\n",
      " - 9s - loss: 2.0964e-05 - acc: 1.0000\n",
      "Epoch 3/7\n",
      " - 9s - loss: 6.6197e-06 - acc: 1.0000\n",
      "Epoch 4/7\n",
      " - 9s - loss: 2.7880e-06 - acc: 1.0000\n",
      "Epoch 5/7\n",
      " - 10s - loss: 1.3782e-06 - acc: 1.0000\n",
      "Epoch 6/7\n",
      " - 9s - loss: 7.6271e-07 - acc: 1.0000\n",
      "Epoch 7/7\n",
      " - 9s - loss: 4.6415e-07 - acc: 1.0000\n"
     ]
    },
    {
     "data": {
      "text/plain": [
       "<keras.callbacks.History at 0x1ee84c2d518>"
      ]
     },
     "execution_count": 13,
     "metadata": {},
     "output_type": "execute_result"
    }
   ],
   "source": [
    "batch_size = 32\n",
    "model.fit(X_train, Y_train, epochs = 7, batch_size=batch_size, verbose = 2)"
   ]
  },
  {
   "cell_type": "code",
   "execution_count": 14,
   "metadata": {},
   "outputs": [
    {
     "name": "stdout",
     "output_type": "stream",
     "text": [
      "score: 0.00\n",
      "acc: 1.00\n"
     ]
    }
   ],
   "source": [
    "validation_size = 1500\n",
    "\n",
    "X_validate = X_test[-validation_size:]\n",
    "Y_validate = Y_test[-validation_size:]\n",
    "X_test = X_test[:-validation_size]\n",
    "Y_test = Y_test[:-validation_size]\n",
    "score,acc = model.evaluate(X_test, Y_test, verbose = 2, batch_size = batch_size)\n",
    "print(\"score: %.2f\" % (score))\n",
    "print(\"acc: %.2f\" % (acc))"
   ]
  },
  {
   "cell_type": "code",
   "execution_count": 15,
   "metadata": {},
   "outputs": [
    {
     "name": "stdout",
     "output_type": "stream",
     "text": [
      "pos_acc 100.0 %\n",
      "neg_acc 100.0 %\n"
     ]
    }
   ],
   "source": [
    "pos_cnt, neg_cnt, pos_correct, neg_correct = 0, 0, 0, 0\n",
    "for x in range(len(X_validate)):\n",
    "    \n",
    "    result = model.predict(X_validate[x].reshape(1,X_test.shape[1]),batch_size=1,verbose = 2)[0]\n",
    "   \n",
    "    if np.argmax(result) == np.argmax(Y_validate[x]):\n",
    "        if np.argmax(Y_validate[x]) == 0:\n",
    "            neg_correct += 1\n",
    "        else:\n",
    "            pos_correct += 1\n",
    "       \n",
    "    if np.argmax(Y_validate[x]) == 0:\n",
    "        neg_cnt += 1\n",
    "    else:\n",
    "        pos_cnt += 1\n",
    "\n",
    "\n",
    "\n",
    "print(\"pos_acc\", pos_correct/pos_cnt*100, \"%\")\n",
    "print(\"neg_acc\", neg_correct/neg_cnt*100, \"%\")"
   ]
  },
  {
   "cell_type": "code",
   "execution_count": 28,
   "metadata": {},
   "outputs": [],
   "source": [
    "def web_crawl(keyword_search):\n",
    "    url_base='https://news.google.com/search?q='+'&'.join(keyword_search.split())+'&hl=en-IN&gl=IN&ceid=IN%3Aen'\n",
    "    print ('url', url_base)\n",
    "    page = urllib.request.urlopen(url_base)\n",
    "    soup = BeautifulSoup(page, 'html.parser')\n",
    "    top_10=[]\n",
    "    for i in  soup.find_all('p')[:10]:\n",
    "        top_10.append(i.text)\n",
    "    return top_10\n",
    "def sentiment (text):\n",
    "    for i in text:\n",
    "        #twt = [\"After reaching as high as Rs.1126.75 and dropping as low as Rs.1111.75 through the day, one stock of Reliance Industries Ltd. was observed to be priced at \"]\n",
    "        #vectorizing the tweet by the pre-fitted tokenizer instance\n",
    "        twt = tokenizer.texts_to_sequences(i)\n",
    "        #padding the tweet to have exactly the same shape as `embedding_2` input\n",
    "        twt = pad_sequences(twt, maxlen=1, dtype='int32', value=0)\n",
    "        #print(twt)\n",
    "        sentiment = model.predict(twt,batch_size=1,verbose = 2)[0]\n",
    "        print ('NEWS : ',i)\n",
    "        if(np.argmax(sentiment) == 0):\n",
    "            print(\"negative\")\n",
    "        elif (np.argmax(sentiment) == 1):\n",
    "            print(\"positive\")"
   ]
  },
  {
   "cell_type": "code",
   "execution_count": 29,
   "metadata": {},
   "outputs": [
    {
     "name": "stdout",
     "output_type": "stream",
     "text": [
      "url https://news.google.com/search?q=Mastek&hl=en-IN&gl=IN&ceid=IN%3Aen\n",
      "NEWS :  Its consolidated income from operations was up by 31.5 percent to Rs 244 crore in April-June 2018 quarter as against Rs 185.6 crore in the year-ago period.\n",
      "negative\n",
      "NEWS :  Read more about Mastek standalone net profit declines 0.11% in the June 2018 quarter on Business Standard. Sales rise 21.67% to Rs 47.38 crore.\n",
      "positive\n",
      "NEWS :  Mastek Ltd's Wholly Owned Subsidiary - Mastek (UK) Limited has entered into an arrangement with its Wholly Owned Subsidiary - IndigoBlue Consulting Limited ...\n",
      "positive\n",
      "NEWS :  The *content* of this article will benefit those of you who are starting to educate yourself about investing in the stock market and want a simplistic look at the return ...\n",
      "positive\n",
      "NEWS :  Follow the latest in business and stock markets on BloombergQuint. Our digital streaming *service* includes comprehensive live programming on a daily basis, ...\n",
      "positive\n",
      "NEWS :  Mastek Limited (NSE:MASTEK), is a ₹11.90b small-cap, which operates in the IT services industry based in India. In the past decade, the mega-tech companies, ...\n",
      "positive\n",
      "NEWS :  Read more about Mastek allots 57863 equity shares on Business Standard. Under ESOP.\n",
      "positive\n",
      "NEWS :  The current price of MASTEK places the company at a fair trailing PE of 17.12x, which is within a fair range of the IT's average of 17.04x. But can investors make ...\n",
      "positive\n",
      "NEWS :  MASTEK LTD. (MASTEK.BO) shares are moving today on volatility 1.81% or 9.40 from the open. The BSE listed company saw a recent bid of 528.90 and 39221 ...\n",
      "positive\n",
      "NEWS :  MASTEK LTD. (MASTEK.BO) have climbed higher over the course of the past week revealing positive upward momentum for the shares. In taking a look at ...\n",
      "positive\n",
      "NEWS :  All eyes will be watching the Mukesh Ambani backed Reliance Industries on Thursday when the company holds its 41st Annual General Meeting (AGM). Ahead ...\n",
      "negative\n",
      "NEWS :  Shares of Mastek Limited (MASTEK.NS) have seen the needle move 1.52% or 7.95 in the most recent session. The NSE listed company saw a recent.\n",
      "positive\n",
      "NEWS :  On July 18, Mastek will release figures for Q1.Wall Street predict expect Mastek will report earnings per share of INR 8.76Go here to watch Mastek stock pri...\n",
      "positive\n",
      "NEWS :  Shares of HOUSING DEVELOPMENT & INFRASTRUCTURE LTD. (HDIL.BO) have seen the needle move 0.00% or 0.00 in the most recent session. The BSE.\n",
      "positive\n",
      "NEWS :  A Meeting of the Board of Directors of Mastek Limited is scheduled to be held on Wednesday, April 18, 2018 to consider and take on record the Consolidated ...\n",
      "negative\n"
     ]
    }
   ],
   "source": [
    "sentiment(web_crawl('Mastek'))"
   ]
  },
  {
   "cell_type": "code",
   "execution_count": null,
   "metadata": {},
   "outputs": [],
   "source": []
  }
 ],
 "metadata": {
  "kernelspec": {
   "display_name": "Python 3",
   "language": "python",
   "name": "python3"
  },
  "language_info": {
   "codemirror_mode": {
    "name": "ipython",
    "version": 3
   },
   "file_extension": ".py",
   "mimetype": "text/x-python",
   "name": "python",
   "nbconvert_exporter": "python",
   "pygments_lexer": "ipython3",
   "version": "3.6.5"
  }
 },
 "nbformat": 4,
 "nbformat_minor": 2
}
