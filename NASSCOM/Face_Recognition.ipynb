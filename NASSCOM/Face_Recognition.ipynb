{
 "cells": [
  {
   "cell_type": "code",
   "execution_count": 1,
   "metadata": {},
   "outputs": [
    {
     "ename": "ModuleNotFoundError",
     "evalue": "No module named 'face_recognition'",
     "output_type": "error",
     "traceback": [
      "\u001b[1;31m---------------------------------------------------------------------------\u001b[0m",
      "\u001b[1;31mModuleNotFoundError\u001b[0m                       Traceback (most recent call last)",
      "\u001b[1;32m<ipython-input-1-913457ee96e4>\u001b[0m in \u001b[0;36m<module>\u001b[1;34m()\u001b[0m\n\u001b[0;32m      6\u001b[0m \u001b[1;33m\u001b[0m\u001b[0m\n\u001b[0;32m      7\u001b[0m \u001b[1;33m\u001b[0m\u001b[0m\n\u001b[1;32m----> 8\u001b[1;33m \u001b[1;32mimport\u001b[0m \u001b[0mface_recognition\u001b[0m\u001b[1;33m\u001b[0m\u001b[0m\n\u001b[0m\u001b[0;32m      9\u001b[0m \u001b[1;32mimport\u001b[0m \u001b[0mos\u001b[0m\u001b[1;33m\u001b[0m\u001b[0m\n\u001b[0;32m     10\u001b[0m \u001b[1;32mfrom\u001b[0m \u001b[0mface_embeddings\u001b[0m \u001b[1;32mimport\u001b[0m \u001b[0mGet_Face_Embedding\u001b[0m\u001b[1;33m,\u001b[0m\u001b[0mgetEmbedding\u001b[0m\u001b[1;33m\u001b[0m\u001b[0m\n",
      "\u001b[1;31mModuleNotFoundError\u001b[0m: No module named 'face_recognition'"
     ]
    }
   ],
   "source": [
    "import cv2\n",
    "import matplotlib.pyplot as plt\n",
    "import os\n",
    "import numpy as np\n",
    "import csv\n",
    "\n",
    "\n",
    "import face_recognition\n",
    "import os\n",
    "from face_embeddings import Get_Face_Embedding,getEmbedding"
   ]
  },
  {
   "cell_type": "code",
   "execution_count": 19,
   "metadata": {},
   "outputs": [],
   "source": [
    "known_Person_Image_Path = r'C:\\Users\\Sachin13390\\Desktop\\Face_Data\\Abhishek\\abhi.jpg.jpg'\n",
    "\n",
    "Unknown_Person_Image_Path = r'C:\\Users\\Sachin\\Desktop\\Face_Data\\Grant_Gustin\\abhi2.jpg'"
   ]
  },
  {
   "cell_type": "code",
   "execution_count": 20,
   "metadata": {},
   "outputs": [],
   "source": [
    "known_image = face_recognition.load_image_file(known_Person_Image_Path)\n",
    "unknown_image = face_recognition.load_image_file(Unknown_Person_Image_Path)\n",
    "\n",
    "biden_encoding = face_recognition.face_encodings(known_image)[0]\n",
    "unknown_encoding = face_recognition.face_encodings(unknown_image)[0]\n"
   ]
  },
  {
   "cell_type": "code",
   "execution_count": 21,
   "metadata": {},
   "outputs": [],
   "source": [
    "results = face_recognition.compare_faces([biden_encoding], unknown_encoding)"
   ]
  },
  {
   "cell_type": "code",
   "execution_count": 22,
   "metadata": {},
   "outputs": [
    {
     "name": "stdout",
     "output_type": "stream",
     "text": [
      "[True]\n"
     ]
    }
   ],
   "source": [
    "print (results)"
   ]
  },
  {
   "cell_type": "code",
   "execution_count": 6,
   "metadata": {},
   "outputs": [],
   "source": [
    "folder_path = r'C:\\Users\\Sachin\\Desktop'\n",
    "\n",
    "if not os.path.isdir(folder_path):\n",
    "    folder_path = r'C:\\Users\\Sachin13390\\Desktop'"
   ]
  },
  {
   "cell_type": "code",
   "execution_count": 36,
   "metadata": {},
   "outputs": [
    {
     "name": "stdout",
     "output_type": "stream",
     "text": [
      "C:\\Users\\Sachin\\Desktop\\lfw-deepfunneled\n"
     ]
    }
   ],
   "source": [
    "Image_Dataset_Path = folder_path + '\\\\' + \"lfw-deepfunneled\"\n",
    "\n",
    "print (Image_Dataset_Path)\n",
    "\n",
    "list_Image_Fetaure = []\n",
    "total_Image_Count = 0"
   ]
  },
  {
   "cell_type": "code",
   "execution_count": 37,
   "metadata": {},
   "outputs": [
    {
     "name": "stdout",
     "output_type": "stream",
     "text": [
      "1532\n"
     ]
    }
   ],
   "source": [
    "for root, dirs, files in os.walk(Image_Dataset_Path, topdown=True):\n",
    "    for name in files:\n",
    "        total_Image_Count = total_Image_Count + 1\n",
    "        \n",
    "print (total_Image_Count)"
   ]
  },
  {
   "cell_type": "code",
   "execution_count": 38,
   "metadata": {},
   "outputs": [
    {
     "name": "stdout",
     "output_type": "stream",
     "text": [
      "---------------   0 / 1532\n",
      "---------------   100 / 1532\n",
      "---------------   200 / 1532\n",
      "---------------   300 / 1532\n",
      "---------------   400 / 1532\n",
      "Error Found at 466\n",
      "---------------   500 / 1532\n",
      "Error Found at 545\n",
      "Error Found at 549\n",
      "---------------   600 / 1532\n",
      "---------------   700 / 1532\n",
      "Error Found at 773\n",
      "---------------   800 / 1532\n",
      "---------------   900 / 1532\n",
      "---------------   1000 / 1532\n",
      "---------------   1100 / 1532\n",
      "---------------   1200 / 1532\n",
      "---------------   1300 / 1532\n",
      "---------------   1400 / 1532\n",
      "---------------   1500 / 1532\n",
      "Total errors 4\n"
     ]
    }
   ],
   "source": [
    "temp_Count = 0\n",
    "list_Image_Fetaure = []\n",
    "error_Count = 0\n",
    "\n",
    "for root, dirs, files in os.walk(Image_Dataset_Path, topdown=True):\n",
    "\n",
    "    for folder in dirs:\n",
    "        \n",
    "        for root_Path, folder_Path, image_Files in os.walk(os.path.join(root, folder), topdown=True):\n",
    "            \n",
    "            for image in image_Files:\n",
    "                if temp_Count < 15000:\n",
    "                    \n",
    "                    try:\n",
    "                        image_Path = os.path.join(root_Path, image)\n",
    "                        #print (folder)\n",
    "                        known_image = face_recognition.load_image_file(image_Path)\n",
    "                        \n",
    "                        biden_encoding = face_recognition.face_encodings(known_image)[0]\n",
    "                                                \n",
    "                        list_Image_Fetaure.append((folder,biden_encoding))                      \n",
    "                        \n",
    "                    except:\n",
    "                        print (\"Error Found at \" + str(temp_Count))\n",
    "                        error_Count = error_Count + 1\n",
    "                        error_Count\n",
    "                        \n",
    "                    \n",
    "                    if temp_Count % 100 == 0:\n",
    "                        print (\"---------------   \" + str(temp_Count) + \" / \" + str(total_Image_Count))\n",
    "                        \n",
    "                    temp_Count = temp_Count + 1\n",
    "                    #print (temp_Count)\n",
    "                    \n",
    "\n",
    "print (\"Total errors \" + str(error_Count))\n",
    "    "
   ]
  },
  {
   "cell_type": "code",
   "execution_count": 62,
   "metadata": {},
   "outputs": [],
   "source": [
    "#Unknown_Person_Image_Path = r'C:\\Users\\Sachin\\Desktop\\GG.jpg'\n",
    "Unknown_Person_Image_Path = r'C:\\Users\\Sachin\\Desktop\\download (2).jpg'\n",
    "#Unknown_Person_Image_Path = r'C:\\Users\\Sachin\\Desktop\\download.jpg'"
   ]
  },
  {
   "cell_type": "code",
   "execution_count": 63,
   "metadata": {},
   "outputs": [
    {
     "name": "stdout",
     "output_type": "stream",
     "text": [
      "Dwayne_Johnson [True]\n",
      "Dwayne_Johnson [True]\n",
      "Gerardo_Gambala [True]\n"
     ]
    }
   ],
   "source": [
    "unknown_image = face_recognition.load_image_file(Unknown_Person_Image_Path)\n",
    "unknown_encoding = face_recognition.face_encodings(unknown_image)[0]\n",
    "\n",
    "for face_encoding in list_Image_Fetaure:\n",
    "    results = face_recognition.compare_faces([face_encoding[1]], unknown_encoding)\n",
    "    if (results[0] == True):\n",
    "        print(face_encoding[0],results)\n",
    "    "
   ]
  },
  {
   "cell_type": "code",
   "execution_count": null,
   "metadata": {},
   "outputs": [],
   "source": []
  }
 ],
 "metadata": {
  "kernelspec": {
   "display_name": "Python 3",
   "language": "python",
   "name": "python3"
  },
  "language_info": {
   "codemirror_mode": {
    "name": "ipython",
    "version": 3
   },
   "file_extension": ".py",
   "mimetype": "text/x-python",
   "name": "python",
   "nbconvert_exporter": "python",
   "pygments_lexer": "ipython3",
   "version": "3.6.4"
  }
 },
 "nbformat": 4,
 "nbformat_minor": 2
}
