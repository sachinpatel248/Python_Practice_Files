{
 "cells": [
  {
   "cell_type": "code",
   "execution_count": 1,
   "metadata": {},
   "outputs": [],
   "source": [
    "import pandas as pd\n",
    "import numpy as np"
   ]
  },
  {
   "cell_type": "code",
   "execution_count": 5,
   "metadata": {},
   "outputs": [],
   "source": [
    "CSV_File_Path = r'./TagNames.csv'"
   ]
  },
  {
   "cell_type": "code",
   "execution_count": 21,
   "metadata": {},
   "outputs": [
    {
     "name": "stdout",
     "output_type": "stream",
     "text": [
      "                               TagName\n",
      "0                                  API\n",
      "1                       API Management\n",
      "2                            Analytics\n",
      "3   Application Development Life Cycle\n",
      "4               Application Management\n",
      "5                Architecture Patterns\n",
      "6                       Authentication\n",
      "7                           Automation\n",
      "8                                  BPM\n",
      "9                     Batch Processing\n",
      "10                            Batching\n",
      "11                            Big Data\n",
      "12                       Build Manager\n",
      "13               Business Intelligence\n",
      "14                                 CRM\n",
      "15                         Case Engine\n",
      "16                            ChatBots\n",
      "17                               Cloud\n",
      "18                 Collaboration Tools\n",
      "19                            Columnar\n",
      "20                      Configurations\n",
      "21                          Containers\n",
      "22                  Content Management\n",
      "23                 Continuous Delivery\n",
      "24              Continuous Integration\n",
      "25                     Data Governance\n",
      "26                     Data Processing\n",
      "27                 Data Virtualization\n",
      "28                  Data Visualization\n",
      "29                    Data Warehousing\n",
      "..                                 ...\n",
      "65               Operations Management\n",
      "66                         Performance\n",
      "67              Performance Monitoring\n",
      "68                      Process Mining\n",
      "69                               Queue\n",
      "70                                 RPA\n",
      "71                          Relational\n",
      "72                  Release Management\n",
      "73                           Reporting\n",
      "74                          Repository\n",
      "75                         Rule Engine\n",
      "76                                 SOA\n",
      "77                                SSIS\n",
      "78                          Scheduling\n",
      "79                              Search\n",
      "80                            Security\n",
      "81                          Serverless\n",
      "82                  Service Management\n",
      "83                             Storage\n",
      "84                           Streaming\n",
      "85                  Systems Management\n",
      "86                            Teradata\n",
      "87                             Testing\n",
      "88                           Ticketing\n",
      "89                                  UI\n",
      "90                     Version Control\n",
      "91                          Web Server\n",
      "92                    Web Technologies\n",
      "93                            Workflow\n",
      "94                                 XML\n",
      "\n",
      "[95 rows x 1 columns]\n"
     ]
    }
   ],
   "source": [
    "df = pd.read_csv(CSV_File_Path)"
   ]
  },
  {
   "cell_type": "code",
   "execution_count": 35,
   "metadata": {},
   "outputs": [
    {
     "name": "stdout",
     "output_type": "stream",
     "text": [
      "INSERT INTO Tags (TagID, TagName, Active, AddedBy, AddedOn, OrganizationID) VALUES (NEWID(), 'API' , '1',dbo.GetUserIDByUserName('ADMIN') ,GETDATE ( ),dbo.GetOrganizationIDByShortName('MAS'));\n",
      "INSERT INTO Tags (TagID, TagName, Active, AddedBy, AddedOn, OrganizationID) VALUES (NEWID(), 'API Management' , '1',dbo.GetUserIDByUserName('ADMIN') ,GETDATE ( ),dbo.GetOrganizationIDByShortName('MAS'));\n",
      "INSERT INTO Tags (TagID, TagName, Active, AddedBy, AddedOn, OrganizationID) VALUES (NEWID(), 'Analytics' , '1',dbo.GetUserIDByUserName('ADMIN') ,GETDATE ( ),dbo.GetOrganizationIDByShortName('MAS'));\n",
      "INSERT INTO Tags (TagID, TagName, Active, AddedBy, AddedOn, OrganizationID) VALUES (NEWID(), 'Application Development Life Cycle' , '1',dbo.GetUserIDByUserName('ADMIN') ,GETDATE ( ),dbo.GetOrganizationIDByShortName('MAS'));\n",
      "INSERT INTO Tags (TagID, TagName, Active, AddedBy, AddedOn, OrganizationID) VALUES (NEWID(), 'Application Management' , '1',dbo.GetUserIDByUserName('ADMIN') ,GETDATE ( ),dbo.GetOrganizationIDByShortName('MAS'));\n",
      "INSERT INTO Tags (TagID, TagName, Active, AddedBy, AddedOn, OrganizationID) VALUES (NEWID(), 'Architecture Patterns' , '1',dbo.GetUserIDByUserName('ADMIN') ,GETDATE ( ),dbo.GetOrganizationIDByShortName('MAS'));\n",
      "INSERT INTO Tags (TagID, TagName, Active, AddedBy, AddedOn, OrganizationID) VALUES (NEWID(), 'Authentication' , '1',dbo.GetUserIDByUserName('ADMIN') ,GETDATE ( ),dbo.GetOrganizationIDByShortName('MAS'));\n",
      "INSERT INTO Tags (TagID, TagName, Active, AddedBy, AddedOn, OrganizationID) VALUES (NEWID(), 'Automation' , '1',dbo.GetUserIDByUserName('ADMIN') ,GETDATE ( ),dbo.GetOrganizationIDByShortName('MAS'));\n",
      "INSERT INTO Tags (TagID, TagName, Active, AddedBy, AddedOn, OrganizationID) VALUES (NEWID(), 'BPM' , '1',dbo.GetUserIDByUserName('ADMIN') ,GETDATE ( ),dbo.GetOrganizationIDByShortName('MAS'));\n",
      "INSERT INTO Tags (TagID, TagName, Active, AddedBy, AddedOn, OrganizationID) VALUES (NEWID(), 'Batch Processing' , '1',dbo.GetUserIDByUserName('ADMIN') ,GETDATE ( ),dbo.GetOrganizationIDByShortName('MAS'));\n",
      "INSERT INTO Tags (TagID, TagName, Active, AddedBy, AddedOn, OrganizationID) VALUES (NEWID(), 'Batching' , '1',dbo.GetUserIDByUserName('ADMIN') ,GETDATE ( ),dbo.GetOrganizationIDByShortName('MAS'));\n",
      "INSERT INTO Tags (TagID, TagName, Active, AddedBy, AddedOn, OrganizationID) VALUES (NEWID(), 'Big Data' , '1',dbo.GetUserIDByUserName('ADMIN') ,GETDATE ( ),dbo.GetOrganizationIDByShortName('MAS'));\n",
      "INSERT INTO Tags (TagID, TagName, Active, AddedBy, AddedOn, OrganizationID) VALUES (NEWID(), 'Build Manager' , '1',dbo.GetUserIDByUserName('ADMIN') ,GETDATE ( ),dbo.GetOrganizationIDByShortName('MAS'));\n",
      "INSERT INTO Tags (TagID, TagName, Active, AddedBy, AddedOn, OrganizationID) VALUES (NEWID(), 'Business Intelligence' , '1',dbo.GetUserIDByUserName('ADMIN') ,GETDATE ( ),dbo.GetOrganizationIDByShortName('MAS'));\n",
      "INSERT INTO Tags (TagID, TagName, Active, AddedBy, AddedOn, OrganizationID) VALUES (NEWID(), 'CRM' , '1',dbo.GetUserIDByUserName('ADMIN') ,GETDATE ( ),dbo.GetOrganizationIDByShortName('MAS'));\n",
      "INSERT INTO Tags (TagID, TagName, Active, AddedBy, AddedOn, OrganizationID) VALUES (NEWID(), 'Case Engine' , '1',dbo.GetUserIDByUserName('ADMIN') ,GETDATE ( ),dbo.GetOrganizationIDByShortName('MAS'));\n",
      "INSERT INTO Tags (TagID, TagName, Active, AddedBy, AddedOn, OrganizationID) VALUES (NEWID(), 'ChatBots' , '1',dbo.GetUserIDByUserName('ADMIN') ,GETDATE ( ),dbo.GetOrganizationIDByShortName('MAS'));\n",
      "INSERT INTO Tags (TagID, TagName, Active, AddedBy, AddedOn, OrganizationID) VALUES (NEWID(), 'Cloud' , '1',dbo.GetUserIDByUserName('ADMIN') ,GETDATE ( ),dbo.GetOrganizationIDByShortName('MAS'));\n",
      "INSERT INTO Tags (TagID, TagName, Active, AddedBy, AddedOn, OrganizationID) VALUES (NEWID(), 'Collaboration Tools' , '1',dbo.GetUserIDByUserName('ADMIN') ,GETDATE ( ),dbo.GetOrganizationIDByShortName('MAS'));\n",
      "INSERT INTO Tags (TagID, TagName, Active, AddedBy, AddedOn, OrganizationID) VALUES (NEWID(), 'Columnar' , '1',dbo.GetUserIDByUserName('ADMIN') ,GETDATE ( ),dbo.GetOrganizationIDByShortName('MAS'));\n",
      "INSERT INTO Tags (TagID, TagName, Active, AddedBy, AddedOn, OrganizationID) VALUES (NEWID(), 'Configurations' , '1',dbo.GetUserIDByUserName('ADMIN') ,GETDATE ( ),dbo.GetOrganizationIDByShortName('MAS'));\n",
      "INSERT INTO Tags (TagID, TagName, Active, AddedBy, AddedOn, OrganizationID) VALUES (NEWID(), 'Containers' , '1',dbo.GetUserIDByUserName('ADMIN') ,GETDATE ( ),dbo.GetOrganizationIDByShortName('MAS'));\n",
      "INSERT INTO Tags (TagID, TagName, Active, AddedBy, AddedOn, OrganizationID) VALUES (NEWID(), 'Content Management' , '1',dbo.GetUserIDByUserName('ADMIN') ,GETDATE ( ),dbo.GetOrganizationIDByShortName('MAS'));\n",
      "INSERT INTO Tags (TagID, TagName, Active, AddedBy, AddedOn, OrganizationID) VALUES (NEWID(), 'Continuous Delivery' , '1',dbo.GetUserIDByUserName('ADMIN') ,GETDATE ( ),dbo.GetOrganizationIDByShortName('MAS'));\n",
      "INSERT INTO Tags (TagID, TagName, Active, AddedBy, AddedOn, OrganizationID) VALUES (NEWID(), 'Continuous Integration' , '1',dbo.GetUserIDByUserName('ADMIN') ,GETDATE ( ),dbo.GetOrganizationIDByShortName('MAS'));\n",
      "INSERT INTO Tags (TagID, TagName, Active, AddedBy, AddedOn, OrganizationID) VALUES (NEWID(), 'Data Governance' , '1',dbo.GetUserIDByUserName('ADMIN') ,GETDATE ( ),dbo.GetOrganizationIDByShortName('MAS'));\n",
      "INSERT INTO Tags (TagID, TagName, Active, AddedBy, AddedOn, OrganizationID) VALUES (NEWID(), 'Data Processing' , '1',dbo.GetUserIDByUserName('ADMIN') ,GETDATE ( ),dbo.GetOrganizationIDByShortName('MAS'));\n",
      "INSERT INTO Tags (TagID, TagName, Active, AddedBy, AddedOn, OrganizationID) VALUES (NEWID(), 'Data Virtualization' , '1',dbo.GetUserIDByUserName('ADMIN') ,GETDATE ( ),dbo.GetOrganizationIDByShortName('MAS'));\n",
      "INSERT INTO Tags (TagID, TagName, Active, AddedBy, AddedOn, OrganizationID) VALUES (NEWID(), 'Data Visualization' , '1',dbo.GetUserIDByUserName('ADMIN') ,GETDATE ( ),dbo.GetOrganizationIDByShortName('MAS'));\n",
      "INSERT INTO Tags (TagID, TagName, Active, AddedBy, AddedOn, OrganizationID) VALUES (NEWID(), 'Data Warehousing' , '1',dbo.GetUserIDByUserName('ADMIN') ,GETDATE ( ),dbo.GetOrganizationIDByShortName('MAS'));\n",
      "INSERT INTO Tags (TagID, TagName, Active, AddedBy, AddedOn, OrganizationID) VALUES (NEWID(), 'Defect Management' , '1',dbo.GetUserIDByUserName('ADMIN') ,GETDATE ( ),dbo.GetOrganizationIDByShortName('MAS'));\n",
      "INSERT INTO Tags (TagID, TagName, Active, AddedBy, AddedOn, OrganizationID) VALUES (NEWID(), 'Deployment' , '1',dbo.GetUserIDByUserName('ADMIN') ,GETDATE ( ),dbo.GetOrganizationIDByShortName('MAS'));\n",
      "INSERT INTO Tags (TagID, TagName, Active, AddedBy, AddedOn, OrganizationID) VALUES (NEWID(), 'Design Patterns' , '1',dbo.GetUserIDByUserName('ADMIN') ,GETDATE ( ),dbo.GetOrganizationIDByShortName('MAS'));\n",
      "INSERT INTO Tags (TagID, TagName, Active, AddedBy, AddedOn, OrganizationID) VALUES (NEWID(), 'Disaster Recovery' , '1',dbo.GetUserIDByUserName('ADMIN') ,GETDATE ( ),dbo.GetOrganizationIDByShortName('MAS'));\n",
      "INSERT INTO Tags (TagID, TagName, Active, AddedBy, AddedOn, OrganizationID) VALUES (NEWID(), 'ETL' , '1',dbo.GetUserIDByUserName('ADMIN') ,GETDATE ( ),dbo.GetOrganizationIDByShortName('MAS'));\n",
      "INSERT INTO Tags (TagID, TagName, Active, AddedBy, AddedOn, OrganizationID) VALUES (NEWID(), 'Enterprise Grade' , '1',dbo.GetUserIDByUserName('ADMIN') ,GETDATE ( ),dbo.GetOrganizationIDByShortName('MAS'));\n",
      "INSERT INTO Tags (TagID, TagName, Active, AddedBy, AddedOn, OrganizationID) VALUES (NEWID(), 'Framework' , '1',dbo.GetUserIDByUserName('ADMIN') ,GETDATE ( ),dbo.GetOrganizationIDByShortName('MAS'));\n",
      "INSERT INTO Tags (TagID, TagName, Active, AddedBy, AddedOn, OrganizationID) VALUES (NEWID(), 'Google' , '1',dbo.GetUserIDByUserName('ADMIN') ,GETDATE ( ),dbo.GetOrganizationIDByShortName('MAS'));\n",
      "INSERT INTO Tags (TagID, TagName, Active, AddedBy, AddedOn, OrganizationID) VALUES (NEWID(), 'Graph' , '1',dbo.GetUserIDByUserName('ADMIN') ,GETDATE ( ),dbo.GetOrganizationIDByShortName('MAS'));\n",
      "INSERT INTO Tags (TagID, TagName, Active, AddedBy, AddedOn, OrganizationID) VALUES (NEWID(), 'Hybrid Cloud' , '1',dbo.GetUserIDByUserName('ADMIN') ,GETDATE ( ),dbo.GetOrganizationIDByShortName('MAS'));\n",
      "INSERT INTO Tags (TagID, TagName, Active, AddedBy, AddedOn, OrganizationID) VALUES (NEWID(), 'Identity Management' , '1',dbo.GetUserIDByUserName('ADMIN') ,GETDATE ( ),dbo.GetOrganizationIDByShortName('MAS'));\n",
      "INSERT INTO Tags (TagID, TagName, Active, AddedBy, AddedOn, OrganizationID) VALUES (NEWID(), 'Image Processing' , '1',dbo.GetUserIDByUserName('ADMIN') ,GETDATE ( ),dbo.GetOrganizationIDByShortName('MAS'));\n",
      "INSERT INTO Tags (TagID, TagName, Active, AddedBy, AddedOn, OrganizationID) VALUES (NEWID(), 'In Memory' , '1',dbo.GetUserIDByUserName('ADMIN') ,GETDATE ( ),dbo.GetOrganizationIDByShortName('MAS'));\n",
      "INSERT INTO Tags (TagID, TagName, Active, AddedBy, AddedOn, OrganizationID) VALUES (NEWID(), 'Information Management' , '1',dbo.GetUserIDByUserName('ADMIN') ,GETDATE ( ),dbo.GetOrganizationIDByShortName('MAS'));\n",
      "INSERT INTO Tags (TagID, TagName, Active, AddedBy, AddedOn, OrganizationID) VALUES (NEWID(), 'Infrastructure' , '1',dbo.GetUserIDByUserName('ADMIN') ,GETDATE ( ),dbo.GetOrganizationIDByShortName('MAS'));\n",
      "INSERT INTO Tags (TagID, TagName, Active, AddedBy, AddedOn, OrganizationID) VALUES (NEWID(), 'Integration Services' , '1',dbo.GetUserIDByUserName('ADMIN') ,GETDATE ( ),dbo.GetOrganizationIDByShortName('MAS'));\n",
      "INSERT INTO Tags (TagID, TagName, Active, AddedBy, AddedOn, OrganizationID) VALUES (NEWID(), 'Integration Tools' , '1',dbo.GetUserIDByUserName('ADMIN') ,GETDATE ( ),dbo.GetOrganizationIDByShortName('MAS'));\n",
      "INSERT INTO Tags (TagID, TagName, Active, AddedBy, AddedOn, OrganizationID) VALUES (NEWID(), 'IoT' , '1',dbo.GetUserIDByUserName('ADMIN') ,GETDATE ( ),dbo.GetOrganizationIDByShortName('MAS'));\n",
      "INSERT INTO Tags (TagID, TagName, Active, AddedBy, AddedOn, OrganizationID) VALUES (NEWID(), 'JS Framework' , '1',dbo.GetUserIDByUserName('ADMIN') ,GETDATE ( ),dbo.GetOrganizationIDByShortName('MAS'));\n",
      "INSERT INTO Tags (TagID, TagName, Active, AddedBy, AddedOn, OrganizationID) VALUES (NEWID(), 'Language' , '1',dbo.GetUserIDByUserName('ADMIN') ,GETDATE ( ),dbo.GetOrganizationIDByShortName('MAS'));\n",
      "INSERT INTO Tags (TagID, TagName, Active, AddedBy, AddedOn, OrganizationID) VALUES (NEWID(), 'Licensed' , '1',dbo.GetUserIDByUserName('ADMIN') ,GETDATE ( ),dbo.GetOrganizationIDByShortName('MAS'));\n",
      "INSERT INTO Tags (TagID, TagName, Active, AddedBy, AddedOn, OrganizationID) VALUES (NEWID(), 'Log Management' , '1',dbo.GetUserIDByUserName('ADMIN') ,GETDATE ( ),dbo.GetOrganizationIDByShortName('MAS'));\n",
      "INSERT INTO Tags (TagID, TagName, Active, AddedBy, AddedOn, OrganizationID) VALUES (NEWID(), 'MPP' , '1',dbo.GetUserIDByUserName('ADMIN') ,GETDATE ( ),dbo.GetOrganizationIDByShortName('MAS'));\n",
      "INSERT INTO Tags (TagID, TagName, Active, AddedBy, AddedOn, OrganizationID) VALUES (NEWID(), 'MSBI' , '1',dbo.GetUserIDByUserName('ADMIN') ,GETDATE ( ),dbo.GetOrganizationIDByShortName('MAS'));\n",
      "INSERT INTO Tags (TagID, TagName, Active, AddedBy, AddedOn, OrganizationID) VALUES (NEWID(), 'Machine Learning' , '1',dbo.GetUserIDByUserName('ADMIN') ,GETDATE ( ),dbo.GetOrganizationIDByShortName('MAS'));\n",
      "INSERT INTO Tags (TagID, TagName, Active, AddedBy, AddedOn, OrganizationID) VALUES (NEWID(), 'Message Broker' , '1',dbo.GetUserIDByUserName('ADMIN') ,GETDATE ( ),dbo.GetOrganizationIDByShortName('MAS'));\n",
      "INSERT INTO Tags (TagID, TagName, Active, AddedBy, AddedOn, OrganizationID) VALUES (NEWID(), 'Metadata Management' , '1',dbo.GetUserIDByUserName('ADMIN') ,GETDATE ( ),dbo.GetOrganizationIDByShortName('MAS'));\n",
      "INSERT INTO Tags (TagID, TagName, Active, AddedBy, AddedOn, OrganizationID) VALUES (NEWID(), 'Microsoft' , '1',dbo.GetUserIDByUserName('ADMIN') ,GETDATE ( ),dbo.GetOrganizationIDByShortName('MAS'));\n",
      "INSERT INTO Tags (TagID, TagName, Active, AddedBy, AddedOn, OrganizationID) VALUES (NEWID(), 'Mobility' , '1',dbo.GetUserIDByUserName('ADMIN') ,GETDATE ( ),dbo.GetOrganizationIDByShortName('MAS'));\n",
      "INSERT INTO Tags (TagID, TagName, Active, AddedBy, AddedOn, OrganizationID) VALUES (NEWID(), 'Monitoring' , '1',dbo.GetUserIDByUserName('ADMIN') ,GETDATE ( ),dbo.GetOrganizationIDByShortName('MAS'));\n",
      "INSERT INTO Tags (TagID, TagName, Active, AddedBy, AddedOn, OrganizationID) VALUES (NEWID(), 'Neural Network' , '1',dbo.GetUserIDByUserName('ADMIN') ,GETDATE ( ),dbo.GetOrganizationIDByShortName('MAS'));\n",
      "INSERT INTO Tags (TagID, TagName, Active, AddedBy, AddedOn, OrganizationID) VALUES (NEWID(), 'Neural Networks' , '1',dbo.GetUserIDByUserName('ADMIN') ,GETDATE ( ),dbo.GetOrganizationIDByShortName('MAS'));\n",
      "INSERT INTO Tags (TagID, TagName, Active, AddedBy, AddedOn, OrganizationID) VALUES (NEWID(), 'Notifications' , '1',dbo.GetUserIDByUserName('ADMIN') ,GETDATE ( ),dbo.GetOrganizationIDByShortName('MAS'));\n",
      "INSERT INTO Tags (TagID, TagName, Active, AddedBy, AddedOn, OrganizationID) VALUES (NEWID(), 'OR Mapper' , '1',dbo.GetUserIDByUserName('ADMIN') ,GETDATE ( ),dbo.GetOrganizationIDByShortName('MAS'));\n",
      "INSERT INTO Tags (TagID, TagName, Active, AddedBy, AddedOn, OrganizationID) VALUES (NEWID(), 'Open Source' , '1',dbo.GetUserIDByUserName('ADMIN') ,GETDATE ( ),dbo.GetOrganizationIDByShortName('MAS'));\n",
      "INSERT INTO Tags (TagID, TagName, Active, AddedBy, AddedOn, OrganizationID) VALUES (NEWID(), 'Operations Management' , '1',dbo.GetUserIDByUserName('ADMIN') ,GETDATE ( ),dbo.GetOrganizationIDByShortName('MAS'));\n",
      "INSERT INTO Tags (TagID, TagName, Active, AddedBy, AddedOn, OrganizationID) VALUES (NEWID(), 'Performance' , '1',dbo.GetUserIDByUserName('ADMIN') ,GETDATE ( ),dbo.GetOrganizationIDByShortName('MAS'));\n",
      "INSERT INTO Tags (TagID, TagName, Active, AddedBy, AddedOn, OrganizationID) VALUES (NEWID(), 'Performance Monitoring' , '1',dbo.GetUserIDByUserName('ADMIN') ,GETDATE ( ),dbo.GetOrganizationIDByShortName('MAS'));\n",
      "INSERT INTO Tags (TagID, TagName, Active, AddedBy, AddedOn, OrganizationID) VALUES (NEWID(), 'Process Mining' , '1',dbo.GetUserIDByUserName('ADMIN') ,GETDATE ( ),dbo.GetOrganizationIDByShortName('MAS'));\n",
      "INSERT INTO Tags (TagID, TagName, Active, AddedBy, AddedOn, OrganizationID) VALUES (NEWID(), 'Queue' , '1',dbo.GetUserIDByUserName('ADMIN') ,GETDATE ( ),dbo.GetOrganizationIDByShortName('MAS'));\n",
      "INSERT INTO Tags (TagID, TagName, Active, AddedBy, AddedOn, OrganizationID) VALUES (NEWID(), 'RPA' , '1',dbo.GetUserIDByUserName('ADMIN') ,GETDATE ( ),dbo.GetOrganizationIDByShortName('MAS'));\n",
      "INSERT INTO Tags (TagID, TagName, Active, AddedBy, AddedOn, OrganizationID) VALUES (NEWID(), 'Relational' , '1',dbo.GetUserIDByUserName('ADMIN') ,GETDATE ( ),dbo.GetOrganizationIDByShortName('MAS'));\n",
      "INSERT INTO Tags (TagID, TagName, Active, AddedBy, AddedOn, OrganizationID) VALUES (NEWID(), 'Release Management' , '1',dbo.GetUserIDByUserName('ADMIN') ,GETDATE ( ),dbo.GetOrganizationIDByShortName('MAS'));\n",
      "INSERT INTO Tags (TagID, TagName, Active, AddedBy, AddedOn, OrganizationID) VALUES (NEWID(), 'Reporting' , '1',dbo.GetUserIDByUserName('ADMIN') ,GETDATE ( ),dbo.GetOrganizationIDByShortName('MAS'));\n",
      "INSERT INTO Tags (TagID, TagName, Active, AddedBy, AddedOn, OrganizationID) VALUES (NEWID(), 'Repository' , '1',dbo.GetUserIDByUserName('ADMIN') ,GETDATE ( ),dbo.GetOrganizationIDByShortName('MAS'));\n",
      "INSERT INTO Tags (TagID, TagName, Active, AddedBy, AddedOn, OrganizationID) VALUES (NEWID(), 'Rule Engine' , '1',dbo.GetUserIDByUserName('ADMIN') ,GETDATE ( ),dbo.GetOrganizationIDByShortName('MAS'));\n",
      "INSERT INTO Tags (TagID, TagName, Active, AddedBy, AddedOn, OrganizationID) VALUES (NEWID(), 'SOA' , '1',dbo.GetUserIDByUserName('ADMIN') ,GETDATE ( ),dbo.GetOrganizationIDByShortName('MAS'));\n",
      "INSERT INTO Tags (TagID, TagName, Active, AddedBy, AddedOn, OrganizationID) VALUES (NEWID(), 'SSIS' , '1',dbo.GetUserIDByUserName('ADMIN') ,GETDATE ( ),dbo.GetOrganizationIDByShortName('MAS'));\n",
      "INSERT INTO Tags (TagID, TagName, Active, AddedBy, AddedOn, OrganizationID) VALUES (NEWID(), 'Scheduling' , '1',dbo.GetUserIDByUserName('ADMIN') ,GETDATE ( ),dbo.GetOrganizationIDByShortName('MAS'));\n",
      "INSERT INTO Tags (TagID, TagName, Active, AddedBy, AddedOn, OrganizationID) VALUES (NEWID(), 'Search' , '1',dbo.GetUserIDByUserName('ADMIN') ,GETDATE ( ),dbo.GetOrganizationIDByShortName('MAS'));\n",
      "INSERT INTO Tags (TagID, TagName, Active, AddedBy, AddedOn, OrganizationID) VALUES (NEWID(), 'Security' , '1',dbo.GetUserIDByUserName('ADMIN') ,GETDATE ( ),dbo.GetOrganizationIDByShortName('MAS'));\n",
      "INSERT INTO Tags (TagID, TagName, Active, AddedBy, AddedOn, OrganizationID) VALUES (NEWID(), 'Serverless' , '1',dbo.GetUserIDByUserName('ADMIN') ,GETDATE ( ),dbo.GetOrganizationIDByShortName('MAS'));\n",
      "INSERT INTO Tags (TagID, TagName, Active, AddedBy, AddedOn, OrganizationID) VALUES (NEWID(), 'Service Management' , '1',dbo.GetUserIDByUserName('ADMIN') ,GETDATE ( ),dbo.GetOrganizationIDByShortName('MAS'));\n",
      "INSERT INTO Tags (TagID, TagName, Active, AddedBy, AddedOn, OrganizationID) VALUES (NEWID(), 'Storage' , '1',dbo.GetUserIDByUserName('ADMIN') ,GETDATE ( ),dbo.GetOrganizationIDByShortName('MAS'));\n",
      "INSERT INTO Tags (TagID, TagName, Active, AddedBy, AddedOn, OrganizationID) VALUES (NEWID(), 'Streaming' , '1',dbo.GetUserIDByUserName('ADMIN') ,GETDATE ( ),dbo.GetOrganizationIDByShortName('MAS'));\n",
      "INSERT INTO Tags (TagID, TagName, Active, AddedBy, AddedOn, OrganizationID) VALUES (NEWID(), 'Systems Management' , '1',dbo.GetUserIDByUserName('ADMIN') ,GETDATE ( ),dbo.GetOrganizationIDByShortName('MAS'));\n",
      "INSERT INTO Tags (TagID, TagName, Active, AddedBy, AddedOn, OrganizationID) VALUES (NEWID(), 'Teradata' , '1',dbo.GetUserIDByUserName('ADMIN') ,GETDATE ( ),dbo.GetOrganizationIDByShortName('MAS'));\n",
      "INSERT INTO Tags (TagID, TagName, Active, AddedBy, AddedOn, OrganizationID) VALUES (NEWID(), 'Testing' , '1',dbo.GetUserIDByUserName('ADMIN') ,GETDATE ( ),dbo.GetOrganizationIDByShortName('MAS'));\n",
      "INSERT INTO Tags (TagID, TagName, Active, AddedBy, AddedOn, OrganizationID) VALUES (NEWID(), 'Ticketing' , '1',dbo.GetUserIDByUserName('ADMIN') ,GETDATE ( ),dbo.GetOrganizationIDByShortName('MAS'));\n",
      "INSERT INTO Tags (TagID, TagName, Active, AddedBy, AddedOn, OrganizationID) VALUES (NEWID(), 'UI' , '1',dbo.GetUserIDByUserName('ADMIN') ,GETDATE ( ),dbo.GetOrganizationIDByShortName('MAS'));\n",
      "INSERT INTO Tags (TagID, TagName, Active, AddedBy, AddedOn, OrganizationID) VALUES (NEWID(), 'Version Control' , '1',dbo.GetUserIDByUserName('ADMIN') ,GETDATE ( ),dbo.GetOrganizationIDByShortName('MAS'));\n",
      "INSERT INTO Tags (TagID, TagName, Active, AddedBy, AddedOn, OrganizationID) VALUES (NEWID(), 'Web Server' , '1',dbo.GetUserIDByUserName('ADMIN') ,GETDATE ( ),dbo.GetOrganizationIDByShortName('MAS'));\n",
      "INSERT INTO Tags (TagID, TagName, Active, AddedBy, AddedOn, OrganizationID) VALUES (NEWID(), 'Web Technologies' , '1',dbo.GetUserIDByUserName('ADMIN') ,GETDATE ( ),dbo.GetOrganizationIDByShortName('MAS'));\n",
      "INSERT INTO Tags (TagID, TagName, Active, AddedBy, AddedOn, OrganizationID) VALUES (NEWID(), 'Workflow' , '1',dbo.GetUserIDByUserName('ADMIN') ,GETDATE ( ),dbo.GetOrganizationIDByShortName('MAS'));\n",
      "INSERT INTO Tags (TagID, TagName, Active, AddedBy, AddedOn, OrganizationID) VALUES (NEWID(), 'XML' , '1',dbo.GetUserIDByUserName('ADMIN') ,GETDATE ( ),dbo.GetOrganizationIDByShortName('MAS'));\n"
     ]
    }
   ],
   "source": [
    "for tagName in df[\"TagName\"]:\n",
    "    #print (tagName)\n",
    "    print (\"INSERT INTO Tags (TagID, TagName, Active, AddedBy, AddedOn, OrganizationID) VALUES (NEWID(), '\"+ str(tagName) +\"' , '1',dbo.GetUserIDByUserName('ADMIN') ,GETDATE ( ),dbo.GetOrganizationIDByShortName('MAS'));\")"
   ]
  },
  {
   "cell_type": "code",
   "execution_count": 31,
   "metadata": {},
   "outputs": [
    {
     "name": "stdout",
     "output_type": "stream",
     "text": [
      "<class 'pandas.core.frame.DataFrame'>\n"
     ]
    }
   ],
   "source": [
    "print (type(df))"
   ]
  },
  {
   "cell_type": "code",
   "execution_count": null,
   "metadata": {},
   "outputs": [],
   "source": []
  }
 ],
 "metadata": {
  "kernelspec": {
   "display_name": "Python 3",
   "language": "python",
   "name": "python3"
  },
  "language_info": {
   "codemirror_mode": {
    "name": "ipython",
    "version": 3
   },
   "file_extension": ".py",
   "mimetype": "text/x-python",
   "name": "python",
   "nbconvert_exporter": "python",
   "pygments_lexer": "ipython3",
   "version": "3.6.4"
  }
 },
 "nbformat": 4,
 "nbformat_minor": 2
}
