{
 "cells": [
  {
   "cell_type": "code",
   "execution_count": 26,
   "metadata": {},
   "outputs": [],
   "source": [
    "import json\n",
    "import csv\n",
    "import pandas\n",
    "import ast\n",
    "import datetime\n",
    "import os\n",
    "from datetime import timedelta as TimeDelta"
   ]
  },
  {
   "cell_type": "code",
   "execution_count": 27,
   "metadata": {},
   "outputs": [],
   "source": [
    "# To be incremented or stored and retrived from file\n",
    "Unique_ID = 0\n",
    "\n",
    "Unique_ID_File_Path = r'Notification_Unique_ID.txt'\n",
    "\n",
    "Notification_File_Path = r'Notifications.csv';"
   ]
  },
  {
   "cell_type": "code",
   "execution_count": 28,
   "metadata": {},
   "outputs": [],
   "source": [
    "def Write_Unique_ID(Unique_ID):\n",
    "    global Unique_ID_File_Path\n",
    "        \n",
    "    file = open(Unique_ID_File_Path, 'w')\n",
    "    file.write(str(Unique_ID))\n",
    "    file.close()"
   ]
  },
  {
   "cell_type": "code",
   "execution_count": 29,
   "metadata": {},
   "outputs": [],
   "source": [
    "def Read_Unique_ID():\n",
    "    global Unique_ID_File_Path\n",
    "    if not (os.path.exists(Unique_ID_File_Path)):\n",
    "        Unique_ID = 0\n",
    "        Write_Unique_ID(str(Unique_ID))\n",
    "        \n",
    "    file = open(Unique_ID_File_Path, 'r') \n",
    "    Unique_ID = str(file.read())\n",
    "    file.close()\n",
    "    return Unique_ID"
   ]
  },
  {
   "cell_type": "code",
   "execution_count": 30,
   "metadata": {},
   "outputs": [],
   "source": [
    "def Get_Unique_ID():\n",
    "    global Unique_ID;\n",
    "    Unique_ID = int(Read_Unique_ID());\n",
    "    Unique_ID = Unique_ID + 1;\n",
    "    Write_Unique_ID(Unique_ID);    \n",
    "    #print (Unique_ID)\n",
    "    return Unique_ID"
   ]
  },
  {
   "cell_type": "code",
   "execution_count": 1,
   "metadata": {},
   "outputs": [],
   "source": [
    "class Notification(object):\n",
    "    ID = 0   \n",
    "    FarmerID = 0   \n",
    "    Farmer_Mobile_Number = 0\n",
    "    \n",
    "    Resource_Type = 0\n",
    "    No_Of_Resources = 0\n",
    "    \n",
    "    Latitude = 0\n",
    "    Longitude = 0\n",
    "    \n",
    "    Start_Date = 0\n",
    "    End_Date = 0\n",
    "    \n",
    "    Published_Date = 0\n",
    "    \n",
    "    def __init__(self, ID, farmerID ,farmer_Mobile_Number, resource_Type, no_Of_Resources, start_Date, end_Date, published_Date):\n",
    "        self.ID = ID\n",
    "        \n",
    "        self.FarmerID = farmerID\n",
    "        self.Farmer_Mobile_Number = farmer_Mobile_Number\n",
    "        \n",
    "        self.Resource_Type = resource_Type \n",
    "        self.No_Of_Resources = no_Of_Resources\n",
    "        \n",
    "        self.Start_Date = start_Date\n",
    "        self.End_Date = end_Date\n",
    "        \n",
    "        self.published_Date = published_Date\n",
    "    \n",
    "    def __str__(self):\n",
    "        return (str(self.__dict__))"
   ]
  },
  {
   "cell_type": "code",
   "execution_count": 80,
   "metadata": {},
   "outputs": [],
   "source": [
    "def Create_Notification_Object(list_Notification_Object):\n",
    "    ID  = list_Notification_Object[0]\n",
    "    farmerID = list_Notification_Object[1]\n",
    "    farmer_Mobile_Number = list_Notification_Object[2]\n",
    "    resource_Type = list_Notification_Object[3]\n",
    "    no_Of_Resources = list_Notification_Object[4]\n",
    "    start_Date = list_Notification_Object[5]\n",
    "    end_Date = list_Notification_Object[6]\n",
    "    published_Date = list_Notification_Object[7]\n",
    "    \n",
    "    new_Notification_object = Notification(ID, farmerID ,farmer_Mobile_Number, resource_Type, no_Of_Resources, start_Date, end_Date, published_Date)\n",
    "    \n",
    "    return new_Notification_object"
   ]
  },
  {
   "cell_type": "code",
   "execution_count": 20,
   "metadata": {},
   "outputs": [],
   "source": [
    "list_Notification_Object = []"
   ]
  },
  {
   "cell_type": "code",
   "execution_count": 23,
   "metadata": {},
   "outputs": [
    {
     "name": "stdout",
     "output_type": "stream",
     "text": [
      "{'ID': 7, 'FarmerID': 'MH12000130', 'Farmer_Mobile_Number': '7703165238', 'Resource_Type': 'Labour', 'No_Of_Resources': 10, 'Start_Date': '2018-04-04 18:09:19.788116', 'End_Date': '2018-06-03 18:09:19.788116', 'published_Date': '2018-04-04 18:09:19.788116'}\n"
     ]
    }
   ],
   "source": [
    "notification_Object = Notifications(Get_Unique_ID(),'MH12000130','7703165238','Labour', 10, str(datetime.datetime.now()+ TimeDelta(days=0)), str(datetime.datetime.now() + TimeDelta(days=60)),str(datetime.datetime.now()))\n",
    "print (str(notification_Object))\n",
    "list_Notification_Object.append(notification_Object)\n",
    "\n"
   ]
  },
  {
   "cell_type": "code",
   "execution_count": 50,
   "metadata": {},
   "outputs": [
    {
     "name": "stdout",
     "output_type": "stream",
     "text": [
      "[{\"ID\": 5, \"FarmerID\": \"MH12000130\", \"Farmer_Mobile_Number\": \"7703165238\", \"Resource_Type\": \"Pesticide\", \"No_Of_Resources\": 5, \"Start_Date\": \"2018-04-04 18:07:52.004154\", \"End_Date\": \"2018-04-09 18:07:52.004154\", \"published_Date\": \"2018-04-04 18:07:52.004154\"}, {\"ID\": 6, \"FarmerID\": \"MH12000130\", \"Farmer_Mobile_Number\": \"7703165238\", \"Resource_Type\": \"Tractor\", \"No_Of_Resources\": 1, \"Start_Date\": \"2018-04-04 18:08:33.392585\", \"End_Date\": \"2018-04-06 18:08:33.392585\", \"published_Date\": \"2018-04-04 18:08:33.392585\"}, {\"ID\": 7, \"FarmerID\": \"MH12000130\", \"Farmer_Mobile_Number\": \"7703165238\", \"Resource_Type\": \"Labour\", \"No_Of_Resources\": 10, \"Start_Date\": \"2018-04-04 18:09:19.788116\", \"End_Date\": \"2018-06-03 18:09:19.788116\", \"published_Date\": \"2018-04-04 18:09:19.788116\"}]\n"
     ]
    }
   ],
   "source": [
    "json_str = json.dumps(list_Notification_Object, default=lambda o: o.__dict__)\n",
    "\n",
    "print (json_str)"
   ]
  },
  {
   "cell_type": "code",
   "execution_count": 84,
   "metadata": {},
   "outputs": [],
   "source": [
    "def Write_List_In_File(CSV_File_Path, List_To_Write):\n",
    "\n",
    "    with open(CSV_File_Path, 'a',newline='') as myfile:\n",
    "        wr = csv.writer(myfile)\n",
    "        for list_Object in List_To_Write:\n",
    "            dict_Notification_Object = ast.literal_eval(str(list_Object))\n",
    "            #print (dict_Notification_Object)\n",
    "            list_Object_Value = []\n",
    "            for key in dict_Notification_Object:\n",
    "                list_Object_Value.append(dict_Notification_Object[key])\n",
    "            wr.writerow(list_Object_Value)"
   ]
  },
  {
   "cell_type": "code",
   "execution_count": 85,
   "metadata": {},
   "outputs": [
    {
     "ename": "PermissionError",
     "evalue": "[Errno 13] Permission denied: 'Notifications.csv'",
     "output_type": "error",
     "traceback": [
      "\u001b[1;31m---------------------------------------------------------------------------\u001b[0m",
      "\u001b[1;31mPermissionError\u001b[0m                           Traceback (most recent call last)",
      "\u001b[1;32m<ipython-input-85-9336ae83e1ab>\u001b[0m in \u001b[0;36m<module>\u001b[1;34m()\u001b[0m\n\u001b[1;32m----> 1\u001b[1;33m \u001b[0mWrite_List_In_File\u001b[0m\u001b[1;33m(\u001b[0m\u001b[0mNotification_File_Path\u001b[0m\u001b[1;33m,\u001b[0m \u001b[0mlist_Notification_Object\u001b[0m\u001b[1;33m)\u001b[0m\u001b[1;33m\u001b[0m\u001b[0m\n\u001b[0m",
      "\u001b[1;32m<ipython-input-84-727db10bd487>\u001b[0m in \u001b[0;36mWrite_List_In_File\u001b[1;34m(CSV_File_Path, List_To_Write)\u001b[0m\n\u001b[0;32m      1\u001b[0m \u001b[1;32mdef\u001b[0m \u001b[0mWrite_List_In_File\u001b[0m\u001b[1;33m(\u001b[0m\u001b[0mCSV_File_Path\u001b[0m\u001b[1;33m,\u001b[0m \u001b[0mList_To_Write\u001b[0m\u001b[1;33m)\u001b[0m\u001b[1;33m:\u001b[0m\u001b[1;33m\u001b[0m\u001b[0m\n\u001b[0;32m      2\u001b[0m \u001b[1;33m\u001b[0m\u001b[0m\n\u001b[1;32m----> 3\u001b[1;33m     \u001b[1;32mwith\u001b[0m \u001b[0mopen\u001b[0m\u001b[1;33m(\u001b[0m\u001b[0mCSV_File_Path\u001b[0m\u001b[1;33m,\u001b[0m \u001b[1;34m'a'\u001b[0m\u001b[1;33m,\u001b[0m\u001b[0mnewline\u001b[0m\u001b[1;33m=\u001b[0m\u001b[1;34m''\u001b[0m\u001b[1;33m)\u001b[0m \u001b[1;32mas\u001b[0m \u001b[0mmyfile\u001b[0m\u001b[1;33m:\u001b[0m\u001b[1;33m\u001b[0m\u001b[0m\n\u001b[0m\u001b[0;32m      4\u001b[0m         \u001b[0mwr\u001b[0m \u001b[1;33m=\u001b[0m \u001b[0mcsv\u001b[0m\u001b[1;33m.\u001b[0m\u001b[0mwriter\u001b[0m\u001b[1;33m(\u001b[0m\u001b[0mmyfile\u001b[0m\u001b[1;33m)\u001b[0m\u001b[1;33m\u001b[0m\u001b[0m\n\u001b[0;32m      5\u001b[0m         \u001b[1;32mfor\u001b[0m \u001b[0mlist_Object\u001b[0m \u001b[1;32min\u001b[0m \u001b[0mList_To_Write\u001b[0m\u001b[1;33m:\u001b[0m\u001b[1;33m\u001b[0m\u001b[0m\n",
      "\u001b[1;31mPermissionError\u001b[0m: [Errno 13] Permission denied: 'Notifications.csv'"
     ]
    }
   ],
   "source": [
    "Write_List_In_File(Notification_File_Path, list_Notification_Object)"
   ]
  },
  {
   "cell_type": "code",
   "execution_count": null,
   "metadata": {},
   "outputs": [],
   "source": []
  },
  {
   "cell_type": "code",
   "execution_count": 86,
   "metadata": {},
   "outputs": [],
   "source": [
    "def Add_Notifications_Data(string_Json_Data):\n",
    "    global Notification_File_Path\n",
    "    json_Object = json.loads(string_Json_Data)\n",
    "    list_Notification_Object = []\n",
    "    \n",
    "    for key in json_Object:\n",
    "        if (key == 'ID'):\n",
    "            list_Notification_Object.append( Get_Unique_ID())\n",
    "        elif (key == 'published_Date'):\n",
    "            list_Notification_Object.append(str(datetime.datetime.now()))\n",
    "        else:\n",
    "            list_Notification_Object.append(json_Object[key])\n",
    "    \n",
    "    \n",
    "            \n",
    "    notification_Object = Create_Notification_Object(list_Notification_Object)\n",
    "    \n",
    "    print (notification_Object)\n",
    "    \n",
    "    list_Notification_Object = []\n",
    "    list_Notification_Object.append(notification_Object)\n",
    "    print ((\"2\"))\n",
    "    \n",
    "    Write_List_In_File(Notification_File_Path , list_Notification_Object)"
   ]
  },
  {
   "cell_type": "code",
   "execution_count": null,
   "metadata": {},
   "outputs": [],
   "source": []
  },
  {
   "cell_type": "code",
   "execution_count": 87,
   "metadata": {},
   "outputs": [],
   "source": [
    "s = '''{\"ID\": 5, \"FarmerID\": \"MH12000130\", \"Farmer_Mobile_Number\": \"7703165238\", \"Resource_Type\": \"Pesticide\", \"No_Of_Resources\": 5, \"Start_Date\": \"2018-04-04 18:07:52.004154\", \"End_Date\": \"2018-04-09 18:07:52.004154\", \"published_Date\": \"2018-04-04 18:07:52.004154\"}'''"
   ]
  },
  {
   "cell_type": "code",
   "execution_count": 88,
   "metadata": {},
   "outputs": [
    {
     "name": "stdout",
     "output_type": "stream",
     "text": [
      "{'ID': 16, 'FarmerID': 'MH12000130', 'Farmer_Mobile_Number': '7703165238', 'Resource_Type': 'Pesticide', 'No_Of_Resources': 5, 'Start_Date': '2018-04-04 18:07:52.004154', 'End_Date': '2018-04-09 18:07:52.004154', 'published_Date': '2018-04-04 19:25:39.057588'}\n",
      "2\n"
     ]
    }
   ],
   "source": [
    "Add_Notifications_Data(s)"
   ]
  },
  {
   "cell_type": "code",
   "execution_count": null,
   "metadata": {},
   "outputs": [],
   "source": []
  },
  {
   "cell_type": "code",
   "execution_count": null,
   "metadata": {},
   "outputs": [],
   "source": []
  }
 ],
 "metadata": {
  "kernelspec": {
   "display_name": "Python 3",
   "language": "python",
   "name": "python3"
  },
  "language_info": {
   "codemirror_mode": {
    "name": "ipython",
    "version": 3
   },
   "file_extension": ".py",
   "mimetype": "text/x-python",
   "name": "python",
   "nbconvert_exporter": "python",
   "pygments_lexer": "ipython3",
   "version": "3.6.2rc2"
  }
 },
 "nbformat": 4,
 "nbformat_minor": 2
}
