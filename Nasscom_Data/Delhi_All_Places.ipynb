{
 "cells": [
  {
   "cell_type": "code",
   "execution_count": 1,
   "metadata": {},
   "outputs": [],
   "source": [
    "from googleplaces import GooglePlaces, types, lang\n",
    "import pickle\n",
    "import time\n",
    "\n",
    "# pip install python-google-places, pickle"
   ]
  },
  {
   "cell_type": "code",
   "execution_count": 2,
   "metadata": {},
   "outputs": [],
   "source": [
    "# API_KEY = 'Your API KEY'\n",
    "\n",
    "\n",
    "google_places = GooglePlaces(API_KEY)"
   ]
  },
  {
   "cell_type": "code",
   "execution_count": 3,
   "metadata": {},
   "outputs": [],
   "source": [
    "latitude = 28.520516\n",
    "longitude = 77.145236\n",
    "\n",
    "location_To_Search = {'lat' : latitude, 'lng' : longitude}\n",
    "\n",
    "time_To_Sleep = 10 # in secs\n",
    "number_Of_Request_Required_For_Time_Sleep = 10"
   ]
  },
  {
   "cell_type": "code",
   "execution_count": 2,
   "metadata": {},
   "outputs": [],
   "source": [
    "# Below is boumdary range of Delhi state in box pattern\n",
    "lat_Lower_Range = 28.404374\n",
    "lat_Upper_Range = 28.88346\n",
    "long_Lower_Range = 76.239726\n",
    "long_Upper_Range = 77.343423\n",
    "\n",
    "\n",
    "# Max Radius to search\n",
    "max_Radius_Of_Search = 50000\n",
    "\n",
    "# Searched places in Delhi\n",
    "list_Places_Query_Result = []\n",
    "list_Place_Id_In_Query_Result = []\n",
    "\n",
    "# All types of places\n",
    "\n",
    "all_Types_To_Search = [types.TYPE_TRAIN_STATION, types.TYPE_TAXI_STAND, types.TYPE_TRANSIT_STATION, \n",
    "                   types.TYPE_AIRPORT, types.TYPE_SHOPPING_MALL, types.TYPE_AMUSEMENT_PARK, types.TYPE_AQUARIUM, \n",
    "                   types.TYPE_BEAUTY_SALON, types.TYPE_CAFE, types.TYPE_BOWLING_ALLEY,  types.TYPE_GAS_STATION,  \n",
    "                   types.TYPE_GROCERY_OR_SUPERMARKET, types.TYPE_GYM, types.TYPE_LIBRARY,  types.TYPE_HOSPITAL,  \n",
    "                   types.TYPE_MOVIE_THEATER, types.TYPE_MUSEUM, types.TYPE_NIGHT_CLUB, types.TYPE_PARK, types.TYPE_PARKING, \n",
    "                   types.TYPE_RESTAURANT, types.TYPE_SHOPPING_MALL, types.TYPE_SPA, types.TYPE_ZOO, types.TYPE_BAR]\n",
    "\n",
    "types_To_Search =  [ types.TYPE_HOSPITAL]\n",
    "\n",
    "\n",
    "file_Path_To_Store_Data = 'Places.pkl'"
   ]
  },
  {
   "cell_type": "code",
   "execution_count": 5,
   "metadata": {},
   "outputs": [],
   "source": [
    "def Create_Location_Dictionary(latitude, longitude):\n",
    "    return {'lat' : latitude, 'lng' : longitude}    "
   ]
  },
  {
   "cell_type": "code",
   "execution_count": 6,
   "metadata": {},
   "outputs": [],
   "source": [
    "def Get_Query_Result(location_To_Search, max_Radius, types_To_Search):\n",
    "    \n",
    "    return google_places.nearby_search(lat_lng=location_To_Search, radius=max_Radius, types = types_To_Search)"
   ]
  },
  {
   "cell_type": "code",
   "execution_count": 7,
   "metadata": {},
   "outputs": [],
   "source": [
    "def Is_Latitude_Longitude_In_Range(location):\n",
    "    \n",
    "    if  lat_Lower_Range <= location['lat'] and location['lat'] <= lat_Upper_Range:\n",
    "        if long_Lower_Range <= location['lng'] and location['lng'] <= long_Upper_Range:\n",
    "            return True\n",
    "        else:\n",
    "            return False\n",
    "    else:\n",
    "        return False"
   ]
  },
  {
   "cell_type": "code",
   "execution_count": 8,
   "metadata": {},
   "outputs": [],
   "source": [
    "\n",
    "def Find_All_Places(location):\n",
    "    global list_Places_Query_Result\n",
    "    global list_Place_Id_In_Query_Result\n",
    "    global total_calls\n",
    "    global types_To_Search\n",
    "    global max_Radius_Of_Search\n",
    "    \n",
    "    query_Result = Get_Query_Result(location, max_Radius_Of_Search, types_To_Search)\n",
    "    \n",
    "    total_calls = total_calls + 1\n",
    "    \n",
    "    if (total_calls > 0 and total_calls % 10 == 0 ):\n",
    "        print(\"Total Calls \" + str(total_calls))\n",
    "    \n",
    "    if (total_calls > 0 and total_calls % number_Of_Request_Required_For_Time_Sleep == 0 ):\n",
    "        time.sleep(time_To_Sleep)\n",
    "    \n",
    "    if(len(list_Places_Query_Result) > 0 and len(list_Places_Query_Result) % 100 == 0):\n",
    "        print(\" ##########################################   Total places found: \" + str(len(list_Places_Query_Result)) )\n",
    "        time.sleep(30)\n",
    "\n",
    "    \n",
    "    for place in query_Result.places:\n",
    "        if Is_Latitude_Longitude_In_Range(place.geo_location):\n",
    "            if place.place_id not in list_Place_Id_In_Query_Result:\n",
    "                list_Places_Query_Result.append(place)\n",
    "                list_Place_Id_In_Query_Result.append(place.place_id)\n",
    "                Find_All_Places(place.geo_location)\n",
    "        "
   ]
  },
  {
   "cell_type": "code",
   "execution_count": 14,
   "metadata": {},
   "outputs": [
    {
     "name": "stdout",
     "output_type": "stream",
     "text": [
      " @@@@@@@@@@@@@@@@@@@@@@@@@@@@@@@@@@@@@@@@@@@@@  Type train_station  1/25\n",
      " @@@@@@@@@@@@@@@@@@@@@@@@@@@@@@@@@@@@@@@@@@@@@  Type taxi_stand  2/25\n",
      " @@@@@@@@@@@@@@@@@@@@@@@@@@@@@@@@@@@@@@@@@@@@@  Type transit_station  3/25\n",
      " @@@@@@@@@@@@@@@@@@@@@@@@@@@@@@@@@@@@@@@@@@@@@  Type airport  4/25\n",
      " @@@@@@@@@@@@@@@@@@@@@@@@@@@@@@@@@@@@@@@@@@@@@  Type shopping_mall  5/25\n",
      " @@@@@@@@@@@@@@@@@@@@@@@@@@@@@@@@@@@@@@@@@@@@@  Type amusement_park  6/25\n",
      " @@@@@@@@@@@@@@@@@@@@@@@@@@@@@@@@@@@@@@@@@@@@@  Type aquarium  7/25\n",
      " @@@@@@@@@@@@@@@@@@@@@@@@@@@@@@@@@@@@@@@@@@@@@  Type beauty_salon  8/25\n",
      " @@@@@@@@@@@@@@@@@@@@@@@@@@@@@@@@@@@@@@@@@@@@@  Type cafe  9/25\n",
      " @@@@@@@@@@@@@@@@@@@@@@@@@@@@@@@@@@@@@@@@@@@@@  Type bowling_alley  10/25\n",
      " @@@@@@@@@@@@@@@@@@@@@@@@@@@@@@@@@@@@@@@@@@@@@  Type gas_station  11/25\n",
      " @@@@@@@@@@@@@@@@@@@@@@@@@@@@@@@@@@@@@@@@@@@@@  Type grocery_or_supermarket  12/25\n",
      " @@@@@@@@@@@@@@@@@@@@@@@@@@@@@@@@@@@@@@@@@@@@@  Type gym  13/25\n",
      " @@@@@@@@@@@@@@@@@@@@@@@@@@@@@@@@@@@@@@@@@@@@@  Type library  14/25\n",
      " @@@@@@@@@@@@@@@@@@@@@@@@@@@@@@@@@@@@@@@@@@@@@  Type hospital  15/25\n",
      " @@@@@@@@@@@@@@@@@@@@@@@@@@@@@@@@@@@@@@@@@@@@@  Type movie_theater  16/25\n",
      " @@@@@@@@@@@@@@@@@@@@@@@@@@@@@@@@@@@@@@@@@@@@@  Type museum  17/25\n",
      " @@@@@@@@@@@@@@@@@@@@@@@@@@@@@@@@@@@@@@@@@@@@@  Type night_club  18/25\n",
      " @@@@@@@@@@@@@@@@@@@@@@@@@@@@@@@@@@@@@@@@@@@@@  Type park  19/25\n",
      " @@@@@@@@@@@@@@@@@@@@@@@@@@@@@@@@@@@@@@@@@@@@@  Type parking  20/25\n",
      " @@@@@@@@@@@@@@@@@@@@@@@@@@@@@@@@@@@@@@@@@@@@@  Type restaurant  21/25\n",
      " @@@@@@@@@@@@@@@@@@@@@@@@@@@@@@@@@@@@@@@@@@@@@  Type shopping_mall  22/25\n",
      " @@@@@@@@@@@@@@@@@@@@@@@@@@@@@@@@@@@@@@@@@@@@@  Type spa  23/25\n",
      "Total Calls 1290\n",
      "Total Calls 1300\n",
      " @@@@@@@@@@@@@@@@@@@@@@@@@@@@@@@@@@@@@@@@@@@@@  Type zoo  24/25\n",
      "Total Calls 1310\n",
      "Total Calls 1320\n",
      " @@@@@@@@@@@@@@@@@@@@@@@@@@@@@@@@@@@@@@@@@@@@@  Type bar  25/25\n",
      "Total Calls 1330\n",
      "Total Calls 1340\n",
      "Total Calls 1350\n",
      " ##########################################   Total places found: 1200\n",
      "Total Calls 1360\n",
      "Total Calls 1370\n",
      "Total Calls 1380\n",
      "Total Calls 1390\n"
     ]
    }
   ],
   "source": [
    "# Searched places in Delhi\n",
    "# list_Places_Query_Result = []\n",
    "# list_Place_Id_In_Query_Result = []\n",
    "\n",
    "value_To_Increment = 0.2\n",
    "count = 0\n",
    "\n",
    "\n",
    "for type_Value in all_Types_To_Search:\n",
    "    temp_lat = lat_Lower_Range\n",
    "    temp_lng = long_Lower_Range\n",
    "\n",
    "    count = count + 1\n",
    "    types_To_Search = [type_Value]\n",
    "    print (\" @@@@@@@@@@@@@@@@@@@@@@@@@@@@@@@@@@@@@@@@@@@@@  Type \" + type_Value + \"  \" + str(count) + '/' + str(len(all_Types_To_Search)))\n",
    "    \n",
    "    if (count > 0):\n",
    "        while temp_lat <= lat_Upper_Range:\n",
    "            while temp_lng <=long_Upper_Range:\n",
    "                location_To_Search = {'lat' : temp_lat, 'lng' : temp_lng}        \n",
    "                Find_All_Places(location_To_Search)\n",
    "\n",
    "                temp_lng = temp_lng + value_To_Increment\n",
    "\n",
    "            temp_lat = temp_lat + value_To_Increment\n",
    "\n",
    "        time.sleep(30)"
   ]
  },
  {
   "cell_type": "code",
   "execution_count": 15,
   "metadata": {},
   "outputs": [],
   "source": [
    "with open(file_Path_To_Store_Data, 'wb') as f:\n",
    "    pickle.dump(list_Places_Query_Result, f)"
   ]
  },
  {
   "cell_type": "code",
   "execution_count": 4,
   "metadata": {},
   "outputs": [
    {
     "data": {
      "text/plain": [
       "1235"
      ]
     },
     "execution_count": 4,
     "metadata": {},
     "output_type": "execute_result"
    }
   ],
   "source": [
    "import pickle\n",
    "\n",
    "list_Places_Delhi = []\n",
    "file_Path_To_Store_Data = 'Places.pkl'\n",
    "\n",
    "with open(file_Path_To_Store_Data, 'rb') as f:\n",
    "    list_Places_Delhi = pickle.load(f)\n",
    "    \n",
    "len(list_Places_Delhi)"
   ]
  },
  {
   "cell_type": "code",
   "execution_count": 5,
   "metadata": {},
   "outputs": [
    {
     "name": "stderr",
     "output_type": "stream",
     "text": [
      "c:\\users\\sachin\\appdata\\local\\programs\\python\\python36\\lib\\site-packages\\geopy\\geocoders\\osm.py:138: UserWarning: Using Nominatim with the default \"geopy/1.16.0\" `user_agent` is strongly discouraged, as it violates Nominatim's ToS https://operations.osmfoundation.org/policies/nominatim/ and may possibly cause 403 and 429 HTTP errors. Please specify a custom `user_agent` with `Nominatim(user_agent=\"my-application\")` or by overriding the default `user_agent`: `geopy.geocoders.options.default_user_agent = \"my-application\"`. In geopy 2.0 this will become an exception.\n",
      "  UserWarning\n"
     ]
    }
   ],
   "source": [
    "from geopy.geocoders import Nominatim\n",
    "geolocator = Nominatim(user_agent='geopy/1.16.0')"
   ]
  },
  {
   "cell_type": "code",
   "execution_count": 9,
   "metadata": {},
   "outputs": [
    {
     "name": "stdout",
     "output_type": "stream",
     "text": [
      "Proper Places of Delhi 24\n",
      "Total places filtered 50/1235\n",
      "Proper Places of Delhi 47\n",
      "Total places filtered 100/1235\n",
      "Proper Places of Delhi 84\n",
      "Total places filtered 150/1235\n",
      "Proper Places of Delhi 119\n",
      "Total places filtered 200/1235\n",
      "Proper Places of Delhi 135\n",
      "Total places filtered 250/1235\n",
      "Proper Places of Delhi 154\n",
      "Total places filtered 300/1235\n",
      "Proper Places of Delhi 183\n",
      "Total places filtered 350/1235\n",
      "Proper Places of Delhi 202\n",
      "Total places filtered 400/1235\n",
      "Proper Places of Delhi 218\n",
      "Total places filtered 450/1235\n",
      "Proper Places of Delhi 240\n",
      "Total places filtered 500/1235\n",
      "Proper Places of Delhi 248\n",
      "Total places filtered 550/1235\n",
      "Proper Places of Delhi 267\n",
      "Total places filtered 600/1235\n",
      "Proper Places of Delhi 289\n",
      "Total places filtered 650/1235\n",
      "Proper Places of Delhi 321\n",
      "Total places filtered 700/1235\n",
      "Proper Places of Delhi 341\n",
      "Total places filtered 750/1235\n",
      "Proper Places of Delhi 366\n",
      "Total places filtered 800/1235\n",
      "Proper Places of Delhi 371\n",
      "Total places filtered 850/1235\n",
      "Proper Places of Delhi 390\n",
      "Total places filtered 900/1235\n",
      "Proper Places of Delhi 412\n",
      "Total places filtered 950/1235\n",
      "Proper Places of Delhi 439\n",
      "Total places filtered 1000/1235\n",
      "Proper Places of Delhi 470\n",
      "Total places filtered 1050/1235\n",
      "Proper Places of Delhi 494\n",
      "Total places filtered 1100/1235\n",
      "Proper Places of Delhi 517\n",
      "Total places filtered 1150/1235\n",
      "Proper Places of Delhi 535\n",
      "Total places filtered 1200/1235\n"
     ]
    }
   ],
   "source": [
    "delhi_places_Count = 0\n",
    "count = 0\n",
    "list_Proper_Places_Of_Delhi = []\n",
    "list_Places_NOT_In_Delhi =[]\n",
    "\n",
    "for places in list_Places_Delhi:\n",
    "    list_Location = []\n",
    "    list_Location.append(places.geo_location['lat'])\n",
    "    list_Location.append(places.geo_location['lng'])\n",
    "    location = geolocator.reverse(query=list_Location, timeout=10)\n",
    "    \n",
    "    if ( ('delhi' in str(location).lower()) and \n",
    "         ('haryana' not in str(location).lower()) and\n",
    "         ('uttar pradesh' not in str(location).lower()) and \n",
    "         ('rajasthan' not in str(location).lower()) ):\n",
    "        delhi_places_Count = delhi_places_Count + 1\n",
    "        list_Proper_Places_Of_Delhi.append(places)\n",
    "    \n",
    "    else:\n",
    "        list_Places_NOT_In_Delhi.append(places)\n",
    "    \n",
    "    count = count + 1\n",
    "    \n",
    "    if count % 50 == 0:\n",
    "        print (\"Proper Places of Delhi \" + str(len(list_Proper_Places_Of_Delhi)))\n",
    "        print (\"Total places filtered \" + str(count) + \"/\" + str(len(list_Places_Delhi)))\n",
    "        time.sleep(5)"
   ]
  },
  {
   "cell_type": "code",
   "execution_count": 12,
   "metadata": {},
   "outputs": [
    {
     "name": "stdout",
     "output_type": "stream",
     "text": [
      "550\n"
     ]
    }
   ],
   "source": [
    "print(len(list_Proper_Places_Of_Delhi))"
   ]
  },
  {
   "cell_type": "code",
   "execution_count": 13,
   "metadata": {},
   "outputs": [],
   "source": [
    "file_Path_To_Store_Data = 'Delhi_Proper_Places.pkl'\n",
    "\n",
    "\n",
    "with open(file_Path_To_Store_Data, 'wb') as f:\n",
    "    pickle.dump(list_Proper_Places_Of_Delhi, f)"
   ]
  },
  {
   "cell_type": "code",
   "execution_count": 16,
   "metadata": {},
   "outputs": [
    {
     "name": "stdout",
     "output_type": "stream",
     "text": [
      "bus_station\n",
      "bus_station\n",
      "bus_station\n",
      "bus_station\n",
      "bus_station\n",
      "bus_station\n",
      "bus_station\n"
     ]
    }
   ],
   "source": [
    "for places in list_Proper_Places_Of_Delhi:\n",
    "    if 'bus' in (places.types[0]):\n",
    "        print(places.types[0])"
   ]
  },
  {
   "cell_type": "code",
   "execution_count": null,
   "metadata": {},
   "outputs": [],
   "source": []
  }
 ],
 "metadata": {
  "kernelspec": {
   "display_name": "Python 3",
   "language": "python",
   "name": "python3"
  },
  "language_info": {
   "codemirror_mode": {
    "name": "ipython",
    "version": 3
   },
   "file_extension": ".py",
   "mimetype": "text/x-python",
   "name": "python",
   "nbconvert_exporter": "python",
   "pygments_lexer": "ipython3",
   "version": "3.6.2rc2"
  }
 },
 "nbformat": 4,
 "nbformat_minor": 2
}
